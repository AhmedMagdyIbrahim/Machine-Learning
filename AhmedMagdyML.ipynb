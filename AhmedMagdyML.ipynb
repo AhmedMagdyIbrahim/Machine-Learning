{
 "cells": [
  {
   "cell_type": "markdown",
   "metadata": {
    "id": "35roXDEMudbw"
   },
   "source": [
    "# GUC Clustering Project "
   ]
  },
  {
   "cell_type": "code",
   "execution_count": null,
   "metadata": {
    "id": "YCwbCzREudb1"
   },
   "outputs": [],
   "source": []
  },
  {
   "cell_type": "markdown",
   "metadata": {
    "id": "CIiItKbYudb2"
   },
   "source": [
    "**Objective:** \n",
    "The objective of this project teach students how to apply clustering to real data sets\n",
    "\n",
    "The projects aims to teach student: \n",
    "* Which clustering approach to use\n",
    "* Compare between Kmeans, Hierarchal, DBScan, and Gaussian Mixtures  \n",
    "* How to tune the parameters of each data approach\n",
    "* What is the effect of different distance functions (optional) \n",
    "* How to evaluate clustering approachs \n",
    "* How to display the output\n",
    "* What is the effect of normalizing the data \n",
    "\n",
    "Students in this project will use ready-made functions from Sklearn, plotnine, numpy and pandas \n",
    " \n",
    "\n"
   ]
  },
  {
   "cell_type": "code",
   "execution_count": 1,
   "metadata": {
    "id": "MtHElDYdudb3"
   },
   "outputs": [
    {
     "name": "stdout",
     "output_type": "stream",
     "text": [
      "^C\n"
     ]
    }
   ],
   "source": [
    "# if plotnine is not installed in Jupter then use the following command to install it \n",
    "!pip install plotnine"
   ]
  },
  {
   "cell_type": "markdown",
   "metadata": {
    "id": "5RHS5ZoQudb4"
   },
   "source": [
    "Running this project require the following imports "
   ]
  },
  {
   "cell_type": "code",
   "execution_count": 2,
   "metadata": {
    "id": "QrueqJenudb5"
   },
   "outputs": [
    {
     "name": "stdout",
     "output_type": "stream",
     "text": [
      "Defaulting to user installation because normal site-packages is not writeable\n",
      "Requirement already satisfied: plotnine in c:\\users\\mado1\\appdata\\roaming\\python\\python39\\site-packages (0.10.1)\n",
      "Requirement already satisfied: statsmodels>=0.13.2 in d:\\anaconda\\lib\\site-packages (from plotnine) (0.13.2)\n",
      "Requirement already satisfied: scipy>=1.5.0 in d:\\anaconda\\lib\\site-packages (from plotnine) (1.9.1)\n",
      "Requirement already satisfied: matplotlib>=3.5.0 in d:\\anaconda\\lib\\site-packages (from plotnine) (3.5.2)\n",
      "Requirement already satisfied: pandas>=1.3.5 in d:\\anaconda\\lib\\site-packages (from plotnine) (1.4.4)\n",
      "Requirement already satisfied: patsy>=0.5.1 in d:\\anaconda\\lib\\site-packages (from plotnine) (0.5.2)\n",
      "Requirement already satisfied: numpy>=1.19.0 in d:\\anaconda\\lib\\site-packages (from plotnine) (1.21.5)\n",
      "Requirement already satisfied: mizani>=0.8.1 in c:\\users\\mado1\\appdata\\roaming\\python\\python39\\site-packages (from plotnine) (0.8.1)\n",
      "Requirement already satisfied: python-dateutil>=2.7 in d:\\anaconda\\lib\\site-packages (from matplotlib>=3.5.0->plotnine) (2.8.2)\n",
      "Requirement already satisfied: pyparsing>=2.2.1 in d:\\anaconda\\lib\\site-packages (from matplotlib>=3.5.0->plotnine) (3.0.9)\n",
      "Requirement already satisfied: cycler>=0.10 in d:\\anaconda\\lib\\site-packages (from matplotlib>=3.5.0->plotnine) (0.11.0)\n",
      "Requirement already satisfied: pillow>=6.2.0 in d:\\anaconda\\lib\\site-packages (from matplotlib>=3.5.0->plotnine) (9.2.0)\n",
      "Requirement already satisfied: packaging>=20.0 in d:\\anaconda\\lib\\site-packages (from matplotlib>=3.5.0->plotnine) (21.3)\n",
      "Requirement already satisfied: fonttools>=4.22.0 in d:\\anaconda\\lib\\site-packages (from matplotlib>=3.5.0->plotnine) (4.25.0)\n",
      "Requirement already satisfied: kiwisolver>=1.0.1 in d:\\anaconda\\lib\\site-packages (from matplotlib>=3.5.0->plotnine) (1.4.2)\n",
      "Requirement already satisfied: tzdata in c:\\users\\mado1\\appdata\\roaming\\python\\python39\\site-packages (from mizani>=0.8.1->plotnine) (2022.7)\n",
      "Requirement already satisfied: palettable in c:\\users\\mado1\\appdata\\roaming\\python\\python39\\site-packages (from mizani>=0.8.1->plotnine) (3.3.0)\n",
      "Requirement already satisfied: pytz>=2020.1 in d:\\anaconda\\lib\\site-packages (from pandas>=1.3.5->plotnine) (2022.1)\n",
      "Requirement already satisfied: six in d:\\anaconda\\lib\\site-packages (from patsy>=0.5.1->plotnine) (1.16.0)\n"
     ]
    },
    {
     "name": "stderr",
     "output_type": "stream",
     "text": [
      "ERROR:root:Internal Python error in the inspect module.\n",
      "Below is the traceback from this internal error.\n",
      "\n"
     ]
    },
    {
     "name": "stdout",
     "output_type": "stream",
     "text": [
      "Traceback (most recent call last):\n",
      "  File \"D:\\Anaconda\\lib\\site-packages\\IPython\\core\\interactiveshell.py\", line 3457, in run_code\n",
      "    exec(code_obj, self.user_global_ns, self.user_ns)\n",
      "  File \"C:\\Users\\mado1\\AppData\\Local\\Temp\\ipykernel_30024\\2297746492.py\", line 3, in <module>\n",
      "    import seaborn as sns\n",
      "  File \"D:\\Anaconda\\lib\\site-packages\\seaborn\\__init__.py\", line 2, in <module>\n",
      "    from .rcmod import *  # noqa: F401,F403\n",
      "  File \"D:\\Anaconda\\lib\\site-packages\\seaborn\\rcmod.py\", line 7, in <module>\n",
      "    from . import palettes\n",
      "  File \"D:\\Anaconda\\lib\\site-packages\\seaborn\\palettes.py\", line 9, in <module>\n",
      "    from .utils import desaturate, get_color_cycle\n",
      "  File \"D:\\Anaconda\\lib\\site-packages\\seaborn\\utils.py\", line 10, in <module>\n",
      "    from scipy import stats\n",
      "  File \"<frozen importlib._bootstrap>\", line 1055, in _handle_fromlist\n",
      "  File \"D:\\Anaconda\\lib\\site-packages\\scipy\\__init__.py\", line 211, in __getattr__\n",
      "    return _importlib.import_module(f'scipy.{name}')\n",
      "  File \"D:\\Anaconda\\lib\\importlib\\__init__.py\", line 127, in import_module\n",
      "    return _bootstrap._gcd_import(name[level:], package, level)\n",
      "  File \"D:\\Anaconda\\lib\\site-packages\\scipy\\stats\\__init__.py\", line 467, in <module>\n",
      "    from ._stats_py import *\n",
      "  File \"D:\\Anaconda\\lib\\site-packages\\scipy\\stats\\_stats_py.py\", line 46, in <module>\n",
      "    from . import distributions\n",
      "  File \"D:\\Anaconda\\lib\\site-packages\\scipy\\stats\\distributions.py\", line 11, in <module>\n",
      "    from . import _discrete_distns\n",
      "  File \"D:\\Anaconda\\lib\\site-packages\\scipy\\stats\\_discrete_distns.py\", line 11, in <module>\n",
      "    from scipy.interpolate import interp1d\n",
      "  File \"D:\\Anaconda\\lib\\site-packages\\scipy\\interpolate\\__init__.py\", line 166, in <module>\n",
      "    from ._interpolate import *\n",
      "  File \"D:\\Anaconda\\lib\\site-packages\\scipy\\interpolate\\_interpolate.py\", line 15, in <module>\n",
      "    from . import _fitpack_py\n",
      "  File \"D:\\Anaconda\\lib\\site-packages\\scipy\\interpolate\\_fitpack_py.py\", line 9, in <module>\n",
      "    from ._fitpack_impl import bisplrep, bisplev, dblint\n",
      "  File \"D:\\Anaconda\\lib\\site-packages\\scipy\\interpolate\\_fitpack_impl.py\", line 35, in <module>\n",
      "    from . import dfitpack\n",
      "KeyboardInterrupt\n",
      "\n",
      "During handling of the above exception, another exception occurred:\n",
      "\n",
      "Traceback (most recent call last):\n",
      "  File \"D:\\Anaconda\\lib\\site-packages\\IPython\\core\\interactiveshell.py\", line 2077, in showtraceback\n",
      "    stb = value._render_traceback_()\n",
      "AttributeError: 'KeyboardInterrupt' object has no attribute '_render_traceback_'\n",
      "\n",
      "During handling of the above exception, another exception occurred:\n",
      "\n",
      "Traceback (most recent call last):\n",
      "  File \"D:\\Anaconda\\lib\\site-packages\\IPython\\core\\ultratb.py\", line 1101, in get_records\n",
      "    return _fixed_getinnerframes(etb, number_of_lines_of_context, tb_offset)\n",
      "  File \"D:\\Anaconda\\lib\\site-packages\\IPython\\core\\ultratb.py\", line 248, in wrapped\n",
      "    return f(*args, **kwargs)\n",
      "  File \"D:\\Anaconda\\lib\\site-packages\\IPython\\core\\ultratb.py\", line 281, in _fixed_getinnerframes\n",
      "    records = fix_frame_records_filenames(inspect.getinnerframes(etb, context))\n",
      "  File \"D:\\Anaconda\\lib\\inspect.py\", line 1543, in getinnerframes\n",
      "    frameinfo = (tb.tb_frame,) + getframeinfo(tb, context)\n",
      "  File \"D:\\Anaconda\\lib\\inspect.py\", line 1505, in getframeinfo\n",
      "    lines, lnum = findsource(frame)\n",
      "  File \"D:\\Anaconda\\lib\\site-packages\\IPython\\core\\ultratb.py\", line 182, in findsource\n",
      "    lines = linecache.getlines(file, globals_dict)\n",
      "  File \"D:\\Anaconda\\lib\\linecache.py\", line 46, in getlines\n",
      "    return updatecache(filename, module_globals)\n",
      "  File \"D:\\Anaconda\\lib\\linecache.py\", line 136, in updatecache\n",
      "    with tokenize.open(fullname) as fp:\n",
      "  File \"D:\\Anaconda\\lib\\tokenize.py\", line 394, in open\n",
      "    encoding, lines = detect_encoding(buffer.readline)\n",
      "  File \"D:\\Anaconda\\lib\\tokenize.py\", line 363, in detect_encoding\n",
      "    first = read_or_stop()\n",
      "  File \"D:\\Anaconda\\lib\\tokenize.py\", line 321, in read_or_stop\n",
      "    return readline()\n",
      "KeyboardInterrupt\n"
     ]
    },
    {
     "ename": "TypeError",
     "evalue": "object of type 'NoneType' has no len()",
     "output_type": "error",
     "traceback": [
      "\u001b[1;31m---------------------------------------------------------------------------\u001b[0m",
      "\u001b[1;31mKeyboardInterrupt\u001b[0m                         Traceback (most recent call last)",
      "    \u001b[1;31m[... skipping hidden 1 frame]\u001b[0m\n",
      "\u001b[1;32m~\\AppData\\Local\\Temp\\ipykernel_30024\\2297746492.py\u001b[0m in \u001b[0;36m<module>\u001b[1;34m\u001b[0m\n\u001b[0;32m      2\u001b[0m \u001b[0mwarnings\u001b[0m\u001b[1;33m.\u001b[0m\u001b[0mfilterwarnings\u001b[0m\u001b[1;33m(\u001b[0m\u001b[1;34m'ignore'\u001b[0m\u001b[1;33m)\u001b[0m\u001b[1;33m\u001b[0m\u001b[1;33m\u001b[0m\u001b[0m\n\u001b[1;32m----> 3\u001b[1;33m \u001b[1;32mimport\u001b[0m \u001b[0mseaborn\u001b[0m \u001b[1;32mas\u001b[0m \u001b[0msns\u001b[0m\u001b[1;33m\u001b[0m\u001b[1;33m\u001b[0m\u001b[0m\n\u001b[0m\u001b[0;32m      4\u001b[0m \u001b[1;32mimport\u001b[0m \u001b[0mmatplotlib\u001b[0m\u001b[1;33m.\u001b[0m\u001b[0mpyplot\u001b[0m \u001b[1;32mas\u001b[0m \u001b[0mplt\u001b[0m\u001b[1;33m\u001b[0m\u001b[1;33m\u001b[0m\u001b[0m\n",
      "\u001b[1;32mD:\\Anaconda\\lib\\site-packages\\seaborn\\__init__.py\u001b[0m in \u001b[0;36m<module>\u001b[1;34m\u001b[0m\n\u001b[0;32m      1\u001b[0m \u001b[1;31m# Import seaborn objects\u001b[0m\u001b[1;33m\u001b[0m\u001b[1;33m\u001b[0m\u001b[0m\n\u001b[1;32m----> 2\u001b[1;33m \u001b[1;32mfrom\u001b[0m \u001b[1;33m.\u001b[0m\u001b[0mrcmod\u001b[0m \u001b[1;32mimport\u001b[0m \u001b[1;33m*\u001b[0m  \u001b[1;31m# noqa: F401,F403\u001b[0m\u001b[1;33m\u001b[0m\u001b[1;33m\u001b[0m\u001b[0m\n\u001b[0m\u001b[0;32m      3\u001b[0m \u001b[1;32mfrom\u001b[0m \u001b[1;33m.\u001b[0m\u001b[0mutils\u001b[0m \u001b[1;32mimport\u001b[0m \u001b[1;33m*\u001b[0m  \u001b[1;31m# noqa: F401,F403\u001b[0m\u001b[1;33m\u001b[0m\u001b[1;33m\u001b[0m\u001b[0m\n",
      "\u001b[1;32mD:\\Anaconda\\lib\\site-packages\\seaborn\\rcmod.py\u001b[0m in \u001b[0;36m<module>\u001b[1;34m\u001b[0m\n\u001b[0;32m      6\u001b[0m \u001b[1;32mfrom\u001b[0m \u001b[0mcycler\u001b[0m \u001b[1;32mimport\u001b[0m \u001b[0mcycler\u001b[0m\u001b[1;33m\u001b[0m\u001b[1;33m\u001b[0m\u001b[0m\n\u001b[1;32m----> 7\u001b[1;33m \u001b[1;32mfrom\u001b[0m \u001b[1;33m.\u001b[0m \u001b[1;32mimport\u001b[0m \u001b[0mpalettes\u001b[0m\u001b[1;33m\u001b[0m\u001b[1;33m\u001b[0m\u001b[0m\n\u001b[0m\u001b[0;32m      8\u001b[0m \u001b[1;33m\u001b[0m\u001b[0m\n",
      "\u001b[1;32mD:\\Anaconda\\lib\\site-packages\\seaborn\\palettes.py\u001b[0m in \u001b[0;36m<module>\u001b[1;34m\u001b[0m\n\u001b[0;32m      8\u001b[0m \u001b[1;33m\u001b[0m\u001b[0m\n\u001b[1;32m----> 9\u001b[1;33m \u001b[1;32mfrom\u001b[0m \u001b[1;33m.\u001b[0m\u001b[0mutils\u001b[0m \u001b[1;32mimport\u001b[0m \u001b[0mdesaturate\u001b[0m\u001b[1;33m,\u001b[0m \u001b[0mget_color_cycle\u001b[0m\u001b[1;33m\u001b[0m\u001b[1;33m\u001b[0m\u001b[0m\n\u001b[0m\u001b[0;32m     10\u001b[0m \u001b[1;32mfrom\u001b[0m \u001b[1;33m.\u001b[0m\u001b[0mcolors\u001b[0m \u001b[1;32mimport\u001b[0m \u001b[0mxkcd_rgb\u001b[0m\u001b[1;33m,\u001b[0m \u001b[0mcrayons\u001b[0m\u001b[1;33m\u001b[0m\u001b[1;33m\u001b[0m\u001b[0m\n",
      "\u001b[1;32mD:\\Anaconda\\lib\\site-packages\\seaborn\\utils.py\u001b[0m in \u001b[0;36m<module>\u001b[1;34m\u001b[0m\n\u001b[0;32m      9\u001b[0m \u001b[1;32mimport\u001b[0m \u001b[0mnumpy\u001b[0m \u001b[1;32mas\u001b[0m \u001b[0mnp\u001b[0m\u001b[1;33m\u001b[0m\u001b[1;33m\u001b[0m\u001b[0m\n\u001b[1;32m---> 10\u001b[1;33m \u001b[1;32mfrom\u001b[0m \u001b[0mscipy\u001b[0m \u001b[1;32mimport\u001b[0m \u001b[0mstats\u001b[0m\u001b[1;33m\u001b[0m\u001b[1;33m\u001b[0m\u001b[0m\n\u001b[0m\u001b[0;32m     11\u001b[0m \u001b[1;32mimport\u001b[0m \u001b[0mpandas\u001b[0m \u001b[1;32mas\u001b[0m \u001b[0mpd\u001b[0m\u001b[1;33m\u001b[0m\u001b[1;33m\u001b[0m\u001b[0m\n",
      "\u001b[1;32mD:\\Anaconda\\lib\\importlib\\_bootstrap.py\u001b[0m in \u001b[0;36m_handle_fromlist\u001b[1;34m(module, fromlist, import_, recursive)\u001b[0m\n",
      "\u001b[1;32mD:\\Anaconda\\lib\\site-packages\\scipy\\__init__.py\u001b[0m in \u001b[0;36m__getattr__\u001b[1;34m(name)\u001b[0m\n\u001b[0;32m    210\u001b[0m         \u001b[1;32mif\u001b[0m \u001b[0mname\u001b[0m \u001b[1;32min\u001b[0m \u001b[0msubmodules\u001b[0m\u001b[1;33m:\u001b[0m\u001b[1;33m\u001b[0m\u001b[1;33m\u001b[0m\u001b[0m\n\u001b[1;32m--> 211\u001b[1;33m             \u001b[1;32mreturn\u001b[0m \u001b[0m_importlib\u001b[0m\u001b[1;33m.\u001b[0m\u001b[0mimport_module\u001b[0m\u001b[1;33m(\u001b[0m\u001b[1;34mf'scipy.{name}'\u001b[0m\u001b[1;33m)\u001b[0m\u001b[1;33m\u001b[0m\u001b[1;33m\u001b[0m\u001b[0m\n\u001b[0m\u001b[0;32m    212\u001b[0m         \u001b[1;32melse\u001b[0m\u001b[1;33m:\u001b[0m\u001b[1;33m\u001b[0m\u001b[1;33m\u001b[0m\u001b[0m\n",
      "\u001b[1;32mD:\\Anaconda\\lib\\importlib\\__init__.py\u001b[0m in \u001b[0;36mimport_module\u001b[1;34m(name, package)\u001b[0m\n\u001b[0;32m    126\u001b[0m             \u001b[0mlevel\u001b[0m \u001b[1;33m+=\u001b[0m \u001b[1;36m1\u001b[0m\u001b[1;33m\u001b[0m\u001b[1;33m\u001b[0m\u001b[0m\n\u001b[1;32m--> 127\u001b[1;33m     \u001b[1;32mreturn\u001b[0m \u001b[0m_bootstrap\u001b[0m\u001b[1;33m.\u001b[0m\u001b[0m_gcd_import\u001b[0m\u001b[1;33m(\u001b[0m\u001b[0mname\u001b[0m\u001b[1;33m[\u001b[0m\u001b[0mlevel\u001b[0m\u001b[1;33m:\u001b[0m\u001b[1;33m]\u001b[0m\u001b[1;33m,\u001b[0m \u001b[0mpackage\u001b[0m\u001b[1;33m,\u001b[0m \u001b[0mlevel\u001b[0m\u001b[1;33m)\u001b[0m\u001b[1;33m\u001b[0m\u001b[1;33m\u001b[0m\u001b[0m\n\u001b[0m\u001b[0;32m    128\u001b[0m \u001b[1;33m\u001b[0m\u001b[0m\n",
      "\u001b[1;32mD:\\Anaconda\\lib\\site-packages\\scipy\\stats\\__init__.py\u001b[0m in \u001b[0;36m<module>\u001b[1;34m\u001b[0m\n\u001b[0;32m    466\u001b[0m                                DegenerateDataWarning, FitError)\n\u001b[1;32m--> 467\u001b[1;33m \u001b[1;32mfrom\u001b[0m \u001b[1;33m.\u001b[0m\u001b[0m_stats_py\u001b[0m \u001b[1;32mimport\u001b[0m \u001b[1;33m*\u001b[0m\u001b[1;33m\u001b[0m\u001b[1;33m\u001b[0m\u001b[0m\n\u001b[0m\u001b[0;32m    468\u001b[0m \u001b[1;32mfrom\u001b[0m \u001b[1;33m.\u001b[0m\u001b[0m_variation\u001b[0m \u001b[1;32mimport\u001b[0m \u001b[0mvariation\u001b[0m\u001b[1;33m\u001b[0m\u001b[1;33m\u001b[0m\u001b[0m\n",
      "\u001b[1;32mD:\\Anaconda\\lib\\site-packages\\scipy\\stats\\_stats_py.py\u001b[0m in \u001b[0;36m<module>\u001b[1;34m\u001b[0m\n\u001b[0;32m     45\u001b[0m \u001b[1;32mfrom\u001b[0m \u001b[0mscipy\u001b[0m \u001b[1;32mimport\u001b[0m \u001b[0mlinalg\u001b[0m\u001b[1;33m\u001b[0m\u001b[1;33m\u001b[0m\u001b[0m\n\u001b[1;32m---> 46\u001b[1;33m \u001b[1;32mfrom\u001b[0m \u001b[1;33m.\u001b[0m \u001b[1;32mimport\u001b[0m \u001b[0mdistributions\u001b[0m\u001b[1;33m\u001b[0m\u001b[1;33m\u001b[0m\u001b[0m\n\u001b[0m\u001b[0;32m     47\u001b[0m \u001b[1;32mfrom\u001b[0m \u001b[1;33m.\u001b[0m \u001b[1;32mimport\u001b[0m \u001b[0m_mstats_basic\u001b[0m \u001b[1;32mas\u001b[0m \u001b[0mmstats_basic\u001b[0m\u001b[1;33m\u001b[0m\u001b[1;33m\u001b[0m\u001b[0m\n",
      "\u001b[1;32mD:\\Anaconda\\lib\\site-packages\\scipy\\stats\\distributions.py\u001b[0m in \u001b[0;36m<module>\u001b[1;34m\u001b[0m\n\u001b[0;32m     10\u001b[0m \u001b[1;32mfrom\u001b[0m \u001b[1;33m.\u001b[0m \u001b[1;32mimport\u001b[0m \u001b[0m_continuous_distns\u001b[0m\u001b[1;33m\u001b[0m\u001b[1;33m\u001b[0m\u001b[0m\n\u001b[1;32m---> 11\u001b[1;33m \u001b[1;32mfrom\u001b[0m \u001b[1;33m.\u001b[0m \u001b[1;32mimport\u001b[0m \u001b[0m_discrete_distns\u001b[0m\u001b[1;33m\u001b[0m\u001b[1;33m\u001b[0m\u001b[0m\n\u001b[0m\u001b[0;32m     12\u001b[0m \u001b[1;33m\u001b[0m\u001b[0m\n",
      "\u001b[1;32mD:\\Anaconda\\lib\\site-packages\\scipy\\stats\\_discrete_distns.py\u001b[0m in \u001b[0;36m<module>\u001b[1;34m\u001b[0m\n\u001b[0;32m     10\u001b[0m \u001b[1;32mfrom\u001b[0m \u001b[0mscipy\u001b[0m\u001b[1;33m.\u001b[0m\u001b[0m_lib\u001b[0m\u001b[1;33m.\u001b[0m\u001b[0m_util\u001b[0m \u001b[1;32mimport\u001b[0m \u001b[0m_lazywhere\u001b[0m\u001b[1;33m,\u001b[0m \u001b[0mrng_integers\u001b[0m\u001b[1;33m\u001b[0m\u001b[1;33m\u001b[0m\u001b[0m\n\u001b[1;32m---> 11\u001b[1;33m \u001b[1;32mfrom\u001b[0m \u001b[0mscipy\u001b[0m\u001b[1;33m.\u001b[0m\u001b[0minterpolate\u001b[0m \u001b[1;32mimport\u001b[0m \u001b[0minterp1d\u001b[0m\u001b[1;33m\u001b[0m\u001b[1;33m\u001b[0m\u001b[0m\n\u001b[0m\u001b[0;32m     12\u001b[0m \u001b[1;33m\u001b[0m\u001b[0m\n",
      "\u001b[1;32mD:\\Anaconda\\lib\\site-packages\\scipy\\interpolate\\__init__.py\u001b[0m in \u001b[0;36m<module>\u001b[1;34m\u001b[0m\n\u001b[0;32m    165\u001b[0m \"\"\"\n\u001b[1;32m--> 166\u001b[1;33m \u001b[1;32mfrom\u001b[0m \u001b[1;33m.\u001b[0m\u001b[0m_interpolate\u001b[0m \u001b[1;32mimport\u001b[0m \u001b[1;33m*\u001b[0m\u001b[1;33m\u001b[0m\u001b[1;33m\u001b[0m\u001b[0m\n\u001b[0m\u001b[0;32m    167\u001b[0m \u001b[1;32mfrom\u001b[0m \u001b[1;33m.\u001b[0m\u001b[0m_fitpack_py\u001b[0m \u001b[1;32mimport\u001b[0m \u001b[1;33m*\u001b[0m\u001b[1;33m\u001b[0m\u001b[1;33m\u001b[0m\u001b[0m\n",
      "\u001b[1;32mD:\\Anaconda\\lib\\site-packages\\scipy\\interpolate\\_interpolate.py\u001b[0m in \u001b[0;36m<module>\u001b[1;34m\u001b[0m\n\u001b[0;32m     14\u001b[0m \u001b[1;33m\u001b[0m\u001b[0m\n\u001b[1;32m---> 15\u001b[1;33m \u001b[1;32mfrom\u001b[0m \u001b[1;33m.\u001b[0m \u001b[1;32mimport\u001b[0m \u001b[0m_fitpack_py\u001b[0m\u001b[1;33m\u001b[0m\u001b[1;33m\u001b[0m\u001b[0m\n\u001b[0m\u001b[0;32m     16\u001b[0m \u001b[1;32mfrom\u001b[0m \u001b[1;33m.\u001b[0m \u001b[1;32mimport\u001b[0m \u001b[0mdfitpack\u001b[0m\u001b[1;33m\u001b[0m\u001b[1;33m\u001b[0m\u001b[0m\n",
      "\u001b[1;32mD:\\Anaconda\\lib\\site-packages\\scipy\\interpolate\\_fitpack_py.py\u001b[0m in \u001b[0;36m<module>\u001b[1;34m\u001b[0m\n\u001b[0;32m      8\u001b[0m \u001b[1;31m# These are in the API for fitpack even if not used in fitpack.py itself.\u001b[0m\u001b[1;33m\u001b[0m\u001b[1;33m\u001b[0m\u001b[0m\n\u001b[1;32m----> 9\u001b[1;33m \u001b[1;32mfrom\u001b[0m \u001b[1;33m.\u001b[0m\u001b[0m_fitpack_impl\u001b[0m \u001b[1;32mimport\u001b[0m \u001b[0mbisplrep\u001b[0m\u001b[1;33m,\u001b[0m \u001b[0mbisplev\u001b[0m\u001b[1;33m,\u001b[0m \u001b[0mdblint\u001b[0m\u001b[1;33m\u001b[0m\u001b[1;33m\u001b[0m\u001b[0m\n\u001b[0m\u001b[0;32m     10\u001b[0m \u001b[1;32mfrom\u001b[0m \u001b[1;33m.\u001b[0m \u001b[1;32mimport\u001b[0m \u001b[0m_fitpack_impl\u001b[0m \u001b[1;32mas\u001b[0m \u001b[0m_impl\u001b[0m\u001b[1;33m\u001b[0m\u001b[1;33m\u001b[0m\u001b[0m\n",
      "\u001b[1;32mD:\\Anaconda\\lib\\site-packages\\scipy\\interpolate\\_fitpack_impl.py\u001b[0m in \u001b[0;36m<module>\u001b[1;34m\u001b[0m\n\u001b[0;32m     34\u001b[0m \u001b[1;31m#  f2py-generated version\u001b[0m\u001b[1;33m\u001b[0m\u001b[1;33m\u001b[0m\u001b[0m\n\u001b[1;32m---> 35\u001b[1;33m \u001b[1;32mfrom\u001b[0m \u001b[1;33m.\u001b[0m \u001b[1;32mimport\u001b[0m \u001b[0mdfitpack\u001b[0m\u001b[1;33m\u001b[0m\u001b[1;33m\u001b[0m\u001b[0m\n\u001b[0m\u001b[0;32m     36\u001b[0m \u001b[1;33m\u001b[0m\u001b[0m\n",
      "\u001b[1;31mKeyboardInterrupt\u001b[0m: ",
      "\nDuring handling of the above exception, another exception occurred:\n",
      "\u001b[1;31mAttributeError\u001b[0m                            Traceback (most recent call last)",
      "\u001b[1;32mD:\\Anaconda\\lib\\site-packages\\IPython\\core\\interactiveshell.py\u001b[0m in \u001b[0;36mshowtraceback\u001b[1;34m(self, exc_tuple, filename, tb_offset, exception_only, running_compiled_code)\u001b[0m\n\u001b[0;32m   2076\u001b[0m                         \u001b[1;31m# in the engines. This should return a list of strings.\u001b[0m\u001b[1;33m\u001b[0m\u001b[1;33m\u001b[0m\u001b[0m\n\u001b[1;32m-> 2077\u001b[1;33m                         \u001b[0mstb\u001b[0m \u001b[1;33m=\u001b[0m \u001b[0mvalue\u001b[0m\u001b[1;33m.\u001b[0m\u001b[0m_render_traceback_\u001b[0m\u001b[1;33m(\u001b[0m\u001b[1;33m)\u001b[0m\u001b[1;33m\u001b[0m\u001b[1;33m\u001b[0m\u001b[0m\n\u001b[0m\u001b[0;32m   2078\u001b[0m                     \u001b[1;32mexcept\u001b[0m \u001b[0mException\u001b[0m\u001b[1;33m:\u001b[0m\u001b[1;33m\u001b[0m\u001b[1;33m\u001b[0m\u001b[0m\n",
      "\u001b[1;31mAttributeError\u001b[0m: 'KeyboardInterrupt' object has no attribute '_render_traceback_'",
      "\nDuring handling of the above exception, another exception occurred:\n",
      "\u001b[1;31mTypeError\u001b[0m                                 Traceback (most recent call last)",
      "    \u001b[1;31m[... skipping hidden 1 frame]\u001b[0m\n",
      "\u001b[1;32mD:\\Anaconda\\lib\\site-packages\\IPython\\core\\interactiveshell.py\u001b[0m in \u001b[0;36mshowtraceback\u001b[1;34m(self, exc_tuple, filename, tb_offset, exception_only, running_compiled_code)\u001b[0m\n\u001b[0;32m   2077\u001b[0m                         \u001b[0mstb\u001b[0m \u001b[1;33m=\u001b[0m \u001b[0mvalue\u001b[0m\u001b[1;33m.\u001b[0m\u001b[0m_render_traceback_\u001b[0m\u001b[1;33m(\u001b[0m\u001b[1;33m)\u001b[0m\u001b[1;33m\u001b[0m\u001b[1;33m\u001b[0m\u001b[0m\n\u001b[0;32m   2078\u001b[0m                     \u001b[1;32mexcept\u001b[0m \u001b[0mException\u001b[0m\u001b[1;33m:\u001b[0m\u001b[1;33m\u001b[0m\u001b[1;33m\u001b[0m\u001b[0m\n\u001b[1;32m-> 2079\u001b[1;33m                         stb = self.InteractiveTB.structured_traceback(etype,\n\u001b[0m\u001b[0;32m   2080\u001b[0m                                             value, tb, tb_offset=tb_offset)\n\u001b[0;32m   2081\u001b[0m \u001b[1;33m\u001b[0m\u001b[0m\n",
      "\u001b[1;32mD:\\Anaconda\\lib\\site-packages\\IPython\\core\\ultratb.py\u001b[0m in \u001b[0;36mstructured_traceback\u001b[1;34m(self, etype, value, tb, tb_offset, number_of_lines_of_context)\u001b[0m\n\u001b[0;32m   1365\u001b[0m         \u001b[1;32melse\u001b[0m\u001b[1;33m:\u001b[0m\u001b[1;33m\u001b[0m\u001b[1;33m\u001b[0m\u001b[0m\n\u001b[0;32m   1366\u001b[0m             \u001b[0mself\u001b[0m\u001b[1;33m.\u001b[0m\u001b[0mtb\u001b[0m \u001b[1;33m=\u001b[0m \u001b[0mtb\u001b[0m\u001b[1;33m\u001b[0m\u001b[1;33m\u001b[0m\u001b[0m\n\u001b[1;32m-> 1367\u001b[1;33m         return FormattedTB.structured_traceback(\n\u001b[0m\u001b[0;32m   1368\u001b[0m             self, etype, value, tb, tb_offset, number_of_lines_of_context)\n\u001b[0;32m   1369\u001b[0m \u001b[1;33m\u001b[0m\u001b[0m\n",
      "\u001b[1;32mD:\\Anaconda\\lib\\site-packages\\IPython\\core\\ultratb.py\u001b[0m in \u001b[0;36mstructured_traceback\u001b[1;34m(self, etype, value, tb, tb_offset, number_of_lines_of_context)\u001b[0m\n\u001b[0;32m   1265\u001b[0m         \u001b[1;32mif\u001b[0m \u001b[0mmode\u001b[0m \u001b[1;32min\u001b[0m \u001b[0mself\u001b[0m\u001b[1;33m.\u001b[0m\u001b[0mverbose_modes\u001b[0m\u001b[1;33m:\u001b[0m\u001b[1;33m\u001b[0m\u001b[1;33m\u001b[0m\u001b[0m\n\u001b[0;32m   1266\u001b[0m             \u001b[1;31m# Verbose modes need a full traceback\u001b[0m\u001b[1;33m\u001b[0m\u001b[1;33m\u001b[0m\u001b[0m\n\u001b[1;32m-> 1267\u001b[1;33m             return VerboseTB.structured_traceback(\n\u001b[0m\u001b[0;32m   1268\u001b[0m                 \u001b[0mself\u001b[0m\u001b[1;33m,\u001b[0m \u001b[0metype\u001b[0m\u001b[1;33m,\u001b[0m \u001b[0mvalue\u001b[0m\u001b[1;33m,\u001b[0m \u001b[0mtb\u001b[0m\u001b[1;33m,\u001b[0m \u001b[0mtb_offset\u001b[0m\u001b[1;33m,\u001b[0m \u001b[0mnumber_of_lines_of_context\u001b[0m\u001b[1;33m\u001b[0m\u001b[1;33m\u001b[0m\u001b[0m\n\u001b[0;32m   1269\u001b[0m             )\n",
      "\u001b[1;32mD:\\Anaconda\\lib\\site-packages\\IPython\\core\\ultratb.py\u001b[0m in \u001b[0;36mstructured_traceback\u001b[1;34m(self, etype, evalue, etb, tb_offset, number_of_lines_of_context)\u001b[0m\n\u001b[0;32m   1122\u001b[0m         \u001b[1;34m\"\"\"Return a nice text document describing the traceback.\"\"\"\u001b[0m\u001b[1;33m\u001b[0m\u001b[1;33m\u001b[0m\u001b[0m\n\u001b[0;32m   1123\u001b[0m \u001b[1;33m\u001b[0m\u001b[0m\n\u001b[1;32m-> 1124\u001b[1;33m         formatted_exception = self.format_exception_as_a_whole(etype, evalue, etb, number_of_lines_of_context,\n\u001b[0m\u001b[0;32m   1125\u001b[0m                                                                tb_offset)\n\u001b[0;32m   1126\u001b[0m \u001b[1;33m\u001b[0m\u001b[0m\n",
      "\u001b[1;32mD:\\Anaconda\\lib\\site-packages\\IPython\\core\\ultratb.py\u001b[0m in \u001b[0;36mformat_exception_as_a_whole\u001b[1;34m(self, etype, evalue, etb, number_of_lines_of_context, tb_offset)\u001b[0m\n\u001b[0;32m   1080\u001b[0m \u001b[1;33m\u001b[0m\u001b[0m\n\u001b[0;32m   1081\u001b[0m \u001b[1;33m\u001b[0m\u001b[0m\n\u001b[1;32m-> 1082\u001b[1;33m         \u001b[0mlast_unique\u001b[0m\u001b[1;33m,\u001b[0m \u001b[0mrecursion_repeat\u001b[0m \u001b[1;33m=\u001b[0m \u001b[0mfind_recursion\u001b[0m\u001b[1;33m(\u001b[0m\u001b[0morig_etype\u001b[0m\u001b[1;33m,\u001b[0m \u001b[0mevalue\u001b[0m\u001b[1;33m,\u001b[0m \u001b[0mrecords\u001b[0m\u001b[1;33m)\u001b[0m\u001b[1;33m\u001b[0m\u001b[1;33m\u001b[0m\u001b[0m\n\u001b[0m\u001b[0;32m   1083\u001b[0m \u001b[1;33m\u001b[0m\u001b[0m\n\u001b[0;32m   1084\u001b[0m         \u001b[0mframes\u001b[0m \u001b[1;33m=\u001b[0m \u001b[0mself\u001b[0m\u001b[1;33m.\u001b[0m\u001b[0mformat_records\u001b[0m\u001b[1;33m(\u001b[0m\u001b[0mrecords\u001b[0m\u001b[1;33m,\u001b[0m \u001b[0mlast_unique\u001b[0m\u001b[1;33m,\u001b[0m \u001b[0mrecursion_repeat\u001b[0m\u001b[1;33m)\u001b[0m\u001b[1;33m\u001b[0m\u001b[1;33m\u001b[0m\u001b[0m\n",
      "\u001b[1;32mD:\\Anaconda\\lib\\site-packages\\IPython\\core\\ultratb.py\u001b[0m in \u001b[0;36mfind_recursion\u001b[1;34m(etype, value, records)\u001b[0m\n\u001b[0;32m    380\u001b[0m     \u001b[1;31m# first frame (from in to out) that looks different.\u001b[0m\u001b[1;33m\u001b[0m\u001b[1;33m\u001b[0m\u001b[0m\n\u001b[0;32m    381\u001b[0m     \u001b[1;32mif\u001b[0m \u001b[1;32mnot\u001b[0m \u001b[0mis_recursion_error\u001b[0m\u001b[1;33m(\u001b[0m\u001b[0metype\u001b[0m\u001b[1;33m,\u001b[0m \u001b[0mvalue\u001b[0m\u001b[1;33m,\u001b[0m \u001b[0mrecords\u001b[0m\u001b[1;33m)\u001b[0m\u001b[1;33m:\u001b[0m\u001b[1;33m\u001b[0m\u001b[1;33m\u001b[0m\u001b[0m\n\u001b[1;32m--> 382\u001b[1;33m         \u001b[1;32mreturn\u001b[0m \u001b[0mlen\u001b[0m\u001b[1;33m(\u001b[0m\u001b[0mrecords\u001b[0m\u001b[1;33m)\u001b[0m\u001b[1;33m,\u001b[0m \u001b[1;36m0\u001b[0m\u001b[1;33m\u001b[0m\u001b[1;33m\u001b[0m\u001b[0m\n\u001b[0m\u001b[0;32m    383\u001b[0m \u001b[1;33m\u001b[0m\u001b[0m\n\u001b[0;32m    384\u001b[0m     \u001b[1;31m# Select filename, lineno, func_name to track frames with\u001b[0m\u001b[1;33m\u001b[0m\u001b[1;33m\u001b[0m\u001b[0m\n",
      "\u001b[1;31mTypeError\u001b[0m: object of type 'NoneType' has no len()"
     ]
    }
   ],
   "source": [
    "import warnings\n",
    "warnings.filterwarnings('ignore')\n",
    "import seaborn as sns \n",
    "import matplotlib.pyplot as plt\n",
    "import pandas as pd\n",
    "import numpy as np\n",
    "import sklearn.preprocessing as prep\n",
    "from sklearn.datasets import make_blobs\n",
    "from plotnine import *   \n",
    "# StandardScaler is a function to normalize the data \n",
    "# You may also check MinMaxScaler and MaxAbsScaler \n",
    "#from sklearn.preprocessing import StandardScaler\n",
    "from sklearn.neighbors import NearestNeighbors\n",
    "\n",
    "from sklearn.cluster import DBSCAN\n",
    "\n",
    "\n",
    "from sklearn.cluster import KMeans\n",
    "from sklearn.mixture import GaussianMixture\n",
    "\n",
    "from sklearn.metrics import silhouette_score\n",
    "\n",
    "%matplotlib inline"
   ]
  },
  {
   "cell_type": "code",
   "execution_count": null,
   "metadata": {},
   "outputs": [],
   "source": [
    "# helper function that allows us to display data in 2 dimensions an highlights the clusters\n",
    "def display_clusterKM(X,km=[],num_clusters=0):\n",
    "    color = 'brgcmyk'  #List colors\n",
    "    color\n",
    "    alpha = 0.5  #color obaque\n",
    "    s = 20\n",
    "    if num_clusters == 0:\n",
    "        plt.scatter(X[:,0],X[:,1],c = color[0],alpha = alpha,s = s)\n",
    "    else:\n",
    "        for i in range(num_clusters):\n",
    "            plt.scatter(X[km.labels_==i,0],X[km.labels_==i,1],c = color[i],alpha = alpha,s=s)\n",
    "            plt.scatter(km.cluster_centers_[i][0],km.cluster_centers_[i][1],c = color[i], marker = 'x', s = 100)"
   ]
  },
  {
   "cell_type": "code",
   "execution_count": null,
   "metadata": {
    "id": "ju2Zj6-nudb5"
   },
   "outputs": [],
   "source": [
    "# helper function that allows us to display data in 2 dimensions an highlights the clusters\n",
    "def display_cluster(X,km=[],num_clusters=0):\n",
    "    color = 'brgcmyk'  #List colors\n",
    "    color\n",
    "    alpha = 0.5  #color obaque\n",
    "    s = 20\n",
    "    if num_clusters == 0:\n",
    "        plt.scatter(X[:,0],X[:,1],c = color[0],alpha = alpha,s = s)\n",
    "    else:\n",
    "        for i in range(num_clusters):\n",
    "            plt.scatter(X[km.labels_==i,0],X[km.labels_==i,1],c = color[i],alpha = alpha,s=s)\n",
    "            #plt.scatter(km.cluster_centers_[i][0],km.cluster_centers_[i][1],c = color[i], marker = 'x', s = 100)"
   ]
  },
  {
   "cell_type": "markdown",
   "metadata": {
    "id": "hZnIbT3Mudb6"
   },
   "source": [
    "## Multi Blob Data Set \n",
    "* The Data Set generated below has 6 cluster with varying number of users and varing densities\n",
    "* Cluster the data set below using \n",
    "\n"
   ]
  },
  {
   "cell_type": "code",
   "execution_count": null,
   "metadata": {
    "id": "JeSqG318udb7",
    "outputId": "078fad92-3073-4558-b1e8-f0acd8d85d34"
   },
   "outputs": [],
   "source": [
    "plt.rcParams['figure.figsize'] = [8,8]\n",
    "sns.set_style(\"whitegrid\")\n",
    "sns.set_context(\"talk\")\n",
    "\n",
    "n_bins = 6  \n",
    "centers = [(-3, -3), (0, 0), (5,2.5),(-1, 4), (4, 6), (9,7)]\n",
    "Multi_blob_Data, y = make_blobs(n_samples=[100,150, 300, 400,300, 200], n_features=2, cluster_std=[1.3,0.6, 1.2, 1.7,0.9,1.7],\n",
    "                  centers=centers, shuffle=False, random_state=42)\n",
    "display_clusterKM(Multi_blob_Data)"
   ]
  },
  {
   "cell_type": "markdown",
   "metadata": {
    "id": "GDSIGjubudb8"
   },
   "source": [
    "### Kmeans \n",
    "* Use Kmeans with different values of K to cluster the above data \n",
    "* Display the outcome of each value of K \n",
    "* Plot distortion function versus K and choose the approriate value of k \n",
    "* Plot the silhouette_score versus K and use it to choose the best K \n",
    "* Store the silhouette_score for the best K for later comparison with other clustering techniques. "
   ]
  },
  {
   "cell_type": "code",
   "execution_count": null,
   "metadata": {
    "id": "_Ne3KmtPudb9",
    "scrolled": false
   },
   "outputs": [],
   "source": [
    "for x in range(1,8):\n",
    "    kmeans = KMeans(n_clusters=x)\n",
    "    kmeans.fit(Multi_blob_Data)\n",
    "    plt.subplot(3,3,x)\n",
    "    plt.tight_layout()\n",
    "    display_clusterKM(Multi_blob_Data,kmeans,x)\n",
    "    x=x+1\n",
    "    \n",
    "\n"
   ]
  },
  {
   "cell_type": "code",
   "execution_count": null,
   "metadata": {},
   "outputs": [],
   "source": [
    "inertias = []\n",
    "for i in range(1,15):\n",
    "    kmeans = KMeans(n_clusters=i)\n",
    "    kmeans.fit(Multi_blob_Data)\n",
    "    inertias.append(kmeans.inertia_)\n",
    "plt.plot(range(1,15), inertias, marker='o')\n",
    "#K=6"
   ]
  },
  {
   "cell_type": "code",
   "execution_count": null,
   "metadata": {},
   "outputs": [],
   "source": [
    "score = []\n",
    "for i in range(2,15):\n",
    "    kmeans = KMeans(n_clusters=i)\n",
    "    kmeans.fit(Multi_blob_Data)\n",
    "    score.append(silhouette_score(Multi_blob_Data, kmeans.labels_, metric='euclidean'))\n",
    "plt.plot(range(2,15), score, marker='o')\n",
    "#K=6"
   ]
  },
  {
   "cell_type": "markdown",
   "metadata": {
    "id": "kE7dvpOAudb9"
   },
   "source": [
    "### Hierarchal Clustering\n",
    "* Use AgglomerativeClustering function to  to cluster the above data \n",
    "* In the  AgglomerativeClustering change the following parameters \n",
    "    * Affinity (use euclidean, manhattan and cosine)\n",
    "    * Linkage( use average and single )\n",
    "    * Distance_threshold (try different)\n",
    "* For each of these trials plot the Dendograph , calculate the silhouette_score and display the resulting clusters  \n",
    "* Find the set of paramters that would find result in the best silhouette_score and store this score for later comparison with other clustering techniques. \n",
    "* Record your observation "
   ]
  },
  {
   "cell_type": "code",
   "execution_count": null,
   "metadata": {
    "scrolled": false
   },
   "outputs": [],
   "source": [
    "from sklearn.cluster import AgglomerativeClustering\n",
    "from sklearn.preprocessing import StandardScaler, normalize\n",
    "from sklearn.metrics import silhouette_score\n",
    "import scipy.cluster.hierarchy as shc\n",
    "from scipy.cluster.hierarchy import dendrogram, linkage\n",
    "x=4.2\n",
    "for m in range(9):\n",
    "    hierarchical_cluster = AgglomerativeClustering(n_clusters=None, distance_threshold=x, affinity='euclidean', linkage='average')\n",
    "    #4.2-\n",
    "    labels = hierarchical_cluster.fit_predict(Multi_blob_Data)\n",
    "    plt.subplot(3,3,m+1)\n",
    "    plt.tight_layout()\n",
    "    plt.title(label=round(x, 2))\n",
    "    display_cluster(Multi_blob_Data,hierarchical_cluster,hierarchical_cluster.n_clusters_)\n",
    "    #print(x)\n",
    "    x=x+0.15\n",
    "    m"
   ]
  },
  {
   "cell_type": "code",
   "execution_count": null,
   "metadata": {},
   "outputs": [],
   "source": [
    "x=5.4+0.15\n",
    "for m in range(9):\n",
    "    hierarchical_cluster = AgglomerativeClustering(n_clusters=None, distance_threshold=x, affinity='euclidean', linkage='average')\n",
    "    #4.2-\n",
    "    labels = hierarchical_cluster.fit_predict(Multi_blob_Data)\n",
    "    plt.subplot(3,3,m+1)\n",
    "    plt.tight_layout()\n",
    "    plt.title(label=round(x, 2))\n",
    "    display_cluster(Multi_blob_Data,hierarchical_cluster,hierarchical_cluster.n_clusters_)\n",
    "    #print(x)\n",
    "    x=x+0.15\n",
    "    m"
   ]
  },
  {
   "cell_type": "code",
   "execution_count": null,
   "metadata": {
    "scrolled": false
   },
   "outputs": [],
   "source": [
    "silhouette_scores = []\n",
    "s = []\n",
    "x=4.2\n",
    "for i in range(18):\n",
    "    s.append(x)\n",
    "    hierarchical_cluster = AgglomerativeClustering(n_clusters=None, distance_threshold=x, affinity='euclidean', linkage='average')\n",
    "    silhouette_scores.append(silhouette_score(Multi_blob_Data, hierarchical_cluster.fit_predict(Multi_blob_Data)))\n",
    "    x=x+0.15\n",
    "plt.plot(s, silhouette_scores, marker='o')"
   ]
  },
  {
   "cell_type": "code",
   "execution_count": null,
   "metadata": {},
   "outputs": [],
   "source": [
    "#hierarchical_cluster\n",
    "#Multi_blob_Data\n",
    "linkage_data = linkage(Multi_blob_Data, method='average', metric='euclidean')\n",
    "dendrogram(linkage_data)\n",
    "plt.show()"
   ]
  },
  {
   "cell_type": "code",
   "execution_count": null,
   "metadata": {},
   "outputs": [],
   "source": [
    "x=0.17\n",
    "for m in range(9):\n",
    "    hierarchical_cluster = AgglomerativeClustering(n_clusters=None, distance_threshold=x, affinity='cosine', linkage='average')\n",
    "    #4.2-\n",
    "    labels = hierarchical_cluster.fit_predict(Multi_blob_Data)\n",
    "    plt.subplot(3,3,m+1)\n",
    "    plt.tight_layout()\n",
    "    plt.title(label=round(x, 2))\n",
    "    display_cluster(Multi_blob_Data,hierarchical_cluster,hierarchical_cluster.n_clusters_)\n",
    "    #print(x)\n",
    "    x=x+0.01"
   ]
  },
  {
   "cell_type": "code",
   "execution_count": null,
   "metadata": {},
   "outputs": [],
   "source": [
    "x=0.26\n",
    "for m in range(9):\n",
    "    hierarchical_cluster = AgglomerativeClustering(n_clusters=None, distance_threshold=x, affinity='cosine', linkage='average')\n",
    "    #4.2-\n",
    "    labels = hierarchical_cluster.fit_predict(Multi_blob_Data)\n",
    "    plt.subplot(3,3,m+1)\n",
    "    plt.tight_layout()\n",
    "    plt.title(label=round(x, 2))\n",
    "    display_cluster(Multi_blob_Data,hierarchical_cluster,hierarchical_cluster.n_clusters_)\n",
    "    #print(x)\n",
    "    x=x+0.01"
   ]
  },
  {
   "cell_type": "code",
   "execution_count": null,
   "metadata": {},
   "outputs": [],
   "source": [
    "silhouette_scores = []\n",
    "s = []\n",
    "x=0.17\n",
    "for i in range(100):\n",
    "    s.append(x)\n",
    "    hierarchical_cluster = AgglomerativeClustering(n_clusters=None, distance_threshold=x, affinity='cosine', linkage='average')\n",
    "    silhouette_scores.append(silhouette_score(Multi_blob_Data, hierarchical_cluster.fit_predict(Multi_blob_Data)))\n",
    "    x=x+0.01\n",
    "plt.plot(s, silhouette_scores, marker='o')"
   ]
  },
  {
   "cell_type": "code",
   "execution_count": null,
   "metadata": {},
   "outputs": [],
   "source": [
    "linkage_data = linkage(Multi_blob_Data, method='average', metric='cosine')\n",
    "dendrogram(linkage_data)\n",
    "plt.show()"
   ]
  },
  {
   "cell_type": "code",
   "execution_count": null,
   "metadata": {},
   "outputs": [],
   "source": [
    "x=6\n",
    "for m in range(9):\n",
    "    hierarchical_cluster = AgglomerativeClustering(n_clusters=None, distance_threshold=x, affinity='manhattan', linkage='average')\n",
    "    labels = hierarchical_cluster.fit_predict(Multi_blob_Data)\n",
    "    plt.subplot(3,3,m+1)\n",
    "    plt.tight_layout()\n",
    "    plt.title(label=round(x, 2))\n",
    "    display_cluster(Multi_blob_Data,hierarchical_cluster,hierarchical_cluster.n_clusters_)\n",
    "    x=x+0.25"
   ]
  },
  {
   "cell_type": "code",
   "execution_count": null,
   "metadata": {},
   "outputs": [],
   "source": [
    "x=8.25\n",
    "for m in range(9):\n",
    "    hierarchical_cluster = AgglomerativeClustering(n_clusters=None, distance_threshold=x, affinity='manhattan', linkage='average')\n",
    "    labels = hierarchical_cluster.fit_predict(Multi_blob_Data)\n",
    "    plt.subplot(3,3,m+1)\n",
    "    plt.tight_layout()\n",
    "    plt.title(label=round(x, 2))\n",
    "    display_cluster(Multi_blob_Data,hierarchical_cluster,hierarchical_cluster.n_clusters_)\n",
    "    x=x+0.25"
   ]
  },
  {
   "cell_type": "code",
   "execution_count": null,
   "metadata": {},
   "outputs": [],
   "source": [
    "silhouette_scores = []\n",
    "s = []\n",
    "x=6\n",
    "for i in range(47):\n",
    "    s.append(x)\n",
    "    hierarchical_cluster = AgglomerativeClustering(n_clusters=None, distance_threshold=x, affinity='manhattan', linkage='average')\n",
    "    silhouette_scores.append(silhouette_score(Multi_blob_Data, hierarchical_cluster.fit_predict(Multi_blob_Data)))\n",
    "    x=x+0.1\n",
    "plt.plot(s, silhouette_scores, marker='o')"
   ]
  },
  {
   "cell_type": "code",
   "execution_count": null,
   "metadata": {},
   "outputs": [],
   "source": [
    "linkage_data = linkage(Multi_blob_Data, method='average', metric='cityblock')\n",
    "dendrogram(linkage_data)\n",
    "plt.show()"
   ]
  },
  {
   "cell_type": "code",
   "execution_count": null,
   "metadata": {},
   "outputs": [],
   "source": [
    "linkage_data = linkage(Multi_blob_Data, method='single', metric='euclidean')\n",
    "dendrogram(linkage_data)\n",
    "plt.show()"
   ]
  },
  {
   "cell_type": "code",
   "execution_count": null,
   "metadata": {},
   "outputs": [],
   "source": [
    "x=1.15\n",
    "for m in range(9):\n",
    "    hierarchical_cluster = AgglomerativeClustering(n_clusters=None, distance_threshold=x, affinity='euclidean', linkage='single')\n",
    "    labels = hierarchical_cluster.fit_predict(Multi_blob_Data)\n",
    "    plt.subplot(3,3,m+1)\n",
    "    plt.tight_layout()\n",
    "    plt.title(label=round(x, 2))\n",
    "    display_cluster(Multi_blob_Data,hierarchical_cluster,hierarchical_cluster.n_clusters_)\n",
    "    x=x+0.05"
   ]
  },
  {
   "cell_type": "code",
   "execution_count": null,
   "metadata": {},
   "outputs": [],
   "source": [
    "silhouette_scores = []\n",
    "s = []\n",
    "x=1.15\n",
    "for i in range(19):\n",
    "    s.append(x)\n",
    "    hierarchical_cluster = AgglomerativeClustering(n_clusters=None, distance_threshold=x, affinity='euclidean', linkage='single')\n",
    "    silhouette_scores.append(silhouette_score(Multi_blob_Data, hierarchical_cluster.fit_predict(Multi_blob_Data)))\n",
    "    x=x+0.05\n",
    "plt.plot(s, silhouette_scores, marker='o')"
   ]
  },
  {
   "cell_type": "code",
   "execution_count": null,
   "metadata": {},
   "outputs": [],
   "source": [
    "linkage_data = linkage(Multi_blob_Data, method='single', metric='cosine')\n",
    "dendrogram(linkage_data)\n",
    "plt.show()"
   ]
  },
  {
   "cell_type": "code",
   "execution_count": null,
   "metadata": {},
   "outputs": [],
   "source": [
    "x=0.003\n",
    "for m in range(9):\n",
    "    hierarchical_cluster = AgglomerativeClustering(n_clusters=None, distance_threshold=x, affinity='cosine', linkage='single')\n",
    "    labels = hierarchical_cluster.fit_predict(Multi_blob_Data)\n",
    "    plt.subplot(3,3,m+1)\n",
    "    plt.tight_layout()\n",
    "    plt.title(label=round(x, 4))\n",
    "    display_cluster(Multi_blob_Data,hierarchical_cluster,hierarchical_cluster.n_clusters_)\n",
    "    x=x+0.0005"
   ]
  },
  {
   "cell_type": "code",
   "execution_count": null,
   "metadata": {
    "scrolled": false
   },
   "outputs": [],
   "source": [
    "x=0.0075\n",
    "for m in range(9):\n",
    "    hierarchical_cluster = AgglomerativeClustering(n_clusters=None, distance_threshold=x, affinity='cosine', linkage='single')\n",
    "    labels = hierarchical_cluster.fit_predict(Multi_blob_Data)\n",
    "    plt.subplot(3,3,m+1)\n",
    "    plt.tight_layout()\n",
    "    plt.title(label=round(x, 4))\n",
    "    display_cluster(Multi_blob_Data,hierarchical_cluster,hierarchical_cluster.n_clusters_)\n",
    "    x=x+0.0005"
   ]
  },
  {
   "cell_type": "code",
   "execution_count": null,
   "metadata": {},
   "outputs": [],
   "source": [
    "silhouette_scores = []\n",
    "s = []\n",
    "x=0.003\n",
    "for i in range(14):\n",
    "    s.append(x)\n",
    "    hierarchical_cluster = AgglomerativeClustering(n_clusters=None, distance_threshold=x, affinity='cosine', linkage='single')\n",
    "    silhouette_scores.append(silhouette_score(Multi_blob_Data, hierarchical_cluster.fit_predict(Multi_blob_Data)))\n",
    "    x=x+0.0005\n",
    "plt.plot(s, silhouette_scores, marker='o')"
   ]
  },
  {
   "cell_type": "code",
   "execution_count": null,
   "metadata": {},
   "outputs": [],
   "source": [
    "linkage_data = linkage(Multi_blob_Data, method='single', metric='cityblock')\n",
    "dendrogram(linkage_data)\n",
    "plt.show()"
   ]
  },
  {
   "cell_type": "code",
   "execution_count": null,
   "metadata": {},
   "outputs": [],
   "source": [
    "x=1.5\n",
    "for m in range(9):\n",
    "    hierarchical_cluster = AgglomerativeClustering(n_clusters=None, distance_threshold=x, affinity='cityblock', linkage='single')\n",
    "    labels = hierarchical_cluster.fit_predict(Multi_blob_Data)\n",
    "    plt.subplot(3,3,m+1)\n",
    "    plt.tight_layout()\n",
    "    plt.title(label=round(x, 4))\n",
    "    display_cluster(Multi_blob_Data,hierarchical_cluster,hierarchical_cluster.n_clusters_)\n",
    "    x=x+0.05"
   ]
  },
  {
   "cell_type": "markdown",
   "metadata": {},
   "source": []
  },
  {
   "cell_type": "code",
   "execution_count": null,
   "metadata": {},
   "outputs": [],
   "source": []
  },
  {
   "cell_type": "code",
   "execution_count": null,
   "metadata": {},
   "outputs": [],
   "source": [
    "silhouette_scores = []\n",
    "s = []\n",
    "x=1.5\n",
    "for i in range(18):\n",
    "    s.append(x)\n",
    "    hierarchical_cluster = AgglomerativeClustering(n_clusters=None, distance_threshold=x, affinity='cityblock', linkage='single')\n",
    "    silhouette_scores.append(silhouette_score(Multi_blob_Data, hierarchical_cluster.fit_predict(Multi_blob_Data)))\n",
    "    x=x+0.05\n",
    "plt.plot(s, silhouette_scores, marker='o')"
   ]
  },
  {
   "cell_type": "markdown",
   "metadata": {
    "id": "3O_6WwKoudb-"
   },
   "source": []
  },
  {
   "cell_type": "markdown",
   "metadata": {
    "id": "myJE7vQKudb-"
   },
   "source": [
    "### DBScan\n",
    "* Use DBScan function to  to cluster the above data \n",
    "* In the  DBscan change the following parameters \n",
    "    * EPS (from 0.1 to 3)\n",
    "    * Min_samples (from 5 to 25)\n",
    "* Plot the silhouette_score versus the variation in the EPS and the min_samples\n",
    "* Plot the resulting Clusters in this case \n",
    "* Find the set of paramters that would find result in the best silhouette_score and store this score for later comparison with other clustering techniques. \n",
    "* Record your observations and comments "
   ]
  },
  {
   "cell_type": "code",
   "execution_count": null,
   "metadata": {},
   "outputs": [],
   "source": [
    "# helper function that allows us to display data in 2 dimensions an highlights the clusters\n",
    "def display_clusterr(X,km=[],num_clusters=0):\n",
    "    color = 'brgcmyk'  #List colors\n",
    "    color\n",
    "    alpha = 0.5  #color obaque\n",
    "    s = 20\n",
    "    if num_clusters == 0:\n",
    "        plt.scatter(X[:,0],X[:,1],c = color[0],alpha = alpha,s = s)\n",
    "    else:\n",
    "        for i in range(num_clusters):\n",
    "            plt.scatter(X[km.labels_==i,0],X[km.labels_==i,1],c = color[i],alpha = alpha,s=s)\n",
    "            plt.scatter(X[km.labels_==-1,0],X[km.labels_==-1,1],c = color[6],alpha = alpha,s=s)\n",
    "            #plt.scatter(km.cluster_centers_[i][0],km.cluster_centers_[i][1],c = color[i], marker = 'x', s = 100)"
   ]
  },
  {
   "cell_type": "code",
   "execution_count": null,
   "metadata": {},
   "outputs": [],
   "source": [
    "silhouette_scores = []\n",
    "s = []\n",
    "e=0.3\n",
    "n=5\n",
    "for m in range(18):\n",
    "    n=5\n",
    "    for i in range(19):\n",
    "        s.append(e)\n",
    "        db_default = DBSCAN(eps = e, min_samples = n).fit(Multi_blob_Data)\n",
    "        silhouette_scores.append(silhouette_score(Multi_blob_Data, db_default.fit_predict(Multi_blob_Data)))\n",
    "        n=n+1\n",
    "    e=e+0.1\n",
    "print(e)\n",
    "plt.plot(s,silhouette_scores, marker='o')"
   ]
  },
  {
   "cell_type": "code",
   "execution_count": null,
   "metadata": {},
   "outputs": [],
   "source": [
    "silhouette_scores = []\n",
    "s = []\n",
    "e=1\n",
    "n=5\n",
    "for m in range(9):\n",
    "    n=5\n",
    "    for i in range(19):\n",
    "        s.append(e)\n",
    "        db_default = DBSCAN(eps = e, min_samples = n).fit(Multi_blob_Data)\n",
    "        silhouette_scores.append(silhouette_score(Multi_blob_Data, db_default.fit_predict(Multi_blob_Data)))\n",
    "        n=n+1\n",
    "    e=e+0.1\n",
    "print(e)\n",
    "plt.plot(s,silhouette_scores, marker='o')"
   ]
  },
  {
   "cell_type": "code",
   "execution_count": null,
   "metadata": {},
   "outputs": [],
   "source": [
    "silhouette_scores = []\n",
    "s = []\n",
    "e=1.2\n",
    "n=5\n",
    "for i in range(19):\n",
    "    s.append(n)\n",
    "    db_default = DBSCAN(eps = e, min_samples = n).fit(Multi_blob_Data)\n",
    "    silhouette_scores.append(silhouette_score(Multi_blob_Data, db_default.fit_predict(Multi_blob_Data)))\n",
    "    n=n+1\n",
    "print(e)\n",
    "plt.plot(s,silhouette_scores, marker='o')"
   ]
  },
  {
   "cell_type": "code",
   "execution_count": null,
   "metadata": {},
   "outputs": [],
   "source": [
    "e=1.2\n",
    "n=5\n",
    "for m in range(9):\n",
    "    db_default = DBSCAN(eps = e, min_samples = n).fit(Multi_blob_Data)\n",
    "    labels = db_default.labels_\n",
    "    plt.subplot(3,3,m+1)\n",
    "    plt.tight_layout()\n",
    "    plt.title(label= (\"Eps= \"+str(round(e, 2)) + \"  n= \"+str(n)))\n",
    "    display_clusterr(Multi_blob_Data,db_default,7)\n",
    "    n=n+2.5\n"
   ]
  },
  {
   "cell_type": "code",
   "execution_count": null,
   "metadata": {},
   "outputs": [],
   "source": [
    "e=0.8\n",
    "n=5\n",
    "for m in range(9):\n",
    "    db_default = DBSCAN(eps = e, min_samples = n).fit(Multi_blob_Data)\n",
    "    labels = db_default.labels_\n",
    "    plt.subplot(3,3,m+1)\n",
    "    plt.tight_layout()\n",
    "    plt.title(label= (\"Eps= \"+str(round(e, 2)) + \"  n= \"+str(n)))\n",
    "    display_clusterr(Multi_blob_Data,db_default,7)\n",
    "    n=n+2.5\n"
   ]
  },
  {
   "cell_type": "markdown",
   "metadata": {
    "id": "Ip16g1QFudb_"
   },
   "source": [
    "### Gaussian Mixture\n",
    "* Use GaussianMixture function to cluster the above data \n",
    "* In GMM change the covariance_type and check the difference in the resulting proabability fit \n",
    "* Use a 2D contour plot to plot the resulting distribution (the components of the GMM) as well as the total Gaussian mixture "
   ]
  },
  {
   "cell_type": "code",
   "execution_count": null,
   "metadata": {},
   "outputs": [],
   "source": [
    "# helper function that allows us to display data in 2 dimensions an highlights the clusters\n",
    "def display_clusterG(X,km=[],num_clusters=0,hs=[]):\n",
    "    color = 'brgcmyk'  #List colors\n",
    "    color\n",
    "    alpha = 0.5  #color obaque\n",
    "    s = 20\n",
    "    if num_clusters == 0:\n",
    "        plt.scatter(X[:,0],X[:,1],c = color[0],alpha = alpha,s = s)\n",
    "    else:\n",
    "        for i in range(num_clusters):\n",
    "            plt.scatter(X[hs==i,0],X[hs==i,1],c = color[i],alpha = alpha,s=s)\n",
    "            plt.scatter(X[hs==-1,0],X[hs==-1,1],c = color[6],alpha = alpha,s=s)\n",
    "            #plt.scatter(km.cluster_centers_[i][0],km.cluster_centers_[i][1],c = color[i], marker = 'x', s = 100)"
   ]
  },
  {
   "cell_type": "code",
   "execution_count": null,
   "metadata": {},
   "outputs": [],
   "source": [
    "from sklearn.datasets import make_blobs\n",
    "from sklearn.mixture import GaussianMixture\n",
    "import matplotlib.pyplot as plt\n",
    "\n",
    "gmm = GaussianMixture(n_components=6)\n",
    "gmm.fit(Multi_blob_Data)\n",
    "\n",
    "labels = gmm.predict(Multi_blob_Data)\n",
    "display_clusterG(Multi_blob_Data,gmm, num_clusters=6,hs=labels)"
   ]
  },
  {
   "cell_type": "code",
   "execution_count": null,
   "metadata": {
    "scrolled": false
   },
   "outputs": [],
   "source": [
    "from sklearn.datasets import make_blobs\n",
    "from sklearn.mixture import GaussianMixture\n",
    "import matplotlib.pyplot as plt\n",
    "cov_types = ['full', 'tied', 'diag', 'spherical']\n",
    "for m in range(4):\n",
    "    gmm = GaussianMixture(n_components=6, covariance_type= cov_types[m])\n",
    "    gmm.fit(Multi_blob_Data)\n",
    "    labels = gmm.predict(Multi_blob_Data)\n",
    "    plt.subplot(2,2,m+1)\n",
    "    plt.tight_layout()\n",
    "    plt.title(cov_types[m])\n",
    "    display_clusterG(Multi_blob_Data,gmm, num_clusters=6,hs=labels)"
   ]
  },
  {
   "cell_type": "markdown",
   "metadata": {
    "id": "m92lZkkyudb_"
   },
   "source": [
    "## iris data set \n",
    "The iris data set is test data set that is part of the Sklearn module \n",
    "which contains 150 records each with 4 features. All the features are represented by real numbers \n",
    "\n",
    "The data represents three classes \n"
   ]
  },
  {
   "cell_type": "code",
   "execution_count": null,
   "metadata": {},
   "outputs": [],
   "source": [
    "import seaborn as sns\n",
    "sns.set(style=\"ticks\")\n",
    "sns.pairplot(data=sns.load_dataset(\"iris\"), hue=\"species\")\n",
    "plt.show()"
   ]
  },
  {
   "cell_type": "code",
   "execution_count": null,
   "metadata": {
    "id": "_QaCWyyCudcA",
    "outputId": "79c14dba-80cf-4d96-e69d-70763b789faf",
    "scrolled": true
   },
   "outputs": [],
   "source": [
    "from sklearn.datasets import load_iris\n",
    "iris_data = load_iris()\n",
    "iris_data.target[[10, 25, 50]]\n",
    "#array([0, 0, 1])\n",
    "list(iris_data.target_names)\n",
    "['setosa', 'versicolor', 'virginica']\n",
    "i=iris_data.data"
   ]
  },
  {
   "cell_type": "markdown",
   "metadata": {
    "id": "WyoCVfyMudcA"
   },
   "source": [
    "* Repeat all the above clustering approaches and steps on the above data \n",
    "* Normalize the data then repeat all the above steps \n",
    "* Compare between the different clustering approaches "
   ]
  },
  {
   "cell_type": "code",
   "execution_count": null,
   "metadata": {
    "scrolled": false
   },
   "outputs": [],
   "source": [
    "#for x in range(1,8):\n",
    "kmeans = KMeans(n_clusters=1)\n",
    "kmeans.fit(i)\n",
    "x=1\n",
    "for j in range (0,4):\n",
    "    for b in range(0,4):\n",
    "        if b!=j:\n",
    "            #print(\"b=\"+str(b)+\" \"+\"j=\"+str(j))\n",
    "            plt.tight_layout()\n",
    "            plt.subplot(4,3,x)\n",
    "            #plt.title('k='+str(x))\n",
    "            display_clusterr(i[:,[b,j]],kmeans,kmeans.n_clusters)\n",
    "            x=x+1\n",
    "            if b==0:\n",
    "                plt.xlabel('Sepal Length')\n",
    "            elif b==1:\n",
    "                plt.xlabel('Sepal Width')\n",
    "            elif b==2:\n",
    "                plt.xlabel('Petal Length')\n",
    "            elif b==3:\n",
    "                plt.xlabel('Petal Width')\n",
    "            if j==0:\n",
    "                plt.ylabel('Sepal Length')\n",
    "            elif j==1:\n",
    "                plt.ylabel('Sepal Width')\n",
    "            elif j==2:\n",
    "                plt.ylabel('Petal Length')\n",
    "            elif j==3:\n",
    "                plt.ylabel('Petal Width')\n"
   ]
  },
  {
   "cell_type": "code",
   "execution_count": null,
   "metadata": {},
   "outputs": [],
   "source": [
    "#for x in range(1,8):\n",
    "kmeans = KMeans(n_clusters=1)\n",
    "kmeans.fit(i)\n",
    "x=1\n",
    "for j in range (0,4):\n",
    "    for b in range(0,4):\n",
    "        if b!=j:\n",
    "            #print(\"b=\"+str(b)+\" \"+\"j=\"+str(j))\n",
    "            plt.tight_layout()\n",
    "            plt.subplot(4,3,x)\n",
    "            #plt.title('k='+str(x))\n",
    "            display_clusterr(i[:,[b,j]],kmeans,kmeans.n_clusters)\n",
    "            x=x+1\n",
    "            if b==0:\n",
    "                plt.xlabel('Sepal Length')\n",
    "            elif b==1:\n",
    "                plt.xlabel('Sepal Width')\n",
    "            elif b==2:\n",
    "                plt.xlabel('Petal Length')\n",
    "            elif b==3:\n",
    "                plt.xlabel('Petal Width')\n",
    "            if j==0:\n",
    "                plt.ylabel('Sepal Length')\n",
    "            elif j==1:\n",
    "                plt.ylabel('Sepal Width')\n",
    "            elif j==2:\n",
    "                plt.ylabel('Petal Length')\n",
    "            elif j==3:\n",
    "                plt.ylabel('Petal Width')"
   ]
  },
  {
   "cell_type": "code",
   "execution_count": null,
   "metadata": {},
   "outputs": [],
   "source": [
    "#for x in range(1,8):\n",
    "kmeans = KMeans(n_clusters=2)\n",
    "kmeans.fit(i)\n",
    "x=1\n",
    "for j in range (0,4):\n",
    "    for b in range(0,4):\n",
    "        if b!=j:\n",
    "            #print(\"b=\"+str(b)+\" \"+\"j=\"+str(j))\n",
    "            plt.tight_layout()\n",
    "            plt.subplot(4,3,x)\n",
    "            #plt.title('k='+str(x))\n",
    "            display_clusterr(i[:,[b,j]],kmeans,kmeans.n_clusters)\n",
    "            x=x+1\n",
    "            if b==0:\n",
    "                plt.xlabel('Sepal Length')\n",
    "            elif b==1:\n",
    "                plt.xlabel('Sepal Width')\n",
    "            elif b==2:\n",
    "                plt.xlabel('Petal Length')\n",
    "            elif b==3:\n",
    "                plt.xlabel('Petal Width')\n",
    "            if j==0:\n",
    "                plt.ylabel('Sepal Length')\n",
    "            elif j==1:\n",
    "                plt.ylabel('Sepal Width')\n",
    "            elif j==2:\n",
    "                plt.ylabel('Petal Length')\n",
    "            elif j==3:\n",
    "                plt.ylabel('Petal Width')"
   ]
  },
  {
   "cell_type": "code",
   "execution_count": null,
   "metadata": {},
   "outputs": [],
   "source": [
    "#for x in range(1,8):\n",
    "kmeans = KMeans(n_clusters=3)\n",
    "kmeans.fit(i)\n",
    "x=1\n",
    "for j in range (0,4):\n",
    "    for b in range(0,4):\n",
    "        if b!=j:\n",
    "            #print(\"b=\"+str(b)+\" \"+\"j=\"+str(j))\n",
    "            plt.tight_layout()\n",
    "            plt.subplot(4,3,x)\n",
    "            #plt.title('k='+str(x))\n",
    "            display_clusterr(i[:,[b,j]],kmeans,kmeans.n_clusters)\n",
    "            x=x+1\n",
    "            if b==0:\n",
    "                plt.xlabel('Sepal Length')\n",
    "            elif b==1:\n",
    "                plt.xlabel('Sepal Width')\n",
    "            elif b==2:\n",
    "                plt.xlabel('Petal Length')\n",
    "            elif b==3:\n",
    "                plt.xlabel('Petal Width')\n",
    "            if j==0:\n",
    "                plt.ylabel('Sepal Length')\n",
    "            elif j==1:\n",
    "                plt.ylabel('Sepal Width')\n",
    "            elif j==2:\n",
    "                plt.ylabel('Petal Length')\n",
    "            elif j==3:\n",
    "                plt.ylabel('Petal Width')"
   ]
  },
  {
   "cell_type": "code",
   "execution_count": null,
   "metadata": {},
   "outputs": [],
   "source": [
    "#for x in range(1,8):\n",
    "kmeans = KMeans(n_clusters=4)\n",
    "kmeans.fit(i)\n",
    "x=1\n",
    "for j in range (0,4):\n",
    "    for b in range(0,4):\n",
    "        if b!=j:\n",
    "            #print(\"b=\"+str(b)+\" \"+\"j=\"+str(j))\n",
    "            plt.tight_layout()\n",
    "            plt.subplot(4,3,x)\n",
    "            #plt.title('k='+str(x))\n",
    "            display_clusterr(i[:,[b,j]],kmeans,kmeans.n_clusters)\n",
    "            x=x+1\n",
    "            if b==0:\n",
    "                plt.xlabel('Sepal Length')\n",
    "            elif b==1:\n",
    "                plt.xlabel('Sepal Width')\n",
    "            elif b==2:\n",
    "                plt.xlabel('Petal Length')\n",
    "            elif b==3:\n",
    "                plt.xlabel('Petal Width')\n",
    "            if j==0:\n",
    "                plt.ylabel('Sepal Length')\n",
    "            elif j==1:\n",
    "                plt.ylabel('Sepal Width')\n",
    "            elif j==2:\n",
    "                plt.ylabel('Petal Length')\n",
    "            elif j==3:\n",
    "                plt.ylabel('Petal Width')"
   ]
  },
  {
   "cell_type": "code",
   "execution_count": null,
   "metadata": {},
   "outputs": [],
   "source": [
    "#for x in range(1,8):\n",
    "kmeans = KMeans(n_clusters=5)\n",
    "kmeans.fit(i)\n",
    "x=1\n",
    "for j in range (0,4):\n",
    "    for b in range(0,4):\n",
    "        if b!=j:\n",
    "            #print(\"b=\"+str(b)+\" \"+\"j=\"+str(j))\n",
    "            plt.tight_layout()\n",
    "            plt.subplot(4,3,x)\n",
    "            #plt.title('k='+str(x))\n",
    "            display_clusterr(i[:,[b,j]],kmeans,kmeans.n_clusters)\n",
    "            x=x+1\n",
    "            if b==0:\n",
    "                plt.xlabel('Sepal Length')\n",
    "            elif b==1:\n",
    "                plt.xlabel('Sepal Width')\n",
    "            elif b==2:\n",
    "                plt.xlabel('Petal Length')\n",
    "            elif b==3:\n",
    "                plt.xlabel('Petal Width')\n",
    "            if j==0:\n",
    "                plt.ylabel('Sepal Length')\n",
    "            elif j==1:\n",
    "                plt.ylabel('Sepal Width')\n",
    "            elif j==2:\n",
    "                plt.ylabel('Petal Length')\n",
    "            elif j==3:\n",
    "                plt.ylabel('Petal Width')"
   ]
  },
  {
   "cell_type": "code",
   "execution_count": null,
   "metadata": {},
   "outputs": [],
   "source": [
    "#for x in range(1,8):\n",
    "kmeans = KMeans(n_clusters=6)\n",
    "kmeans.fit(i)\n",
    "x=1\n",
    "for j in range (0,4):\n",
    "    for b in range(0,4):\n",
    "        if b!=j:\n",
    "            #print(\"b=\"+str(b)+\" \"+\"j=\"+str(j))\n",
    "            plt.tight_layout()\n",
    "            plt.subplot(4,3,x)\n",
    "            #plt.title('k='+str(x))\n",
    "            display_clusterr(i[:,[b,j]],kmeans,kmeans.n_clusters)\n",
    "            x=x+1\n",
    "            if b==0:\n",
    "                plt.xlabel('Sepal Length')\n",
    "            elif b==1:\n",
    "                plt.xlabel('Sepal Width')\n",
    "            elif b==2:\n",
    "                plt.xlabel('Petal Length')\n",
    "            elif b==3:\n",
    "                plt.xlabel('Petal Width')\n",
    "            if j==0:\n",
    "                plt.ylabel('Sepal Length')\n",
    "            elif j==1:\n",
    "                plt.ylabel('Sepal Width')\n",
    "            elif j==2:\n",
    "                plt.ylabel('Petal Length')\n",
    "            elif j==3:\n",
    "                plt.ylabel('Petal Width')"
   ]
  },
  {
   "cell_type": "code",
   "execution_count": null,
   "metadata": {},
   "outputs": [],
   "source": [
    "inertias = []\n",
    "for m in range(1,15):\n",
    "    kmeans = KMeans(n_clusters=m)\n",
    "    kmeans.fit(i)\n",
    "    inertias.append(kmeans.inertia_)\n",
    "plt.plot(range(1,15), inertias, marker='o')"
   ]
  },
  {
   "cell_type": "code",
   "execution_count": null,
   "metadata": {},
   "outputs": [],
   "source": [
    "score = []\n",
    "for m in range(2,15):\n",
    "    kmeans = KMeans(n_clusters=m)\n",
    "    kmeans.fit(i)\n",
    "    score.append(silhouette_score(i, kmeans.labels_, metric='euclidean'))\n",
    "plt.plot(range(2,15), score, marker='o')"
   ]
  },
  {
   "cell_type": "code",
   "execution_count": null,
   "metadata": {},
   "outputs": [],
   "source": [
    "#hierarchical_cluster\n",
    "#Multi_blob_Data\n",
    "linkage_data = linkage(i, method='average', metric='euclidean')\n",
    "dendrogram(linkage_data)\n",
    "plt.show()"
   ]
  },
  {
   "cell_type": "code",
   "execution_count": null,
   "metadata": {},
   "outputs": [],
   "source": [
    "d=1.1\n",
    "hierarchical_cluster = AgglomerativeClustering(n_clusters=None, distance_threshold=d, affinity='euclidean', linkage='average') \n",
    "labels = hierarchical_cluster.fit_predict(i) \n",
    "x=1\n",
    "print(\"distance threshold=\"+str(d))\n",
    "print(\"clusters=\"+str(hierarchical_cluster.n_clusters_))\n",
    "for j in range (0,4): \n",
    "    for b in range(0,4): \n",
    "        if b!=j: \n",
    "             \n",
    "            plt.tight_layout() \n",
    "            plt.subplot(4,3,x) \n",
    "            \n",
    "            display_cluster(i[:,[b,j]],hierarchical_cluster,hierarchical_cluster.n_clusters_) \n",
    "            x=x+1 \n",
    "            if b==0: \n",
    "                plt.xlabel('Sepal Length') \n",
    "            elif b==1: \n",
    "                plt.xlabel('Sepal Width') \n",
    "            elif b==2: \n",
    "                plt.xlabel('Petal Length') \n",
    "            elif b==3: \n",
    "                plt.xlabel('Petal Width') \n",
    "            if j==0: \n",
    "                plt.ylabel('Sepal Length') \n",
    "            elif j==1: \n",
    "                plt.ylabel('Sepal Width') \n",
    "            elif j==2: \n",
    "                plt.ylabel('Petal Length') \n",
    "            elif j==3: \n",
    "                plt.ylabel('Petal Width')"
   ]
  },
  {
   "cell_type": "code",
   "execution_count": null,
   "metadata": {},
   "outputs": [],
   "source": [
    "d=1.2\n",
    "hierarchical_cluster = AgglomerativeClustering(n_clusters=None, distance_threshold=d, affinity='euclidean', linkage='average') \n",
    "labels = hierarchical_cluster.fit_predict(i) \n",
    "x=1\n",
    "print(\"distance threshold=\"+str(d))\n",
    "print(\"clusters=\"+str(hierarchical_cluster.n_clusters_))\n",
    "for j in range (0,4): \n",
    "    for b in range(0,4): \n",
    "        if b!=j: \n",
    "             \n",
    "            plt.tight_layout() \n",
    "            plt.subplot(4,3,x) \n",
    "            \n",
    "            display_cluster(i[:,[b,j]],hierarchical_cluster,hierarchical_cluster.n_clusters_) \n",
    "            x=x+1 \n",
    "            if b==0: \n",
    "                plt.xlabel('Sepal Length') \n",
    "            elif b==1: \n",
    "                plt.xlabel('Sepal Width') \n",
    "            elif b==2: \n",
    "                plt.xlabel('Petal Length') \n",
    "            elif b==3: \n",
    "                plt.xlabel('Petal Width') \n",
    "            if j==0: \n",
    "                plt.ylabel('Sepal Length') \n",
    "            elif j==1: \n",
    "                plt.ylabel('Sepal Width') \n",
    "            elif j==2: \n",
    "                plt.ylabel('Petal Length') \n",
    "            elif j==3: \n",
    "                plt.ylabel('Petal Width')"
   ]
  },
  {
   "cell_type": "code",
   "execution_count": null,
   "metadata": {},
   "outputs": [],
   "source": [
    "d=1.3\n",
    "hierarchical_cluster = AgglomerativeClustering(n_clusters=None, distance_threshold=d, affinity='euclidean', linkage='average') \n",
    "labels = hierarchical_cluster.fit_predict(i) \n",
    "x=1\n",
    "print(\"distance threshold=\"+str(d))\n",
    "print(\"clusters=\"+str(hierarchical_cluster.n_clusters_))\n",
    "for j in range (0,4): \n",
    "    for b in range(0,4): \n",
    "        if b!=j: \n",
    "             \n",
    "            plt.tight_layout() \n",
    "            plt.subplot(4,3,x) \n",
    "            \n",
    "            display_cluster(i[:,[b,j]],hierarchical_cluster,hierarchical_cluster.n_clusters_) \n",
    "            x=x+1 \n",
    "            if b==0: \n",
    "                plt.xlabel('Sepal Length') \n",
    "            elif b==1: \n",
    "                plt.xlabel('Sepal Width') \n",
    "            elif b==2: \n",
    "                plt.xlabel('Petal Length') \n",
    "            elif b==3: \n",
    "                plt.xlabel('Petal Width') \n",
    "            if j==0: \n",
    "                plt.ylabel('Sepal Length') \n",
    "            elif j==1: \n",
    "                plt.ylabel('Sepal Width') \n",
    "            elif j==2: \n",
    "                plt.ylabel('Petal Length') \n",
    "            elif j==3: \n",
    "                plt.ylabel('Petal Width')"
   ]
  },
  {
   "cell_type": "code",
   "execution_count": null,
   "metadata": {},
   "outputs": [],
   "source": [
    "d=1.4\n",
    "hierarchical_cluster = AgglomerativeClustering(n_clusters=None, distance_threshold=d, affinity='euclidean', linkage='average') \n",
    "labels = hierarchical_cluster.fit_predict(i) \n",
    "x=1\n",
    "print(\"distance threshold=\"+str(d))\n",
    "print(\"clusters=\"+str(hierarchical_cluster.n_clusters_))\n",
    "for j in range (0,4): \n",
    "    for b in range(0,4): \n",
    "        if b!=j: \n",
    "             \n",
    "            plt.tight_layout() \n",
    "            plt.subplot(4,3,x) \n",
    "            \n",
    "            display_cluster(i[:,[b,j]],hierarchical_cluster,hierarchical_cluster.n_clusters_) \n",
    "            x=x+1 \n",
    "            if b==0: \n",
    "                plt.xlabel('Sepal Length') \n",
    "            elif b==1: \n",
    "                plt.xlabel('Sepal Width') \n",
    "            elif b==2: \n",
    "                plt.xlabel('Petal Length') \n",
    "            elif b==3: \n",
    "                plt.xlabel('Petal Width') \n",
    "            if j==0: \n",
    "                plt.ylabel('Sepal Length') \n",
    "            elif j==1: \n",
    "                plt.ylabel('Sepal Width') \n",
    "            elif j==2: \n",
    "                plt.ylabel('Petal Length') \n",
    "            elif j==3: \n",
    "                plt.ylabel('Petal Width')"
   ]
  },
  {
   "cell_type": "code",
   "execution_count": null,
   "metadata": {},
   "outputs": [],
   "source": [
    "d=1.5\n",
    "hierarchical_cluster = AgglomerativeClustering(n_clusters=None, distance_threshold=d, affinity='euclidean', linkage='average') \n",
    "labels = hierarchical_cluster.fit_predict(i) \n",
    "x=1\n",
    "print(\"distance threshold=\"+str(d))\n",
    "print(\"clusters=\"+str(hierarchical_cluster.n_clusters_))\n",
    "for j in range (0,4): \n",
    "    for b in range(0,4): \n",
    "        if b!=j: \n",
    "             \n",
    "            plt.tight_layout() \n",
    "            plt.subplot(4,3,x) \n",
    "            \n",
    "            display_cluster(i[:,[b,j]],hierarchical_cluster,hierarchical_cluster.n_clusters_) \n",
    "            x=x+1 \n",
    "            if b==0: \n",
    "                plt.xlabel('Sepal Length') \n",
    "            elif b==1: \n",
    "                plt.xlabel('Sepal Width') \n",
    "            elif b==2: \n",
    "                plt.xlabel('Petal Length') \n",
    "            elif b==3: \n",
    "                plt.xlabel('Petal Width') \n",
    "            if j==0: \n",
    "                plt.ylabel('Sepal Length') \n",
    "            elif j==1: \n",
    "                plt.ylabel('Sepal Width') \n",
    "            elif j==2: \n",
    "                plt.ylabel('Petal Length') \n",
    "            elif j==3: \n",
    "                plt.ylabel('Petal Width')"
   ]
  },
  {
   "cell_type": "code",
   "execution_count": null,
   "metadata": {},
   "outputs": [],
   "source": [
    "d=1.6\n",
    "hierarchical_cluster = AgglomerativeClustering(n_clusters=None, distance_threshold=d, affinity='euclidean', linkage='average') \n",
    "labels = hierarchical_cluster.fit_predict(i) \n",
    "x=1\n",
    "print(\"distance threshold=\"+str(d))\n",
    "print(\"clusters=\"+str(hierarchical_cluster.n_clusters_))\n",
    "for j in range (0,4): \n",
    "    for b in range(0,4): \n",
    "        if b!=j: \n",
    "             \n",
    "            plt.tight_layout() \n",
    "            plt.subplot(4,3,x) \n",
    "            \n",
    "            display_cluster(i[:,[b,j]],hierarchical_cluster,hierarchical_cluster.n_clusters_) \n",
    "            x=x+1 \n",
    "            if b==0: \n",
    "                plt.xlabel('Sepal Length') \n",
    "            elif b==1: \n",
    "                plt.xlabel('Sepal Width') \n",
    "            elif b==2: \n",
    "                plt.xlabel('Petal Length') \n",
    "            elif b==3: \n",
    "                plt.xlabel('Petal Width') \n",
    "            if j==0: \n",
    "                plt.ylabel('Sepal Length') \n",
    "            elif j==1: \n",
    "                plt.ylabel('Sepal Width') \n",
    "            elif j==2: \n",
    "                plt.ylabel('Petal Length') \n",
    "            elif j==3: \n",
    "                plt.ylabel('Petal Width')"
   ]
  },
  {
   "cell_type": "code",
   "execution_count": null,
   "metadata": {},
   "outputs": [],
   "source": [
    "d=1.7\n",
    "hierarchical_cluster = AgglomerativeClustering(n_clusters=None, distance_threshold=d, affinity='euclidean', linkage='average') \n",
    "labels = hierarchical_cluster.fit_predict(i) \n",
    "x=1\n",
    "print(\"distance threshold=\"+str(d))\n",
    "print(\"clusters=\"+str(hierarchical_cluster.n_clusters_))\n",
    "for j in range (0,4): \n",
    "    for b in range(0,4): \n",
    "        if b!=j: \n",
    "             \n",
    "            plt.tight_layout() \n",
    "            plt.subplot(4,3,x) \n",
    "            \n",
    "            display_cluster(i[:,[b,j]],hierarchical_cluster,hierarchical_cluster.n_clusters_) \n",
    "            x=x+1 \n",
    "            if b==0: \n",
    "                plt.xlabel('Sepal Length') \n",
    "            elif b==1: \n",
    "                plt.xlabel('Sepal Width') \n",
    "            elif b==2: \n",
    "                plt.xlabel('Petal Length') \n",
    "            elif b==3: \n",
    "                plt.xlabel('Petal Width') \n",
    "            if j==0: \n",
    "                plt.ylabel('Sepal Length') \n",
    "            elif j==1: \n",
    "                plt.ylabel('Sepal Width') \n",
    "            elif j==2: \n",
    "                plt.ylabel('Petal Length') \n",
    "            elif j==3: \n",
    "                plt.ylabel('Petal Width')"
   ]
  },
  {
   "cell_type": "code",
   "execution_count": null,
   "metadata": {},
   "outputs": [],
   "source": [
    "d=1.8\n",
    "hierarchical_cluster = AgglomerativeClustering(n_clusters=None, distance_threshold=d, affinity='euclidean', linkage='average') \n",
    "labels = hierarchical_cluster.fit_predict(i) \n",
    "x=1\n",
    "print(\"distance threshold=\"+str(d))\n",
    "print(\"clusters=\"+str(hierarchical_cluster.n_clusters_))\n",
    "for j in range (0,4): \n",
    "    for b in range(0,4): \n",
    "        if b!=j: \n",
    "             \n",
    "            plt.tight_layout() \n",
    "            plt.subplot(4,3,x) \n",
    "            \n",
    "            display_cluster(i[:,[b,j]],hierarchical_cluster,hierarchical_cluster.n_clusters_) \n",
    "            x=x+1 \n",
    "            if b==0: \n",
    "                plt.xlabel('Sepal Length') \n",
    "            elif b==1: \n",
    "                plt.xlabel('Sepal Width') \n",
    "            elif b==2: \n",
    "                plt.xlabel('Petal Length') \n",
    "            elif b==3: \n",
    "                plt.xlabel('Petal Width') \n",
    "            if j==0: \n",
    "                plt.ylabel('Sepal Length') \n",
    "            elif j==1: \n",
    "                plt.ylabel('Sepal Width') \n",
    "            elif j==2: \n",
    "                plt.ylabel('Petal Length') \n",
    "            elif j==3: \n",
    "                plt.ylabel('Petal Width')"
   ]
  },
  {
   "cell_type": "code",
   "execution_count": null,
   "metadata": {},
   "outputs": [],
   "source": [
    "d=1.9\n",
    "hierarchical_cluster = AgglomerativeClustering(n_clusters=None, distance_threshold=d, affinity='euclidean', linkage='average') \n",
    "labels = hierarchical_cluster.fit_predict(i) \n",
    "x=1\n",
    "print(\"distance threshold=\"+str(d))\n",
    "print(\"clusters=\"+str(hierarchical_cluster.n_clusters_))\n",
    "for j in range (0,4): \n",
    "    for b in range(0,4): \n",
    "        if b!=j: \n",
    "             \n",
    "            plt.tight_layout() \n",
    "            plt.subplot(4,3,x) \n",
    "            \n",
    "            display_cluster(i[:,[b,j]],hierarchical_cluster,hierarchical_cluster.n_clusters_) \n",
    "            x=x+1 \n",
    "            if b==0: \n",
    "                plt.xlabel('Sepal Length') \n",
    "            elif b==1: \n",
    "                plt.xlabel('Sepal Width') \n",
    "            elif b==2: \n",
    "                plt.xlabel('Petal Length') \n",
    "            elif b==3: \n",
    "                plt.xlabel('Petal Width') \n",
    "            if j==0: \n",
    "                plt.ylabel('Sepal Length') \n",
    "            elif j==1: \n",
    "                plt.ylabel('Sepal Width') \n",
    "            elif j==2: \n",
    "                plt.ylabel('Petal Length') \n",
    "            elif j==3: \n",
    "                plt.ylabel('Petal Width')"
   ]
  },
  {
   "cell_type": "code",
   "execution_count": null,
   "metadata": {},
   "outputs": [],
   "source": [
    "d=2\n",
    "hierarchical_cluster = AgglomerativeClustering(n_clusters=None, distance_threshold=d, affinity='euclidean', linkage='average') \n",
    "labels = hierarchical_cluster.fit_predict(i) \n",
    "x=1\n",
    "print(\"distance threshold=\"+str(d))\n",
    "print(\"clusters=\"+str(hierarchical_cluster.n_clusters_))\n",
    "for j in range (0,4): \n",
    "    for b in range(0,4): \n",
    "        if b!=j: \n",
    "             \n",
    "            plt.tight_layout() \n",
    "            plt.subplot(4,3,x) \n",
    "            \n",
    "            display_cluster(i[:,[b,j]],hierarchical_cluster,hierarchical_cluster.n_clusters_) \n",
    "            x=x+1 \n",
    "            if b==0: \n",
    "                plt.xlabel('Sepal Length') \n",
    "            elif b==1: \n",
    "                plt.xlabel('Sepal Width') \n",
    "            elif b==2: \n",
    "                plt.xlabel('Petal Length') \n",
    "            elif b==3: \n",
    "                plt.xlabel('Petal Width') \n",
    "            if j==0: \n",
    "                plt.ylabel('Sepal Length') \n",
    "            elif j==1: \n",
    "                plt.ylabel('Sepal Width') \n",
    "            elif j==2: \n",
    "                plt.ylabel('Petal Length') \n",
    "            elif j==3: \n",
    "                plt.ylabel('Petal Width')"
   ]
  },
  {
   "cell_type": "code",
   "execution_count": null,
   "metadata": {},
   "outputs": [],
   "source": [
    "silhouette_scores = []\n",
    "s = []\n",
    "x=1.1\n",
    "for m in range(18):\n",
    "    s.append(x)\n",
    "    hierarchical_cluster = AgglomerativeClustering(n_clusters=None, distance_threshold=x, affinity='euclidean', linkage='average')\n",
    "    silhouette_scores.append(silhouette_score(i, hierarchical_cluster.fit_predict(i)))\n",
    "    x=x+0.1\n",
    "plt.plot(s, silhouette_scores, marker='o')"
   ]
  },
  {
   "cell_type": "code",
   "execution_count": null,
   "metadata": {},
   "outputs": [],
   "source": [
    "#hierarchical_cluster\n",
    "#Multi_blob_Data\n",
    "linkage_data = linkage(i, method='average', metric='cityblock')\n",
    "dendrogram(linkage_data)\n",
    "plt.show()"
   ]
  },
  {
   "cell_type": "code",
   "execution_count": null,
   "metadata": {},
   "outputs": [],
   "source": [
    "d=2.000000000\n",
    "hierarchical_cluster = AgglomerativeClustering(n_clusters=None, distance_threshold=d, affinity='manhattan', linkage='average') \n",
    "labels = hierarchical_cluster.fit_predict(i) \n",
    "x=1\n",
    "print(\"distance threshold=\"+str(d))\n",
    "print(\"clusters=\"+str(hierarchical_cluster.n_clusters_))\n",
    "for j in range (0,4): \n",
    "    for b in range(0,4): \n",
    "        if b!=j: \n",
    "             \n",
    "            plt.tight_layout() \n",
    "            plt.subplot(4,3,x) \n",
    "            \n",
    "            display_cluster(i[:,[b,j]],hierarchical_cluster,hierarchical_cluster.n_clusters_) \n",
    "            x=x+1 \n",
    "            if b==0: \n",
    "                plt.xlabel('Sepal Length') \n",
    "            elif b==1: \n",
    "                plt.xlabel('Sepal Width') \n",
    "            elif b==2: \n",
    "                plt.xlabel('Petal Length') \n",
    "            elif b==3: \n",
    "                plt.xlabel('Petal Width') \n",
    "            if j==0: \n",
    "                plt.ylabel('Sepal Length') \n",
    "            elif j==1: \n",
    "                plt.ylabel('Sepal Width') \n",
    "            elif j==2: \n",
    "                plt.ylabel('Petal Length') \n",
    "            elif j==3: \n",
    "                plt.ylabel('Petal Width')\n",
    "                "
   ]
  },
  {
   "cell_type": "code",
   "execution_count": null,
   "metadata": {},
   "outputs": [],
   "source": [
    "hierarchical_cluster = AgglomerativeClustering(n_clusters=None, distance_threshold=d, affinity='manhattan', linkage='average') \n",
    "labels = hierarchical_cluster.fit_predict(i) \n",
    "x=1\n",
    "print(\"distance threshold=\"+str(d))\n",
    "print(\"clusters=\"+str(hierarchical_cluster.n_clusters_))\n",
    "for j in range (0,4): \n",
    "    for b in range(0,4): \n",
    "        if b!=j: \n",
    "             \n",
    "            plt.tight_layout() \n",
    "            plt.subplot(4,3,x) \n",
    "            \n",
    "            display_cluster(i[:,[b,j]],hierarchical_cluster,hierarchical_cluster.n_clusters_) \n",
    "            x=x+1 \n",
    "            if b==0: \n",
    "                plt.xlabel('Sepal Length') \n",
    "            elif b==1: \n",
    "                plt.xlabel('Sepal Width') \n",
    "            elif b==2: \n",
    "                plt.xlabel('Petal Length') \n",
    "            elif b==3: \n",
    "                plt.xlabel('Petal Width') \n",
    "            if j==0: \n",
    "                plt.ylabel('Sepal Length') \n",
    "            elif j==1: \n",
    "                plt.ylabel('Sepal Width') \n",
    "            elif j==2: \n",
    "                plt.ylabel('Petal Length') \n",
    "            elif j==3: \n",
    "                plt.ylabel('Petal Width')\n",
    "d=d+0.1  "
   ]
  },
  {
   "cell_type": "code",
   "execution_count": null,
   "metadata": {},
   "outputs": [],
   "source": [
    "hierarchical_cluster = AgglomerativeClustering(n_clusters=None, distance_threshold=d, affinity='manhattan', linkage='average') \n",
    "labels = hierarchical_cluster.fit_predict(i) \n",
    "x=1\n",
    "print(\"distance threshold=\"+str(d))\n",
    "print(\"clusters=\"+str(hierarchical_cluster.n_clusters_))\n",
    "for j in range (0,4): \n",
    "    for b in range(0,4): \n",
    "        if b!=j: \n",
    "             \n",
    "            plt.tight_layout() \n",
    "            plt.subplot(4,3,x) \n",
    "            \n",
    "            display_cluster(i[:,[b,j]],hierarchical_cluster,hierarchical_cluster.n_clusters_) \n",
    "            x=x+1 \n",
    "            if b==0: \n",
    "                plt.xlabel('Sepal Length') \n",
    "            elif b==1: \n",
    "                plt.xlabel('Sepal Width') \n",
    "            elif b==2: \n",
    "                plt.xlabel('Petal Length') \n",
    "            elif b==3: \n",
    "                plt.xlabel('Petal Width') \n",
    "            if j==0: \n",
    "                plt.ylabel('Sepal Length') \n",
    "            elif j==1: \n",
    "                plt.ylabel('Sepal Width') \n",
    "            elif j==2: \n",
    "                plt.ylabel('Petal Length') \n",
    "            elif j==3: \n",
    "                plt.ylabel('Petal Width')\n",
    "d=d+0.1  "
   ]
  },
  {
   "cell_type": "code",
   "execution_count": null,
   "metadata": {},
   "outputs": [],
   "source": [
    "hierarchical_cluster = AgglomerativeClustering(n_clusters=None, distance_threshold=d, affinity='manhattan', linkage='average') \n",
    "labels = hierarchical_cluster.fit_predict(i) \n",
    "x=1\n",
    "print(\"distance threshold=\"+str(d))\n",
    "print(\"clusters=\"+str(hierarchical_cluster.n_clusters_))\n",
    "for j in range (0,4): \n",
    "    for b in range(0,4): \n",
    "        if b!=j: \n",
    "             \n",
    "            plt.tight_layout() \n",
    "            plt.subplot(4,3,x) \n",
    "            \n",
    "            display_cluster(i[:,[b,j]],hierarchical_cluster,hierarchical_cluster.n_clusters_) \n",
    "            x=x+1 \n",
    "            if b==0: \n",
    "                plt.xlabel('Sepal Length') \n",
    "            elif b==1: \n",
    "                plt.xlabel('Sepal Width') \n",
    "            elif b==2: \n",
    "                plt.xlabel('Petal Length') \n",
    "            elif b==3: \n",
    "                plt.xlabel('Petal Width') \n",
    "            if j==0: \n",
    "                plt.ylabel('Sepal Length') \n",
    "            elif j==1: \n",
    "                plt.ylabel('Sepal Width') \n",
    "            elif j==2: \n",
    "                plt.ylabel('Petal Length') \n",
    "            elif j==3: \n",
    "                plt.ylabel('Petal Width')\n",
    "d=d+0.1  "
   ]
  },
  {
   "cell_type": "code",
   "execution_count": null,
   "metadata": {},
   "outputs": [],
   "source": [
    "hierarchical_cluster = AgglomerativeClustering(n_clusters=None, distance_threshold=d, affinity='manhattan', linkage='average') \n",
    "labels = hierarchical_cluster.fit_predict(i) \n",
    "x=1\n",
    "print(\"distance threshold=\"+str(d))\n",
    "print(\"clusters=\"+str(hierarchical_cluster.n_clusters_))\n",
    "for j in range (0,4): \n",
    "    for b in range(0,4): \n",
    "        if b!=j: \n",
    "             \n",
    "            plt.tight_layout() \n",
    "            plt.subplot(4,3,x) \n",
    "            \n",
    "            display_cluster(i[:,[b,j]],hierarchical_cluster,hierarchical_cluster.n_clusters_) \n",
    "            x=x+1 \n",
    "            if b==0: \n",
    "                plt.xlabel('Sepal Length') \n",
    "            elif b==1: \n",
    "                plt.xlabel('Sepal Width') \n",
    "            elif b==2: \n",
    "                plt.xlabel('Petal Length') \n",
    "            elif b==3: \n",
    "                plt.xlabel('Petal Width') \n",
    "            if j==0: \n",
    "                plt.ylabel('Sepal Length') \n",
    "            elif j==1: \n",
    "                plt.ylabel('Sepal Width') \n",
    "            elif j==2: \n",
    "                plt.ylabel('Petal Length') \n",
    "            elif j==3: \n",
    "                plt.ylabel('Petal Width')\n",
    "d=d+0.1  "
   ]
  },
  {
   "cell_type": "code",
   "execution_count": null,
   "metadata": {},
   "outputs": [],
   "source": [
    "hierarchical_cluster = AgglomerativeClustering(n_clusters=None, distance_threshold=d, affinity='manhattan', linkage='average') \n",
    "labels = hierarchical_cluster.fit_predict(i) \n",
    "x=1\n",
    "print(\"distance threshold=\"+str(d))\n",
    "print(\"clusters=\"+str(hierarchical_cluster.n_clusters_))\n",
    "for j in range (0,4): \n",
    "    for b in range(0,4): \n",
    "        if b!=j: \n",
    "             \n",
    "            plt.tight_layout() \n",
    "            plt.subplot(4,3,x) \n",
    "            \n",
    "            display_cluster(i[:,[b,j]],hierarchical_cluster,hierarchical_cluster.n_clusters_) \n",
    "            x=x+1 \n",
    "            if b==0: \n",
    "                plt.xlabel('Sepal Length') \n",
    "            elif b==1: \n",
    "                plt.xlabel('Sepal Width') \n",
    "            elif b==2: \n",
    "                plt.xlabel('Petal Length') \n",
    "            elif b==3: \n",
    "                plt.xlabel('Petal Width') \n",
    "            if j==0: \n",
    "                plt.ylabel('Sepal Length') \n",
    "            elif j==1: \n",
    "                plt.ylabel('Sepal Width') \n",
    "            elif j==2: \n",
    "                plt.ylabel('Petal Length') \n",
    "            elif j==3: \n",
    "                plt.ylabel('Petal Width')\n",
    "d=d+0.1  "
   ]
  },
  {
   "cell_type": "code",
   "execution_count": null,
   "metadata": {},
   "outputs": [],
   "source": [
    "hierarchical_cluster = AgglomerativeClustering(n_clusters=None, distance_threshold=d, affinity='manhattan', linkage='average') \n",
    "labels = hierarchical_cluster.fit_predict(i) \n",
    "x=1\n",
    "print(\"distance threshold=\"+str(d))\n",
    "print(\"clusters=\"+str(hierarchical_cluster.n_clusters_))\n",
    "for j in range (0,4): \n",
    "    for b in range(0,4): \n",
    "        if b!=j: \n",
    "             \n",
    "            plt.tight_layout() \n",
    "            plt.subplot(4,3,x) \n",
    "            \n",
    "            display_cluster(i[:,[b,j]],hierarchical_cluster,hierarchical_cluster.n_clusters_) \n",
    "            x=x+1 \n",
    "            if b==0: \n",
    "                plt.xlabel('Sepal Length') \n",
    "            elif b==1: \n",
    "                plt.xlabel('Sepal Width') \n",
    "            elif b==2: \n",
    "                plt.xlabel('Petal Length') \n",
    "            elif b==3: \n",
    "                plt.xlabel('Petal Width') \n",
    "            if j==0: \n",
    "                plt.ylabel('Sepal Length') \n",
    "            elif j==1: \n",
    "                plt.ylabel('Sepal Width') \n",
    "            elif j==2: \n",
    "                plt.ylabel('Petal Length') \n",
    "            elif j==3: \n",
    "                plt.ylabel('Petal Width')\n",
    "d=d+0.1  "
   ]
  },
  {
   "cell_type": "code",
   "execution_count": null,
   "metadata": {},
   "outputs": [],
   "source": [
    "hierarchical_cluster = AgglomerativeClustering(n_clusters=None, distance_threshold=d, affinity='manhattan', linkage='average') \n",
    "labels = hierarchical_cluster.fit_predict(i) \n",
    "x=1\n",
    "print(\"distance threshold=\"+str(d))\n",
    "print(\"clusters=\"+str(hierarchical_cluster.n_clusters_))\n",
    "for j in range (0,4): \n",
    "    for b in range(0,4): \n",
    "        if b!=j: \n",
    "             \n",
    "            plt.tight_layout() \n",
    "            plt.subplot(4,3,x) \n",
    "            \n",
    "            display_cluster(i[:,[b,j]],hierarchical_cluster,hierarchical_cluster.n_clusters_) \n",
    "            x=x+1 \n",
    "            if b==0: \n",
    "                plt.xlabel('Sepal Length') \n",
    "            elif b==1: \n",
    "                plt.xlabel('Sepal Width') \n",
    "            elif b==2: \n",
    "                plt.xlabel('Petal Length') \n",
    "            elif b==3: \n",
    "                plt.xlabel('Petal Width') \n",
    "            if j==0: \n",
    "                plt.ylabel('Sepal Length') \n",
    "            elif j==1: \n",
    "                plt.ylabel('Sepal Width') \n",
    "            elif j==2: \n",
    "                plt.ylabel('Petal Length') \n",
    "            elif j==3: \n",
    "                plt.ylabel('Petal Width')\n",
    "d=d+0.1  "
   ]
  },
  {
   "cell_type": "code",
   "execution_count": null,
   "metadata": {},
   "outputs": [],
   "source": [
    "hierarchical_cluster = AgglomerativeClustering(n_clusters=None, distance_threshold=d, affinity='manhattan', linkage='average') \n",
    "labels = hierarchical_cluster.fit_predict(i) \n",
    "x=1\n",
    "print(\"distance threshold=\"+str(d))\n",
    "print(\"clusters=\"+str(hierarchical_cluster.n_clusters_))\n",
    "for j in range (0,4): \n",
    "    for b in range(0,4): \n",
    "        if b!=j: \n",
    "             \n",
    "            plt.tight_layout() \n",
    "            plt.subplot(4,3,x) \n",
    "            \n",
    "            display_cluster(i[:,[b,j]],hierarchical_cluster,hierarchical_cluster.n_clusters_) \n",
    "            x=x+1 \n",
    "            if b==0: \n",
    "                plt.xlabel('Sepal Length') \n",
    "            elif b==1: \n",
    "                plt.xlabel('Sepal Width') \n",
    "            elif b==2: \n",
    "                plt.xlabel('Petal Length') \n",
    "            elif b==3: \n",
    "                plt.xlabel('Petal Width') \n",
    "            if j==0: \n",
    "                plt.ylabel('Sepal Length') \n",
    "            elif j==1: \n",
    "                plt.ylabel('Sepal Width') \n",
    "            elif j==2: \n",
    "                plt.ylabel('Petal Length') \n",
    "            elif j==3: \n",
    "                plt.ylabel('Petal Width')\n",
    "d=d+0.1  "
   ]
  },
  {
   "cell_type": "code",
   "execution_count": null,
   "metadata": {},
   "outputs": [],
   "source": [
    "hierarchical_cluster = AgglomerativeClustering(n_clusters=None, distance_threshold=d, affinity='manhattan', linkage='average') \n",
    "labels = hierarchical_cluster.fit_predict(i) \n",
    "x=1\n",
    "print(\"distance threshold=\"+str(d))\n",
    "print(\"clusters=\"+str(hierarchical_cluster.n_clusters_))\n",
    "for j in range (0,4): \n",
    "    for b in range(0,4): \n",
    "        if b!=j: \n",
    "             \n",
    "            plt.tight_layout() \n",
    "            plt.subplot(4,3,x) \n",
    "            \n",
    "            display_cluster(i[:,[b,j]],hierarchical_cluster,hierarchical_cluster.n_clusters_) \n",
    "            x=x+1 \n",
    "            if b==0: \n",
    "                plt.xlabel('Sepal Length') \n",
    "            elif b==1: \n",
    "                plt.xlabel('Sepal Width') \n",
    "            elif b==2: \n",
    "                plt.xlabel('Petal Length') \n",
    "            elif b==3: \n",
    "                plt.xlabel('Petal Width') \n",
    "            if j==0: \n",
    "                plt.ylabel('Sepal Length') \n",
    "            elif j==1: \n",
    "                plt.ylabel('Sepal Width') \n",
    "            elif j==2: \n",
    "                plt.ylabel('Petal Length') \n",
    "            elif j==3: \n",
    "                plt.ylabel('Petal Width')\n",
    "d=d+0.1  "
   ]
  },
  {
   "cell_type": "code",
   "execution_count": null,
   "metadata": {},
   "outputs": [],
   "source": [
    "hierarchical_cluster = AgglomerativeClustering(n_clusters=None, distance_threshold=d, affinity='manhattan', linkage='average') \n",
    "labels = hierarchical_cluster.fit_predict(i) \n",
    "x=1\n",
    "print(\"distance threshold=\"+str(d))\n",
    "print(\"clusters=\"+str(hierarchical_cluster.n_clusters_))\n",
    "for j in range (0,4): \n",
    "    for b in range(0,4): \n",
    "        if b!=j: \n",
    "             \n",
    "            plt.tight_layout() \n",
    "            plt.subplot(4,3,x) \n",
    "            \n",
    "            display_cluster(i[:,[b,j]],hierarchical_cluster,hierarchical_cluster.n_clusters_) \n",
    "            x=x+1 \n",
    "            if b==0: \n",
    "                plt.xlabel('Sepal Length') \n",
    "            elif b==1: \n",
    "                plt.xlabel('Sepal Width') \n",
    "            elif b==2: \n",
    "                plt.xlabel('Petal Length') \n",
    "            elif b==3: \n",
    "                plt.xlabel('Petal Width') \n",
    "            if j==0: \n",
    "                plt.ylabel('Sepal Length') \n",
    "            elif j==1: \n",
    "                plt.ylabel('Sepal Width') \n",
    "            elif j==2: \n",
    "                plt.ylabel('Petal Length') \n",
    "            elif j==3: \n",
    "                plt.ylabel('Petal Width')\n",
    "d=d+0.1  "
   ]
  },
  {
   "cell_type": "code",
   "execution_count": null,
   "metadata": {},
   "outputs": [],
   "source": [
    "hierarchical_cluster = AgglomerativeClustering(n_clusters=None, distance_threshold=d, affinity='manhattan', linkage='average') \n",
    "labels = hierarchical_cluster.fit_predict(i) \n",
    "x=1\n",
    "print(\"distance threshold=\"+str(d))\n",
    "print(\"clusters=\"+str(hierarchical_cluster.n_clusters_))\n",
    "for j in range (0,4): \n",
    "    for b in range(0,4): \n",
    "        if b!=j: \n",
    "             \n",
    "            plt.tight_layout() \n",
    "            plt.subplot(4,3,x) \n",
    "            \n",
    "            display_cluster(i[:,[b,j]],hierarchical_cluster,hierarchical_cluster.n_clusters_) \n",
    "            x=x+1 \n",
    "            if b==0: \n",
    "                plt.xlabel('Sepal Length') \n",
    "            elif b==1: \n",
    "                plt.xlabel('Sepal Width') \n",
    "            elif b==2: \n",
    "                plt.xlabel('Petal Length') \n",
    "            elif b==3: \n",
    "                plt.xlabel('Petal Width') \n",
    "            if j==0: \n",
    "                plt.ylabel('Sepal Length') \n",
    "            elif j==1: \n",
    "                plt.ylabel('Sepal Width') \n",
    "            elif j==2: \n",
    "                plt.ylabel('Petal Length') \n",
    "            elif j==3: \n",
    "                plt.ylabel('Petal Width')\n",
    "d=d+0.1  "
   ]
  },
  {
   "cell_type": "code",
   "execution_count": null,
   "metadata": {},
   "outputs": [],
   "source": [
    "hierarchical_cluster = AgglomerativeClustering(n_clusters=None, distance_threshold=d, affinity='manhattan', linkage='average') \n",
    "labels = hierarchical_cluster.fit_predict(i) \n",
    "x=1\n",
    "print(\"distance threshold=\"+str(d))\n",
    "print(\"clusters=\"+str(hierarchical_cluster.n_clusters_))\n",
    "for j in range (0,4): \n",
    "    for b in range(0,4): \n",
    "        if b!=j: \n",
    "             \n",
    "            plt.tight_layout() \n",
    "            plt.subplot(4,3,x) \n",
    "            \n",
    "            display_cluster(i[:,[b,j]],hierarchical_cluster,hierarchical_cluster.n_clusters_) \n",
    "            x=x+1 \n",
    "            if b==0: \n",
    "                plt.xlabel('Sepal Length') \n",
    "            elif b==1: \n",
    "                plt.xlabel('Sepal Width') \n",
    "            elif b==2: \n",
    "                plt.xlabel('Petal Length') \n",
    "            elif b==3: \n",
    "                plt.xlabel('Petal Width') \n",
    "            if j==0: \n",
    "                plt.ylabel('Sepal Length') \n",
    "            elif j==1: \n",
    "                plt.ylabel('Sepal Width') \n",
    "            elif j==2: \n",
    "                plt.ylabel('Petal Length') \n",
    "            elif j==3: \n",
    "                plt.ylabel('Petal Width')\n",
    "d=d+0.1  "
   ]
  },
  {
   "cell_type": "code",
   "execution_count": null,
   "metadata": {},
   "outputs": [],
   "source": [
    "hierarchical_cluster = AgglomerativeClustering(n_clusters=None, distance_threshold=d, affinity='manhattan', linkage='average') \n",
    "labels = hierarchical_cluster.fit_predict(i) \n",
    "x=1\n",
    "print(\"distance threshold=\"+str(d))\n",
    "print(\"clusters=\"+str(hierarchical_cluster.n_clusters_))\n",
    "for j in range (0,4): \n",
    "    for b in range(0,4): \n",
    "        if b!=j: \n",
    "             \n",
    "            plt.tight_layout() \n",
    "            plt.subplot(4,3,x) \n",
    "            \n",
    "            display_cluster(i[:,[b,j]],hierarchical_cluster,hierarchical_cluster.n_clusters_) \n",
    "            x=x+1 \n",
    "            if b==0: \n",
    "                plt.xlabel('Sepal Length') \n",
    "            elif b==1: \n",
    "                plt.xlabel('Sepal Width') \n",
    "            elif b==2: \n",
    "                plt.xlabel('Petal Length') \n",
    "            elif b==3: \n",
    "                plt.xlabel('Petal Width') \n",
    "            if j==0: \n",
    "                plt.ylabel('Sepal Length') \n",
    "            elif j==1: \n",
    "                plt.ylabel('Sepal Width') \n",
    "            elif j==2: \n",
    "                plt.ylabel('Petal Length') \n",
    "            elif j==3: \n",
    "                plt.ylabel('Petal Width')\n",
    "d=d+0.1  "
   ]
  },
  {
   "cell_type": "code",
   "execution_count": null,
   "metadata": {},
   "outputs": [],
   "source": [
    "hierarchical_cluster = AgglomerativeClustering(n_clusters=None, distance_threshold=d, affinity='manhattan', linkage='average') \n",
    "labels = hierarchical_cluster.fit_predict(i) \n",
    "x=1\n",
    "print(\"distance threshold=\"+str(d))\n",
    "print(\"clusters=\"+str(hierarchical_cluster.n_clusters_))\n",
    "for j in range (0,4): \n",
    "    for b in range(0,4): \n",
    "        if b!=j: \n",
    "             \n",
    "            plt.tight_layout() \n",
    "            plt.subplot(4,3,x) \n",
    "            \n",
    "            display_cluster(i[:,[b,j]],hierarchical_cluster,hierarchical_cluster.n_clusters_) \n",
    "            x=x+1 \n",
    "            if b==0: \n",
    "                plt.xlabel('Sepal Length') \n",
    "            elif b==1: \n",
    "                plt.xlabel('Sepal Width') \n",
    "            elif b==2: \n",
    "                plt.xlabel('Petal Length') \n",
    "            elif b==3: \n",
    "                plt.xlabel('Petal Width') \n",
    "            if j==0: \n",
    "                plt.ylabel('Sepal Length') \n",
    "            elif j==1: \n",
    "                plt.ylabel('Sepal Width') \n",
    "            elif j==2: \n",
    "                plt.ylabel('Petal Length') \n",
    "            elif j==3: \n",
    "                plt.ylabel('Petal Width')\n",
    "d=d+0.1  "
   ]
  },
  {
   "cell_type": "code",
   "execution_count": null,
   "metadata": {},
   "outputs": [],
   "source": [
    "hierarchical_cluster = AgglomerativeClustering(n_clusters=None, distance_threshold=d, affinity='manhattan', linkage='average') \n",
    "labels = hierarchical_cluster.fit_predict(i) \n",
    "x=1\n",
    "print(\"distance threshold=\"+str(d))\n",
    "print(\"clusters=\"+str(hierarchical_cluster.n_clusters_))\n",
    "for j in range (0,4): \n",
    "    for b in range(0,4): \n",
    "        if b!=j: \n",
    "             \n",
    "            plt.tight_layout() \n",
    "            plt.subplot(4,3,x) \n",
    "            \n",
    "            display_cluster(i[:,[b,j]],hierarchical_cluster,hierarchical_cluster.n_clusters_) \n",
    "            x=x+1 \n",
    "            if b==0: \n",
    "                plt.xlabel('Sepal Length') \n",
    "            elif b==1: \n",
    "                plt.xlabel('Sepal Width') \n",
    "            elif b==2: \n",
    "                plt.xlabel('Petal Length') \n",
    "            elif b==3: \n",
    "                plt.xlabel('Petal Width') \n",
    "            if j==0: \n",
    "                plt.ylabel('Sepal Length') \n",
    "            elif j==1: \n",
    "                plt.ylabel('Sepal Width') \n",
    "            elif j==2: \n",
    "                plt.ylabel('Petal Length') \n",
    "            elif j==3: \n",
    "                plt.ylabel('Petal Width')\n",
    "d=d+0.1  "
   ]
  },
  {
   "cell_type": "code",
   "execution_count": null,
   "metadata": {},
   "outputs": [],
   "source": [
    "silhouette_scores = []\n",
    "s = []\n",
    "x=2\n",
    "for m in range(25):\n",
    "    s.append(x)\n",
    "    hierarchical_cluster = AgglomerativeClustering(n_clusters=None, distance_threshold=x, affinity='manhattan', linkage='average')\n",
    "    silhouette_scores.append(silhouette_score(i, hierarchical_cluster.fit_predict(i)))\n",
    "    x=x+0.1\n",
    "plt.plot(s, silhouette_scores, marker='o')"
   ]
  },
  {
   "cell_type": "code",
   "execution_count": null,
   "metadata": {},
   "outputs": [],
   "source": [
    "#hierarchical_cluster\n",
    "#Multi_blob_Data\n",
    "linkage_data = linkage(i, method='average', metric='cosine')\n",
    "dendrogram(linkage_data)\n",
    "plt.show()"
   ]
  },
  {
   "cell_type": "code",
   "execution_count": null,
   "metadata": {},
   "outputs": [],
   "source": [
    "d=0.004\n",
    "hierarchical_cluster = AgglomerativeClustering(n_clusters=None, distance_threshold=d, affinity='cosine', linkage='average') \n",
    "labels = hierarchical_cluster.fit_predict(i) \n",
    "x=1\n",
    "print(\"distance threshold=\"+str(d))\n",
    "print(\"clusters=\"+str(hierarchical_cluster.n_clusters_))\n",
    "for j in range (0,4): \n",
    "    for b in range(0,4): \n",
    "        if b!=j: \n",
    "             \n",
    "            plt.tight_layout() \n",
    "            plt.subplot(4,3,x) \n",
    "            \n",
    "            display_cluster(i[:,[b,j]],hierarchical_cluster,hierarchical_cluster.n_clusters_) \n",
    "            x=x+1 \n",
    "            if b==0: \n",
    "                plt.xlabel('Sepal Length') \n",
    "            elif b==1: \n",
    "                plt.xlabel('Sepal Width') \n",
    "            elif b==2: \n",
    "                plt.xlabel('Petal Length') \n",
    "            elif b==3: \n",
    "                plt.xlabel('Petal Width') \n",
    "            if j==0: \n",
    "                plt.ylabel('Sepal Length') \n",
    "            elif j==1: \n",
    "                plt.ylabel('Sepal Width') \n",
    "            elif j==2: \n",
    "                plt.ylabel('Petal Length') \n",
    "            elif j==3: \n",
    "                plt.ylabel('Petal Width')\n",
    "d=d+0.001  "
   ]
  },
  {
   "cell_type": "code",
   "execution_count": null,
   "metadata": {},
   "outputs": [],
   "source": [
    "hierarchical_cluster = AgglomerativeClustering(n_clusters=None, distance_threshold=d, affinity='cosine', linkage='average') \n",
    "labels = hierarchical_cluster.fit_predict(i) \n",
    "x=1\n",
    "print(\"distance threshold=\"+str(d))\n",
    "print(\"clusters=\"+str(hierarchical_cluster.n_clusters_))\n",
    "for j in range (0,4): \n",
    "    for b in range(0,4): \n",
    "        if b!=j: \n",
    "             \n",
    "            plt.tight_layout() \n",
    "            plt.subplot(4,3,x) \n",
    "            \n",
    "            display_cluster(i[:,[b,j]],hierarchical_cluster,hierarchical_cluster.n_clusters_) \n",
    "            x=x+1 \n",
    "            if b==0: \n",
    "                plt.xlabel('Sepal Length') \n",
    "            elif b==1: \n",
    "                plt.xlabel('Sepal Width') \n",
    "            elif b==2: \n",
    "                plt.xlabel('Petal Length') \n",
    "            elif b==3: \n",
    "                plt.xlabel('Petal Width') \n",
    "            if j==0: \n",
    "                plt.ylabel('Sepal Length') \n",
    "            elif j==1: \n",
    "                plt.ylabel('Sepal Width') \n",
    "            elif j==2: \n",
    "                plt.ylabel('Petal Length') \n",
    "            elif j==3: \n",
    "                plt.ylabel('Petal Width')\n",
    "d=d+0.001  "
   ]
  },
  {
   "cell_type": "code",
   "execution_count": null,
   "metadata": {},
   "outputs": [],
   "source": [
    "hierarchical_cluster = AgglomerativeClustering(n_clusters=None, distance_threshold=d, affinity='cosine', linkage='average') \n",
    "labels = hierarchical_cluster.fit_predict(i) \n",
    "x=1\n",
    "print(\"distance threshold=\"+str(d))\n",
    "print(\"clusters=\"+str(hierarchical_cluster.n_clusters_))\n",
    "for j in range (0,4): \n",
    "    for b in range(0,4): \n",
    "        if b!=j: \n",
    "             \n",
    "            plt.tight_layout() \n",
    "            plt.subplot(4,3,x) \n",
    "            \n",
    "            display_cluster(i[:,[b,j]],hierarchical_cluster,hierarchical_cluster.n_clusters_) \n",
    "            x=x+1 \n",
    "            if b==0: \n",
    "                plt.xlabel('Sepal Length') \n",
    "            elif b==1: \n",
    "                plt.xlabel('Sepal Width') \n",
    "            elif b==2: \n",
    "                plt.xlabel('Petal Length') \n",
    "            elif b==3: \n",
    "                plt.xlabel('Petal Width') \n",
    "            if j==0: \n",
    "                plt.ylabel('Sepal Length') \n",
    "            elif j==1: \n",
    "                plt.ylabel('Sepal Width') \n",
    "            elif j==2: \n",
    "                plt.ylabel('Petal Length') \n",
    "            elif j==3: \n",
    "                plt.ylabel('Petal Width')\n",
    "d=d+0.001  "
   ]
  },
  {
   "cell_type": "code",
   "execution_count": null,
   "metadata": {},
   "outputs": [],
   "source": [
    "hierarchical_cluster = AgglomerativeClustering(n_clusters=None, distance_threshold=d, affinity='cosine', linkage='average') \n",
    "labels = hierarchical_cluster.fit_predict(i) \n",
    "x=1\n",
    "print(\"distance threshold=\"+str(d))\n",
    "print(\"clusters=\"+str(hierarchical_cluster.n_clusters_))\n",
    "for j in range (0,4): \n",
    "    for b in range(0,4): \n",
    "        if b!=j: \n",
    "             \n",
    "            plt.tight_layout() \n",
    "            plt.subplot(4,3,x) \n",
    "            \n",
    "            display_cluster(i[:,[b,j]],hierarchical_cluster,hierarchical_cluster.n_clusters_) \n",
    "            x=x+1 \n",
    "            if b==0: \n",
    "                plt.xlabel('Sepal Length') \n",
    "            elif b==1: \n",
    "                plt.xlabel('Sepal Width') \n",
    "            elif b==2: \n",
    "                plt.xlabel('Petal Length') \n",
    "            elif b==3: \n",
    "                plt.xlabel('Petal Width') \n",
    "            if j==0: \n",
    "                plt.ylabel('Sepal Length') \n",
    "            elif j==1: \n",
    "                plt.ylabel('Sepal Width') \n",
    "            elif j==2: \n",
    "                plt.ylabel('Petal Length') \n",
    "            elif j==3: \n",
    "                plt.ylabel('Petal Width')\n",
    "d=d+0.001  "
   ]
  },
  {
   "cell_type": "code",
   "execution_count": null,
   "metadata": {},
   "outputs": [],
   "source": [
    "hierarchical_cluster = AgglomerativeClustering(n_clusters=None, distance_threshold=d, affinity='cosine', linkage='average') \n",
    "labels = hierarchical_cluster.fit_predict(i) \n",
    "x=1\n",
    "print(\"distance threshold=\"+str(d))\n",
    "print(\"clusters=\"+str(hierarchical_cluster.n_clusters_))\n",
    "for j in range (0,4): \n",
    "    for b in range(0,4): \n",
    "        if b!=j: \n",
    "             \n",
    "            plt.tight_layout() \n",
    "            plt.subplot(4,3,x) \n",
    "            \n",
    "            display_cluster(i[:,[b,j]],hierarchical_cluster,hierarchical_cluster.n_clusters_) \n",
    "            x=x+1 \n",
    "            if b==0: \n",
    "                plt.xlabel('Sepal Length') \n",
    "            elif b==1: \n",
    "                plt.xlabel('Sepal Width') \n",
    "            elif b==2: \n",
    "                plt.xlabel('Petal Length') \n",
    "            elif b==3: \n",
    "                plt.xlabel('Petal Width') \n",
    "            if j==0: \n",
    "                plt.ylabel('Sepal Length') \n",
    "            elif j==1: \n",
    "                plt.ylabel('Sepal Width') \n",
    "            elif j==2: \n",
    "                plt.ylabel('Petal Length') \n",
    "            elif j==3: \n",
    "                plt.ylabel('Petal Width')\n",
    "d=d+0.001  "
   ]
  },
  {
   "cell_type": "code",
   "execution_count": null,
   "metadata": {},
   "outputs": [],
   "source": [
    "hierarchical_cluster = AgglomerativeClustering(n_clusters=None, distance_threshold=d, affinity='cosine', linkage='average') \n",
    "labels = hierarchical_cluster.fit_predict(i) \n",
    "x=1\n",
    "print(\"distance threshold=\"+str(d))\n",
    "print(\"clusters=\"+str(hierarchical_cluster.n_clusters_))\n",
    "for j in range (0,4): \n",
    "    for b in range(0,4): \n",
    "        if b!=j: \n",
    "             \n",
    "            plt.tight_layout() \n",
    "            plt.subplot(4,3,x) \n",
    "            \n",
    "            display_cluster(i[:,[b,j]],hierarchical_cluster,hierarchical_cluster.n_clusters_) \n",
    "            x=x+1 \n",
    "            if b==0: \n",
    "                plt.xlabel('Sepal Length') \n",
    "            elif b==1: \n",
    "                plt.xlabel('Sepal Width') \n",
    "            elif b==2: \n",
    "                plt.xlabel('Petal Length') \n",
    "            elif b==3: \n",
    "                plt.xlabel('Petal Width') \n",
    "            if j==0: \n",
    "                plt.ylabel('Sepal Length') \n",
    "            elif j==1: \n",
    "                plt.ylabel('Sepal Width') \n",
    "            elif j==2: \n",
    "                plt.ylabel('Petal Length') \n",
    "            elif j==3: \n",
    "                plt.ylabel('Petal Width')\n",
    "d=d+0.001  "
   ]
  },
  {
   "cell_type": "code",
   "execution_count": null,
   "metadata": {},
   "outputs": [],
   "source": [
    "hierarchical_cluster = AgglomerativeClustering(n_clusters=None, distance_threshold=d, affinity='cosine', linkage='average') \n",
    "labels = hierarchical_cluster.fit_predict(i) \n",
    "x=1\n",
    "print(\"distance threshold=\"+str(d))\n",
    "print(\"clusters=\"+str(hierarchical_cluster.n_clusters_))\n",
    "for j in range (0,4): \n",
    "    for b in range(0,4): \n",
    "        if b!=j: \n",
    "             \n",
    "            plt.tight_layout() \n",
    "            plt.subplot(4,3,x) \n",
    "            \n",
    "            display_cluster(i[:,[b,j]],hierarchical_cluster,hierarchical_cluster.n_clusters_) \n",
    "            x=x+1 \n",
    "            if b==0: \n",
    "                plt.xlabel('Sepal Length') \n",
    "            elif b==1: \n",
    "                plt.xlabel('Sepal Width') \n",
    "            elif b==2: \n",
    "                plt.xlabel('Petal Length') \n",
    "            elif b==3: \n",
    "                plt.xlabel('Petal Width') \n",
    "            if j==0: \n",
    "                plt.ylabel('Sepal Length') \n",
    "            elif j==1: \n",
    "                plt.ylabel('Sepal Width') \n",
    "            elif j==2: \n",
    "                plt.ylabel('Petal Length') \n",
    "            elif j==3: \n",
    "                plt.ylabel('Petal Width')\n",
    "d=d+0.001  "
   ]
  },
  {
   "cell_type": "code",
   "execution_count": null,
   "metadata": {},
   "outputs": [],
   "source": [
    "hierarchical_cluster = AgglomerativeClustering(n_clusters=None, distance_threshold=d, affinity='cosine', linkage='average') \n",
    "labels = hierarchical_cluster.fit_predict(i) \n",
    "x=1\n",
    "print(\"distance threshold=\"+str(d))\n",
    "print(\"clusters=\"+str(hierarchical_cluster.n_clusters_))\n",
    "for j in range (0,4): \n",
    "    for b in range(0,4): \n",
    "        if b!=j: \n",
    "             \n",
    "            plt.tight_layout() \n",
    "            plt.subplot(4,3,x) \n",
    "            \n",
    "            display_cluster(i[:,[b,j]],hierarchical_cluster,hierarchical_cluster.n_clusters_) \n",
    "            x=x+1 \n",
    "            if b==0: \n",
    "                plt.xlabel('Sepal Length') \n",
    "            elif b==1: \n",
    "                plt.xlabel('Sepal Width') \n",
    "            elif b==2: \n",
    "                plt.xlabel('Petal Length') \n",
    "            elif b==3: \n",
    "                plt.xlabel('Petal Width') \n",
    "            if j==0: \n",
    "                plt.ylabel('Sepal Length') \n",
    "            elif j==1: \n",
    "                plt.ylabel('Sepal Width') \n",
    "            elif j==2: \n",
    "                plt.ylabel('Petal Length') \n",
    "            elif j==3: \n",
    "                plt.ylabel('Petal Width')\n",
    "d=d+0.001  "
   ]
  },
  {
   "cell_type": "code",
   "execution_count": null,
   "metadata": {},
   "outputs": [],
   "source": [
    "hierarchical_cluster = AgglomerativeClustering(n_clusters=None, distance_threshold=d, affinity='cosine', linkage='average') \n",
    "labels = hierarchical_cluster.fit_predict(i) \n",
    "x=1\n",
    "print(\"distance threshold=\"+str(d))\n",
    "print(\"clusters=\"+str(hierarchical_cluster.n_clusters_))\n",
    "for j in range (0,4): \n",
    "    for b in range(0,4): \n",
    "        if b!=j: \n",
    "             \n",
    "            plt.tight_layout() \n",
    "            plt.subplot(4,3,x) \n",
    "            \n",
    "            display_cluster(i[:,[b,j]],hierarchical_cluster,hierarchical_cluster.n_clusters_) \n",
    "            x=x+1 \n",
    "            if b==0: \n",
    "                plt.xlabel('Sepal Length') \n",
    "            elif b==1: \n",
    "                plt.xlabel('Sepal Width') \n",
    "            elif b==2: \n",
    "                plt.xlabel('Petal Length') \n",
    "            elif b==3: \n",
    "                plt.xlabel('Petal Width') \n",
    "            if j==0: \n",
    "                plt.ylabel('Sepal Length') \n",
    "            elif j==1: \n",
    "                plt.ylabel('Sepal Width') \n",
    "            elif j==2: \n",
    "                plt.ylabel('Petal Length') \n",
    "            elif j==3: \n",
    "                plt.ylabel('Petal Width')\n",
    "d=d+0.001  "
   ]
  },
  {
   "cell_type": "code",
   "execution_count": null,
   "metadata": {},
   "outputs": [],
   "source": [
    "silhouette_scores = []\n",
    "s = []\n",
    "x=0.001\n",
    "for m in range(25):\n",
    "    s.append(x)\n",
    "    hierarchical_cluster = AgglomerativeClustering(n_clusters=None, distance_threshold=x, affinity='cosine', linkage='average')\n",
    "    silhouette_scores.append(silhouette_score(i, hierarchical_cluster.fit_predict(i)))\n",
    "    x=x+0.001\n",
    "plt.plot(s, silhouette_scores, marker='o')"
   ]
  },
  {
   "cell_type": "code",
   "execution_count": null,
   "metadata": {},
   "outputs": [],
   "source": [
    "#hierarchical_cluster\n",
    "#Multi_blob_Data\n",
    "linkage_data = linkage(i, method='single', metric='euclidean')\n",
    "dendrogram(linkage_data)\n",
    "plt.show()"
   ]
  },
  {
   "cell_type": "code",
   "execution_count": null,
   "metadata": {},
   "outputs": [],
   "source": [
    "d=0.6\n",
    "hierarchical_cluster = AgglomerativeClustering(n_clusters=None, distance_threshold=d, affinity='euclidean', linkage='single') \n",
    "labels = hierarchical_cluster.fit_predict(i) \n",
    "x=1\n",
    "print(\"distance threshold=\"+str(d))\n",
    "print(\"clusters=\"+str(hierarchical_cluster.n_clusters_))\n",
    "for j in range (0,4): \n",
    "    for b in range(0,4): \n",
    "        if b!=j: \n",
    "             \n",
    "            plt.tight_layout() \n",
    "            plt.subplot(4,3,x) \n",
    "            \n",
    "            display_cluster(i[:,[b,j]],hierarchical_cluster,hierarchical_cluster.n_clusters_) \n",
    "            x=x+1 \n",
    "            if b==0: \n",
    "                plt.xlabel('Sepal Length') \n",
    "            elif b==1: \n",
    "                plt.xlabel('Sepal Width') \n",
    "            elif b==2: \n",
    "                plt.xlabel('Petal Length') \n",
    "            elif b==3: \n",
    "                plt.xlabel('Petal Width') \n",
    "            if j==0: \n",
    "                plt.ylabel('Sepal Length') \n",
    "            elif j==1: \n",
    "                plt.ylabel('Sepal Width') \n",
    "            elif j==2: \n",
    "                plt.ylabel('Petal Length') \n",
    "            elif j==3: \n",
    "                plt.ylabel('Petal Width')\n",
    "d=d+0.05  "
   ]
  },
  {
   "cell_type": "code",
   "execution_count": null,
   "metadata": {},
   "outputs": [],
   "source": [
    "hierarchical_cluster = AgglomerativeClustering(n_clusters=None, distance_threshold=d, affinity='euclidean', linkage='single') \n",
    "labels = hierarchical_cluster.fit_predict(i) \n",
    "x=1\n",
    "print(\"distance threshold=\"+str(d))\n",
    "print(\"clusters=\"+str(hierarchical_cluster.n_clusters_))\n",
    "for j in range (0,4): \n",
    "    for b in range(0,4): \n",
    "        if b!=j: \n",
    "             \n",
    "            plt.tight_layout() \n",
    "            plt.subplot(4,3,x) \n",
    "            \n",
    "            display_cluster(i[:,[b,j]],hierarchical_cluster,hierarchical_cluster.n_clusters_) \n",
    "            x=x+1 \n",
    "            if b==0: \n",
    "                plt.xlabel('Sepal Length') \n",
    "            elif b==1: \n",
    "                plt.xlabel('Sepal Width') \n",
    "            elif b==2: \n",
    "                plt.xlabel('Petal Length') \n",
    "            elif b==3: \n",
    "                plt.xlabel('Petal Width') \n",
    "            if j==0: \n",
    "                plt.ylabel('Sepal Length') \n",
    "            elif j==1: \n",
    "                plt.ylabel('Sepal Width') \n",
    "            elif j==2: \n",
    "                plt.ylabel('Petal Length') \n",
    "            elif j==3: \n",
    "                plt.ylabel('Petal Width')\n",
    "d=d+0.05  "
   ]
  },
  {
   "cell_type": "code",
   "execution_count": null,
   "metadata": {},
   "outputs": [],
   "source": [
    "hierarchical_cluster = AgglomerativeClustering(n_clusters=None, distance_threshold=d, affinity='euclidean', linkage='single') \n",
    "labels = hierarchical_cluster.fit_predict(i) \n",
    "x=1\n",
    "print(\"distance threshold=\"+str(d))\n",
    "print(\"clusters=\"+str(hierarchical_cluster.n_clusters_))\n",
    "for j in range (0,4): \n",
    "    for b in range(0,4): \n",
    "        if b!=j: \n",
    "             \n",
    "            plt.tight_layout() \n",
    "            plt.subplot(4,3,x) \n",
    "            \n",
    "            display_cluster(i[:,[b,j]],hierarchical_cluster,hierarchical_cluster.n_clusters_) \n",
    "            x=x+1 \n",
    "            if b==0: \n",
    "                plt.xlabel('Sepal Length') \n",
    "            elif b==1: \n",
    "                plt.xlabel('Sepal Width') \n",
    "            elif b==2: \n",
    "                plt.xlabel('Petal Length') \n",
    "            elif b==3: \n",
    "                plt.xlabel('Petal Width') \n",
    "            if j==0: \n",
    "                plt.ylabel('Sepal Length') \n",
    "            elif j==1: \n",
    "                plt.ylabel('Sepal Width') \n",
    "            elif j==2: \n",
    "                plt.ylabel('Petal Length') \n",
    "            elif j==3: \n",
    "                plt.ylabel('Petal Width')\n",
    "d=d+0.05  "
   ]
  },
  {
   "cell_type": "code",
   "execution_count": null,
   "metadata": {},
   "outputs": [],
   "source": [
    "hierarchical_cluster = AgglomerativeClustering(n_clusters=None, distance_threshold=d, affinity='euclidean', linkage='single') \n",
    "labels = hierarchical_cluster.fit_predict(i) \n",
    "x=1\n",
    "print(\"distance threshold=\"+str(d))\n",
    "print(\"clusters=\"+str(hierarchical_cluster.n_clusters_))\n",
    "for j in range (0,4): \n",
    "    for b in range(0,4): \n",
    "        if b!=j: \n",
    "             \n",
    "            plt.tight_layout() \n",
    "            plt.subplot(4,3,x) \n",
    "            \n",
    "            display_cluster(i[:,[b,j]],hierarchical_cluster,hierarchical_cluster.n_clusters_) \n",
    "            x=x+1 \n",
    "            if b==0: \n",
    "                plt.xlabel('Sepal Length') \n",
    "            elif b==1: \n",
    "                plt.xlabel('Sepal Width') \n",
    "            elif b==2: \n",
    "                plt.xlabel('Petal Length') \n",
    "            elif b==3: \n",
    "                plt.xlabel('Petal Width') \n",
    "            if j==0: \n",
    "                plt.ylabel('Sepal Length') \n",
    "            elif j==1: \n",
    "                plt.ylabel('Sepal Width') \n",
    "            elif j==2: \n",
    "                plt.ylabel('Petal Length') \n",
    "            elif j==3: \n",
    "                plt.ylabel('Petal Width')\n",
    "d=d+0.05  "
   ]
  },
  {
   "cell_type": "code",
   "execution_count": null,
   "metadata": {},
   "outputs": [],
   "source": [
    "hierarchical_cluster = AgglomerativeClustering(n_clusters=None, distance_threshold=d, affinity='euclidean', linkage='single') \n",
    "labels = hierarchical_cluster.fit_predict(i) \n",
    "x=1\n",
    "print(\"distance threshold=\"+str(d))\n",
    "print(\"clusters=\"+str(hierarchical_cluster.n_clusters_))\n",
    "for j in range (0,4): \n",
    "    for b in range(0,4): \n",
    "        if b!=j: \n",
    "             \n",
    "            plt.tight_layout() \n",
    "            plt.subplot(4,3,x) \n",
    "            \n",
    "            display_cluster(i[:,[b,j]],hierarchical_cluster,hierarchical_cluster.n_clusters_) \n",
    "            x=x+1 \n",
    "            if b==0: \n",
    "                plt.xlabel('Sepal Length') \n",
    "            elif b==1: \n",
    "                plt.xlabel('Sepal Width') \n",
    "            elif b==2: \n",
    "                plt.xlabel('Petal Length') \n",
    "            elif b==3: \n",
    "                plt.xlabel('Petal Width') \n",
    "            if j==0: \n",
    "                plt.ylabel('Sepal Length') \n",
    "            elif j==1: \n",
    "                plt.ylabel('Sepal Width') \n",
    "            elif j==2: \n",
    "                plt.ylabel('Petal Length') \n",
    "            elif j==3: \n",
    "                plt.ylabel('Petal Width')\n",
    "d=d+0.05  "
   ]
  },
  {
   "cell_type": "code",
   "execution_count": null,
   "metadata": {},
   "outputs": [],
   "source": [
    "hierarchical_cluster = AgglomerativeClustering(n_clusters=None, distance_threshold=d, affinity='euclidean', linkage='single') \n",
    "labels = hierarchical_cluster.fit_predict(i) \n",
    "x=1\n",
    "print(\"distance threshold=\"+str(d))\n",
    "print(\"clusters=\"+str(hierarchical_cluster.n_clusters_))\n",
    "for j in range (0,4): \n",
    "    for b in range(0,4): \n",
    "        if b!=j: \n",
    "             \n",
    "            plt.tight_layout() \n",
    "            plt.subplot(4,3,x) \n",
    "            \n",
    "            display_cluster(i[:,[b,j]],hierarchical_cluster,hierarchical_cluster.n_clusters_) \n",
    "            x=x+1 \n",
    "            if b==0: \n",
    "                plt.xlabel('Sepal Length') \n",
    "            elif b==1: \n",
    "                plt.xlabel('Sepal Width') \n",
    "            elif b==2: \n",
    "                plt.xlabel('Petal Length') \n",
    "            elif b==3: \n",
    "                plt.xlabel('Petal Width') \n",
    "            if j==0: \n",
    "                plt.ylabel('Sepal Length') \n",
    "            elif j==1: \n",
    "                plt.ylabel('Sepal Width') \n",
    "            elif j==2: \n",
    "                plt.ylabel('Petal Length') \n",
    "            elif j==3: \n",
    "                plt.ylabel('Petal Width')\n",
    "d=d+0.05  "
   ]
  },
  {
   "cell_type": "code",
   "execution_count": null,
   "metadata": {},
   "outputs": [],
   "source": [
    "hierarchical_cluster = AgglomerativeClustering(n_clusters=None, distance_threshold=d, affinity='euclidean', linkage='single') \n",
    "labels = hierarchical_cluster.fit_predict(i) \n",
    "x=1\n",
    "print(\"distance threshold=\"+str(d))\n",
    "print(\"clusters=\"+str(hierarchical_cluster.n_clusters_))\n",
    "for j in range (0,4): \n",
    "    for b in range(0,4): \n",
    "        if b!=j: \n",
    "             \n",
    "            plt.tight_layout() \n",
    "            plt.subplot(4,3,x) \n",
    "            \n",
    "            display_cluster(i[:,[b,j]],hierarchical_cluster,hierarchical_cluster.n_clusters_) \n",
    "            x=x+1 \n",
    "            if b==0: \n",
    "                plt.xlabel('Sepal Length') \n",
    "            elif b==1: \n",
    "                plt.xlabel('Sepal Width') \n",
    "            elif b==2: \n",
    "                plt.xlabel('Petal Length') \n",
    "            elif b==3: \n",
    "                plt.xlabel('Petal Width') \n",
    "            if j==0: \n",
    "                plt.ylabel('Sepal Length') \n",
    "            elif j==1: \n",
    "                plt.ylabel('Sepal Width') \n",
    "            elif j==2: \n",
    "                plt.ylabel('Petal Length') \n",
    "            elif j==3: \n",
    "                plt.ylabel('Petal Width')\n",
    "d=d+0.05  "
   ]
  },
  {
   "cell_type": "code",
   "execution_count": null,
   "metadata": {},
   "outputs": [],
   "source": [
    "hierarchical_cluster = AgglomerativeClustering(n_clusters=None, distance_threshold=d, affinity='euclidean', linkage='single') \n",
    "labels = hierarchical_cluster.fit_predict(i) \n",
    "x=1\n",
    "print(\"distance threshold=\"+str(d))\n",
    "print(\"clusters=\"+str(hierarchical_cluster.n_clusters_))\n",
    "for j in range (0,4): \n",
    "    for b in range(0,4): \n",
    "        if b!=j: \n",
    "             \n",
    "            plt.tight_layout() \n",
    "            plt.subplot(4,3,x) \n",
    "            \n",
    "            display_cluster(i[:,[b,j]],hierarchical_cluster,hierarchical_cluster.n_clusters_) \n",
    "            x=x+1 \n",
    "            if b==0: \n",
    "                plt.xlabel('Sepal Length') \n",
    "            elif b==1: \n",
    "                plt.xlabel('Sepal Width') \n",
    "            elif b==2: \n",
    "                plt.xlabel('Petal Length') \n",
    "            elif b==3: \n",
    "                plt.xlabel('Petal Width') \n",
    "            if j==0: \n",
    "                plt.ylabel('Sepal Length') \n",
    "            elif j==1: \n",
    "                plt.ylabel('Sepal Width') \n",
    "            elif j==2: \n",
    "                plt.ylabel('Petal Length') \n",
    "            elif j==3: \n",
    "                plt.ylabel('Petal Width')\n",
    "d=d+0.05  "
   ]
  },
  {
   "cell_type": "code",
   "execution_count": null,
   "metadata": {},
   "outputs": [],
   "source": [
    "hierarchical_cluster = AgglomerativeClustering(n_clusters=None, distance_threshold=d, affinity='euclidean', linkage='single') \n",
    "labels = hierarchical_cluster.fit_predict(i) \n",
    "x=1\n",
    "print(\"distance threshold=\"+str(d))\n",
    "print(\"clusters=\"+str(hierarchical_cluster.n_clusters_))\n",
    "for j in range (0,4): \n",
    "    for b in range(0,4): \n",
    "        if b!=j: \n",
    "             \n",
    "            plt.tight_layout() \n",
    "            plt.subplot(4,3,x) \n",
    "            \n",
    "            display_cluster(i[:,[b,j]],hierarchical_cluster,hierarchical_cluster.n_clusters_) \n",
    "            x=x+1 \n",
    "            if b==0: \n",
    "                plt.xlabel('Sepal Length') \n",
    "            elif b==1: \n",
    "                plt.xlabel('Sepal Width') \n",
    "            elif b==2: \n",
    "                plt.xlabel('Petal Length') \n",
    "            elif b==3: \n",
    "                plt.xlabel('Petal Width') \n",
    "            if j==0: \n",
    "                plt.ylabel('Sepal Length') \n",
    "            elif j==1: \n",
    "                plt.ylabel('Sepal Width') \n",
    "            elif j==2: \n",
    "                plt.ylabel('Petal Length') \n",
    "            elif j==3: \n",
    "                plt.ylabel('Petal Width')\n",
    "d=d+0.05  "
   ]
  },
  {
   "cell_type": "code",
   "execution_count": null,
   "metadata": {},
   "outputs": [],
   "source": [
    "d=0.71\n",
    "hierarchical_cluster = AgglomerativeClustering(n_clusters=None, distance_threshold=d, affinity='euclidean', linkage='single') \n",
    "labels = hierarchical_cluster.fit_predict(i) \n",
    "x=1\n",
    "print(\"distance threshold=\"+str(d))\n",
    "print(\"clusters=\"+str(hierarchical_cluster.n_clusters_))\n",
    "for j in range (0,4): \n",
    "    for b in range(0,4): \n",
    "        if b!=j: \n",
    "             \n",
    "            plt.tight_layout() \n",
    "            plt.subplot(4,3,x) \n",
    "            \n",
    "            display_cluster(i[:,[b,j]],hierarchical_cluster,hierarchical_cluster.n_clusters_) \n",
    "            x=x+1 \n",
    "            if b==0: \n",
    "                plt.xlabel('Sepal Length') \n",
    "            elif b==1: \n",
    "                plt.xlabel('Sepal Width') \n",
    "            elif b==2: \n",
    "                plt.xlabel('Petal Length') \n",
    "            elif b==3: \n",
    "                plt.xlabel('Petal Width') \n",
    "            if j==0: \n",
    "                plt.ylabel('Sepal Length') \n",
    "            elif j==1: \n",
    "                plt.ylabel('Sepal Width') \n",
    "            elif j==2: \n",
    "                plt.ylabel('Petal Length') \n",
    "            elif j==3: \n",
    "                plt.ylabel('Petal Width')\n",
    "d=d+0.01"
   ]
  },
  {
   "cell_type": "code",
   "execution_count": null,
   "metadata": {},
   "outputs": [],
   "source": [
    "hierarchical_cluster = AgglomerativeClustering(n_clusters=None, distance_threshold=d, affinity='euclidean', linkage='single') \n",
    "labels = hierarchical_cluster.fit_predict(i) \n",
    "x=1\n",
    "print(\"distance threshold=\"+str(d))\n",
    "print(\"clusters=\"+str(hierarchical_cluster.n_clusters_))\n",
    "for j in range (0,4): \n",
    "    for b in range(0,4): \n",
    "        if b!=j: \n",
    "             \n",
    "            plt.tight_layout() \n",
    "            plt.subplot(4,3,x) \n",
    "            \n",
    "            display_cluster(i[:,[b,j]],hierarchical_cluster,hierarchical_cluster.n_clusters_) \n",
    "            x=x+1 \n",
    "            if b==0: \n",
    "                plt.xlabel('Sepal Length') \n",
    "            elif b==1: \n",
    "                plt.xlabel('Sepal Width') \n",
    "            elif b==2: \n",
    "                plt.xlabel('Petal Length') \n",
    "            elif b==3: \n",
    "                plt.xlabel('Petal Width') \n",
    "            if j==0: \n",
    "                plt.ylabel('Sepal Length') \n",
    "            elif j==1: \n",
    "                plt.ylabel('Sepal Width') \n",
    "            elif j==2: \n",
    "                plt.ylabel('Petal Length') \n",
    "            elif j==3: \n",
    "                plt.ylabel('Petal Width')\n",
    "d=d+0.01"
   ]
  },
  {
   "cell_type": "code",
   "execution_count": null,
   "metadata": {},
   "outputs": [],
   "source": [
    "hierarchical_cluster = AgglomerativeClustering(n_clusters=None, distance_threshold=d, affinity='euclidean', linkage='single') \n",
    "labels = hierarchical_cluster.fit_predict(i) \n",
    "x=1\n",
    "print(\"distance threshold=\"+str(d))\n",
    "print(\"clusters=\"+str(hierarchical_cluster.n_clusters_))\n",
    "for j in range (0,4): \n",
    "    for b in range(0,4): \n",
    "        if b!=j: \n",
    "             \n",
    "            plt.tight_layout() \n",
    "            plt.subplot(4,3,x) \n",
    "            \n",
    "            display_cluster(i[:,[b,j]],hierarchical_cluster,hierarchical_cluster.n_clusters_) \n",
    "            x=x+1 \n",
    "            if b==0: \n",
    "                plt.xlabel('Sepal Length') \n",
    "            elif b==1: \n",
    "                plt.xlabel('Sepal Width') \n",
    "            elif b==2: \n",
    "                plt.xlabel('Petal Length') \n",
    "            elif b==3: \n",
    "                plt.xlabel('Petal Width') \n",
    "            if j==0: \n",
    "                plt.ylabel('Sepal Length') \n",
    "            elif j==1: \n",
    "                plt.ylabel('Sepal Width') \n",
    "            elif j==2: \n",
    "                plt.ylabel('Petal Length') \n",
    "            elif j==3: \n",
    "                plt.ylabel('Petal Width')\n",
    "d=d+0.01"
   ]
  },
  {
   "cell_type": "code",
   "execution_count": null,
   "metadata": {},
   "outputs": [],
   "source": [
    "hierarchical_cluster = AgglomerativeClustering(n_clusters=None, distance_threshold=d, affinity='euclidean', linkage='single') \n",
    "labels = hierarchical_cluster.fit_predict(i) \n",
    "x=1\n",
    "print(\"distance threshold=\"+str(d))\n",
    "print(\"clusters=\"+str(hierarchical_cluster.n_clusters_))\n",
    "for j in range (0,4): \n",
    "    for b in range(0,4): \n",
    "        if b!=j: \n",
    "             \n",
    "            plt.tight_layout() \n",
    "            plt.subplot(4,3,x) \n",
    "            \n",
    "            display_cluster(i[:,[b,j]],hierarchical_cluster,hierarchical_cluster.n_clusters_) \n",
    "            x=x+1 \n",
    "            if b==0: \n",
    "                plt.xlabel('Sepal Length') \n",
    "            elif b==1: \n",
    "                plt.xlabel('Sepal Width') \n",
    "            elif b==2: \n",
    "                plt.xlabel('Petal Length') \n",
    "            elif b==3: \n",
    "                plt.xlabel('Petal Width') \n",
    "            if j==0: \n",
    "                plt.ylabel('Sepal Length') \n",
    "            elif j==1: \n",
    "                plt.ylabel('Sepal Width') \n",
    "            elif j==2: \n",
    "                plt.ylabel('Petal Length') \n",
    "            elif j==3: \n",
    "                plt.ylabel('Petal Width')\n",
    "d=d+0.01"
   ]
  },
  {
   "cell_type": "code",
   "execution_count": null,
   "metadata": {},
   "outputs": [],
   "source": [
    "hierarchical_cluster = AgglomerativeClustering(n_clusters=None, distance_threshold=d, affinity='euclidean', linkage='single') \n",
    "labels = hierarchical_cluster.fit_predict(i) \n",
    "x=1\n",
    "print(\"distance threshold=\"+str(d))\n",
    "print(\"clusters=\"+str(hierarchical_cluster.n_clusters_))\n",
    "for j in range (0,4): \n",
    "    for b in range(0,4): \n",
    "        if b!=j: \n",
    "             \n",
    "            plt.tight_layout() \n",
    "            plt.subplot(4,3,x) \n",
    "            \n",
    "            display_cluster(i[:,[b,j]],hierarchical_cluster,hierarchical_cluster.n_clusters_) \n",
    "            x=x+1 \n",
    "            if b==0: \n",
    "                plt.xlabel('Sepal Length') \n",
    "            elif b==1: \n",
    "                plt.xlabel('Sepal Width') \n",
    "            elif b==2: \n",
    "                plt.xlabel('Petal Length') \n",
    "            elif b==3: \n",
    "                plt.xlabel('Petal Width') \n",
    "            if j==0: \n",
    "                plt.ylabel('Sepal Length') \n",
    "            elif j==1: \n",
    "                plt.ylabel('Sepal Width') \n",
    "            elif j==2: \n",
    "                plt.ylabel('Petal Length') \n",
    "            elif j==3: \n",
    "                plt.ylabel('Petal Width')\n",
    "d=d+0.01"
   ]
  },
  {
   "cell_type": "code",
   "execution_count": null,
   "metadata": {},
   "outputs": [],
   "source": [
    "hierarchical_cluster = AgglomerativeClustering(n_clusters=None, distance_threshold=d, affinity='euclidean', linkage='single') \n",
    "labels = hierarchical_cluster.fit_predict(i) \n",
    "x=1\n",
    "print(\"distance threshold=\"+str(d))\n",
    "print(\"clusters=\"+str(hierarchical_cluster.n_clusters_))\n",
    "for j in range (0,4): \n",
    "    for b in range(0,4): \n",
    "        if b!=j: \n",
    "             \n",
    "            plt.tight_layout() \n",
    "            plt.subplot(4,3,x) \n",
    "            \n",
    "            display_cluster(i[:,[b,j]],hierarchical_cluster,hierarchical_cluster.n_clusters_) \n",
    "            x=x+1 \n",
    "            if b==0: \n",
    "                plt.xlabel('Sepal Length') \n",
    "            elif b==1: \n",
    "                plt.xlabel('Sepal Width') \n",
    "            elif b==2: \n",
    "                plt.xlabel('Petal Length') \n",
    "            elif b==3: \n",
    "                plt.xlabel('Petal Width') \n",
    "            if j==0: \n",
    "                plt.ylabel('Sepal Length') \n",
    "            elif j==1: \n",
    "                plt.ylabel('Sepal Width') \n",
    "            elif j==2: \n",
    "                plt.ylabel('Petal Length') \n",
    "            elif j==3: \n",
    "                plt.ylabel('Petal Width')\n",
    "d=d+0.01"
   ]
  },
  {
   "cell_type": "code",
   "execution_count": null,
   "metadata": {},
   "outputs": [],
   "source": [
    "hierarchical_cluster = AgglomerativeClustering(n_clusters=None, distance_threshold=d, affinity='euclidean', linkage='single') \n",
    "labels = hierarchical_cluster.fit_predict(i) \n",
    "x=1\n",
    "print(\"distance threshold=\"+str(d))\n",
    "print(\"clusters=\"+str(hierarchical_cluster.n_clusters_))\n",
    "for j in range (0,4): \n",
    "    for b in range(0,4): \n",
    "        if b!=j: \n",
    "             \n",
    "            plt.tight_layout() \n",
    "            plt.subplot(4,3,x) \n",
    "            \n",
    "            display_cluster(i[:,[b,j]],hierarchical_cluster,hierarchical_cluster.n_clusters_) \n",
    "            x=x+1 \n",
    "            if b==0: \n",
    "                plt.xlabel('Sepal Length') \n",
    "            elif b==1: \n",
    "                plt.xlabel('Sepal Width') \n",
    "            elif b==2: \n",
    "                plt.xlabel('Petal Length') \n",
    "            elif b==3: \n",
    "                plt.xlabel('Petal Width') \n",
    "            if j==0: \n",
    "                plt.ylabel('Sepal Length') \n",
    "            elif j==1: \n",
    "                plt.ylabel('Sepal Width') \n",
    "            elif j==2: \n",
    "                plt.ylabel('Petal Length') \n",
    "            elif j==3: \n",
    "                plt.ylabel('Petal Width')\n",
    "d=d+0.01"
   ]
  },
  {
   "cell_type": "code",
   "execution_count": null,
   "metadata": {},
   "outputs": [],
   "source": [
    "hierarchical_cluster = AgglomerativeClustering(n_clusters=None, distance_threshold=d, affinity='euclidean', linkage='single') \n",
    "labels = hierarchical_cluster.fit_predict(i) \n",
    "x=1\n",
    "print(\"distance threshold=\"+str(d))\n",
    "print(\"clusters=\"+str(hierarchical_cluster.n_clusters_))\n",
    "for j in range (0,4): \n",
    "    for b in range(0,4): \n",
    "        if b!=j: \n",
    "             \n",
    "            plt.tight_layout() \n",
    "            plt.subplot(4,3,x) \n",
    "            \n",
    "            display_cluster(i[:,[b,j]],hierarchical_cluster,hierarchical_cluster.n_clusters_) \n",
    "            x=x+1 \n",
    "            if b==0: \n",
    "                plt.xlabel('Sepal Length') \n",
    "            elif b==1: \n",
    "                plt.xlabel('Sepal Width') \n",
    "            elif b==2: \n",
    "                plt.xlabel('Petal Length') \n",
    "            elif b==3: \n",
    "                plt.xlabel('Petal Width') \n",
    "            if j==0: \n",
    "                plt.ylabel('Sepal Length') \n",
    "            elif j==1: \n",
    "                plt.ylabel('Sepal Width') \n",
    "            elif j==2: \n",
    "                plt.ylabel('Petal Length') \n",
    "            elif j==3: \n",
    "                plt.ylabel('Petal Width')\n",
    "d=d+0.01"
   ]
  },
  {
   "cell_type": "code",
   "execution_count": null,
   "metadata": {},
   "outputs": [],
   "source": [
    "silhouette_scores = []\n",
    "s = []\n",
    "x=0.6\n",
    "for m in range(50):\n",
    "    s.append(x)\n",
    "    hierarchical_cluster = AgglomerativeClustering(n_clusters=None, distance_threshold=x, affinity='euclidean', linkage='single')\n",
    "    silhouette_scores.append(silhouette_score(i, hierarchical_cluster.fit_predict(i)))\n",
    "    x=x+0.01\n",
    "plt.plot(s, silhouette_scores, marker='o')"
   ]
  },
  {
   "cell_type": "code",
   "execution_count": null,
   "metadata": {},
   "outputs": [],
   "source": [
    "#hierarchical_cluster\n",
    "#Multi_blob_Data\n",
    "linkage_data = linkage(i, method='single', metric='cosine')\n",
    "dendrogram(linkage_data)\n",
    "plt.show()"
   ]
  },
  {
   "cell_type": "code",
   "execution_count": null,
   "metadata": {},
   "outputs": [],
   "source": [
    "d=0.00075\n",
    "hierarchical_cluster = AgglomerativeClustering(n_clusters=None, distance_threshold=d, affinity='cosine', linkage='single') \n",
    "labels = hierarchical_cluster.fit_predict(i) \n",
    "x=1\n",
    "print(\"distance threshold=\"+str(d))\n",
    "print(\"clusters=\"+str(hierarchical_cluster.n_clusters_))\n",
    "for j in range (0,4): \n",
    "    for b in range(0,4): \n",
    "        if b!=j: \n",
    "             \n",
    "            plt.tight_layout() \n",
    "            plt.subplot(4,3,x) \n",
    "            \n",
    "            display_cluster(i[:,[b,j]],hierarchical_cluster,hierarchical_cluster.n_clusters_) \n",
    "            x=x+1 \n",
    "            if b==0: \n",
    "                plt.xlabel('Sepal Length') \n",
    "            elif b==1: \n",
    "                plt.xlabel('Sepal Width') \n",
    "            elif b==2: \n",
    "                plt.xlabel('Petal Length') \n",
    "            elif b==3: \n",
    "                plt.xlabel('Petal Width') \n",
    "            if j==0: \n",
    "                plt.ylabel('Sepal Length') \n",
    "            elif j==1: \n",
    "                plt.ylabel('Sepal Width') \n",
    "            elif j==2: \n",
    "                plt.ylabel('Petal Length') \n",
    "            elif j==3: \n",
    "                plt.ylabel('Petal Width')\n",
    "d=d+0.00005"
   ]
  },
  {
   "cell_type": "code",
   "execution_count": null,
   "metadata": {},
   "outputs": [],
   "source": [
    "hierarchical_cluster = AgglomerativeClustering(n_clusters=None, distance_threshold=d, affinity='cosine', linkage='single') \n",
    "labels = hierarchical_cluster.fit_predict(i) \n",
    "x=1\n",
    "print(\"distance threshold=\"+str(d))\n",
    "print(\"clusters=\"+str(hierarchical_cluster.n_clusters_))\n",
    "for j in range (0,4): \n",
    "    for b in range(0,4): \n",
    "        if b!=j: \n",
    "             \n",
    "            plt.tight_layout() \n",
    "            plt.subplot(4,3,x) \n",
    "            \n",
    "            display_cluster(i[:,[b,j]],hierarchical_cluster,hierarchical_cluster.n_clusters_) \n",
    "            x=x+1 \n",
    "            if b==0: \n",
    "                plt.xlabel('Sepal Length') \n",
    "            elif b==1: \n",
    "                plt.xlabel('Sepal Width') \n",
    "            elif b==2: \n",
    "                plt.xlabel('Petal Length') \n",
    "            elif b==3: \n",
    "                plt.xlabel('Petal Width') \n",
    "            if j==0: \n",
    "                plt.ylabel('Sepal Length') \n",
    "            elif j==1: \n",
    "                plt.ylabel('Sepal Width') \n",
    "            elif j==2: \n",
    "                plt.ylabel('Petal Length') \n",
    "            elif j==3: \n",
    "                plt.ylabel('Petal Width')\n",
    "d=d+0.00005"
   ]
  },
  {
   "cell_type": "code",
   "execution_count": null,
   "metadata": {},
   "outputs": [],
   "source": [
    "hierarchical_cluster = AgglomerativeClustering(n_clusters=None, distance_threshold=d, affinity='cosine', linkage='single') \n",
    "labels = hierarchical_cluster.fit_predict(i) \n",
    "x=1\n",
    "print(\"distance threshold=\"+str(d))\n",
    "print(\"clusters=\"+str(hierarchical_cluster.n_clusters_))\n",
    "for j in range (0,4): \n",
    "    for b in range(0,4): \n",
    "        if b!=j: \n",
    "             \n",
    "            plt.tight_layout() \n",
    "            plt.subplot(4,3,x) \n",
    "            \n",
    "            display_cluster(i[:,[b,j]],hierarchical_cluster,hierarchical_cluster.n_clusters_) \n",
    "            x=x+1 \n",
    "            if b==0: \n",
    "                plt.xlabel('Sepal Length') \n",
    "            elif b==1: \n",
    "                plt.xlabel('Sepal Width') \n",
    "            elif b==2: \n",
    "                plt.xlabel('Petal Length') \n",
    "            elif b==3: \n",
    "                plt.xlabel('Petal Width') \n",
    "            if j==0: \n",
    "                plt.ylabel('Sepal Length') \n",
    "            elif j==1: \n",
    "                plt.ylabel('Sepal Width') \n",
    "            elif j==2: \n",
    "                plt.ylabel('Petal Length') \n",
    "            elif j==3: \n",
    "                plt.ylabel('Petal Width')\n",
    "d=d+0.00005"
   ]
  },
  {
   "cell_type": "code",
   "execution_count": null,
   "metadata": {},
   "outputs": [],
   "source": [
    "hierarchical_cluster = AgglomerativeClustering(n_clusters=None, distance_threshold=d, affinity='cosine', linkage='single') \n",
    "labels = hierarchical_cluster.fit_predict(i) \n",
    "x=1\n",
    "print(\"distance threshold=\"+str(d))\n",
    "print(\"clusters=\"+str(hierarchical_cluster.n_clusters_))\n",
    "for j in range (0,4): \n",
    "    for b in range(0,4): \n",
    "        if b!=j: \n",
    "             \n",
    "            plt.tight_layout() \n",
    "            plt.subplot(4,3,x) \n",
    "            \n",
    "            display_cluster(i[:,[b,j]],hierarchical_cluster,hierarchical_cluster.n_clusters_) \n",
    "            x=x+1 \n",
    "            if b==0: \n",
    "                plt.xlabel('Sepal Length') \n",
    "            elif b==1: \n",
    "                plt.xlabel('Sepal Width') \n",
    "            elif b==2: \n",
    "                plt.xlabel('Petal Length') \n",
    "            elif b==3: \n",
    "                plt.xlabel('Petal Width') \n",
    "            if j==0: \n",
    "                plt.ylabel('Sepal Length') \n",
    "            elif j==1: \n",
    "                plt.ylabel('Sepal Width') \n",
    "            elif j==2: \n",
    "                plt.ylabel('Petal Length') \n",
    "            elif j==3: \n",
    "                plt.ylabel('Petal Width')\n",
    "d=d+0.00005"
   ]
  },
  {
   "cell_type": "code",
   "execution_count": null,
   "metadata": {},
   "outputs": [],
   "source": [
    "hierarchical_cluster = AgglomerativeClustering(n_clusters=None, distance_threshold=d, affinity='cosine', linkage='single') \n",
    "labels = hierarchical_cluster.fit_predict(i) \n",
    "x=1\n",
    "print(\"distance threshold=\"+str(d))\n",
    "print(\"clusters=\"+str(hierarchical_cluster.n_clusters_))\n",
    "for j in range (0,4): \n",
    "    for b in range(0,4): \n",
    "        if b!=j: \n",
    "             \n",
    "            plt.tight_layout() \n",
    "            plt.subplot(4,3,x) \n",
    "            \n",
    "            display_cluster(i[:,[b,j]],hierarchical_cluster,hierarchical_cluster.n_clusters_) \n",
    "            x=x+1 \n",
    "            if b==0: \n",
    "                plt.xlabel('Sepal Length') \n",
    "            elif b==1: \n",
    "                plt.xlabel('Sepal Width') \n",
    "            elif b==2: \n",
    "                plt.xlabel('Petal Length') \n",
    "            elif b==3: \n",
    "                plt.xlabel('Petal Width') \n",
    "            if j==0: \n",
    "                plt.ylabel('Sepal Length') \n",
    "            elif j==1: \n",
    "                plt.ylabel('Sepal Width') \n",
    "            elif j==2: \n",
    "                plt.ylabel('Petal Length') \n",
    "            elif j==3: \n",
    "                plt.ylabel('Petal Width')\n",
    "d=d+0.00005"
   ]
  },
  {
   "cell_type": "code",
   "execution_count": null,
   "metadata": {},
   "outputs": [],
   "source": [
    "hierarchical_cluster = AgglomerativeClustering(n_clusters=None, distance_threshold=d, affinity='cosine', linkage='single') \n",
    "labels = hierarchical_cluster.fit_predict(i) \n",
    "x=1\n",
    "print(\"distance threshold=\"+str(d))\n",
    "print(\"clusters=\"+str(hierarchical_cluster.n_clusters_))\n",
    "for j in range (0,4): \n",
    "    for b in range(0,4): \n",
    "        if b!=j: \n",
    "             \n",
    "            plt.tight_layout() \n",
    "            plt.subplot(4,3,x) \n",
    "            \n",
    "            display_cluster(i[:,[b,j]],hierarchical_cluster,hierarchical_cluster.n_clusters_) \n",
    "            x=x+1 \n",
    "            if b==0: \n",
    "                plt.xlabel('Sepal Length') \n",
    "            elif b==1: \n",
    "                plt.xlabel('Sepal Width') \n",
    "            elif b==2: \n",
    "                plt.xlabel('Petal Length') \n",
    "            elif b==3: \n",
    "                plt.xlabel('Petal Width') \n",
    "            if j==0: \n",
    "                plt.ylabel('Sepal Length') \n",
    "            elif j==1: \n",
    "                plt.ylabel('Sepal Width') \n",
    "            elif j==2: \n",
    "                plt.ylabel('Petal Length') \n",
    "            elif j==3: \n",
    "                plt.ylabel('Petal Width')\n",
    "d=d+0.00005"
   ]
  },
  {
   "cell_type": "code",
   "execution_count": null,
   "metadata": {},
   "outputs": [],
   "source": [
    "hierarchical_cluster = AgglomerativeClustering(n_clusters=None, distance_threshold=d, affinity='cosine', linkage='single') \n",
    "labels = hierarchical_cluster.fit_predict(i) \n",
    "x=1\n",
    "print(\"distance threshold=\"+str(d))\n",
    "print(\"clusters=\"+str(hierarchical_cluster.n_clusters_))\n",
    "for j in range (0,4): \n",
    "    for b in range(0,4): \n",
    "        if b!=j: \n",
    "             \n",
    "            plt.tight_layout() \n",
    "            plt.subplot(4,3,x) \n",
    "            \n",
    "            display_cluster(i[:,[b,j]],hierarchical_cluster,hierarchical_cluster.n_clusters_) \n",
    "            x=x+1 \n",
    "            if b==0: \n",
    "                plt.xlabel('Sepal Length') \n",
    "            elif b==1: \n",
    "                plt.xlabel('Sepal Width') \n",
    "            elif b==2: \n",
    "                plt.xlabel('Petal Length') \n",
    "            elif b==3: \n",
    "                plt.xlabel('Petal Width') \n",
    "            if j==0: \n",
    "                plt.ylabel('Sepal Length') \n",
    "            elif j==1: \n",
    "                plt.ylabel('Sepal Width') \n",
    "            elif j==2: \n",
    "                plt.ylabel('Petal Length') \n",
    "            elif j==3: \n",
    "                plt.ylabel('Petal Width')\n",
    "d=d+0.00005"
   ]
  },
  {
   "cell_type": "code",
   "execution_count": null,
   "metadata": {},
   "outputs": [],
   "source": [
    "hierarchical_cluster = AgglomerativeClustering(n_clusters=None, distance_threshold=d, affinity='cosine', linkage='single') \n",
    "labels = hierarchical_cluster.fit_predict(i) \n",
    "x=1\n",
    "print(\"distance threshold=\"+str(d))\n",
    "print(\"clusters=\"+str(hierarchical_cluster.n_clusters_))\n",
    "for j in range (0,4): \n",
    "    for b in range(0,4): \n",
    "        if b!=j: \n",
    "             \n",
    "            plt.tight_layout() \n",
    "            plt.subplot(4,3,x) \n",
    "            \n",
    "            display_cluster(i[:,[b,j]],hierarchical_cluster,hierarchical_cluster.n_clusters_) \n",
    "            x=x+1 \n",
    "            if b==0: \n",
    "                plt.xlabel('Sepal Length') \n",
    "            elif b==1: \n",
    "                plt.xlabel('Sepal Width') \n",
    "            elif b==2: \n",
    "                plt.xlabel('Petal Length') \n",
    "            elif b==3: \n",
    "                plt.xlabel('Petal Width') \n",
    "            if j==0: \n",
    "                plt.ylabel('Sepal Length') \n",
    "            elif j==1: \n",
    "                plt.ylabel('Sepal Width') \n",
    "            elif j==2: \n",
    "                plt.ylabel('Petal Length') \n",
    "            elif j==3: \n",
    "                plt.ylabel('Petal Width')\n",
    "d=d+0.00005"
   ]
  },
  {
   "cell_type": "code",
   "execution_count": null,
   "metadata": {},
   "outputs": [],
   "source": [
    "hierarchical_cluster = AgglomerativeClustering(n_clusters=None, distance_threshold=d, affinity='cosine', linkage='single') \n",
    "labels = hierarchical_cluster.fit_predict(i) \n",
    "x=1\n",
    "print(\"distance threshold=\"+str(d))\n",
    "print(\"clusters=\"+str(hierarchical_cluster.n_clusters_))\n",
    "for j in range (0,4): \n",
    "    for b in range(0,4): \n",
    "        if b!=j: \n",
    "             \n",
    "            plt.tight_layout() \n",
    "            plt.subplot(4,3,x) \n",
    "            \n",
    "            display_cluster(i[:,[b,j]],hierarchical_cluster,hierarchical_cluster.n_clusters_) \n",
    "            x=x+1 \n",
    "            if b==0: \n",
    "                plt.xlabel('Sepal Length') \n",
    "            elif b==1: \n",
    "                plt.xlabel('Sepal Width') \n",
    "            elif b==2: \n",
    "                plt.xlabel('Petal Length') \n",
    "            elif b==3: \n",
    "                plt.xlabel('Petal Width') \n",
    "            if j==0: \n",
    "                plt.ylabel('Sepal Length') \n",
    "            elif j==1: \n",
    "                plt.ylabel('Sepal Width') \n",
    "            elif j==2: \n",
    "                plt.ylabel('Petal Length') \n",
    "            elif j==3: \n",
    "                plt.ylabel('Petal Width')\n",
    "d=d+0.00005"
   ]
  },
  {
   "cell_type": "code",
   "execution_count": null,
   "metadata": {},
   "outputs": [],
   "source": [
    "silhouette_scores = []\n",
    "s = []\n",
    "x=0.00075\n",
    "for m in range(50):\n",
    "    s.append(x)\n",
    "    hierarchical_cluster = AgglomerativeClustering(n_clusters=None, distance_threshold=x, affinity='cosine', linkage='single')\n",
    "    silhouette_scores.append(silhouette_score(i, hierarchical_cluster.fit_predict(i)))\n",
    "    x=x+0.00005\n",
    "plt.plot(s, silhouette_scores, marker='o')"
   ]
  },
  {
   "cell_type": "code",
   "execution_count": null,
   "metadata": {},
   "outputs": [],
   "source": [
    "#hierarchical_cluster\n",
    "#Multi_blob_Data\n",
    "linkage_data = linkage(i, method='single', metric='cityblock')\n",
    "dendrogram(linkage_data)\n",
    "plt.show()"
   ]
  },
  {
   "cell_type": "code",
   "execution_count": null,
   "metadata": {},
   "outputs": [],
   "source": [
    "d=0.9\n",
    "hierarchical_cluster = AgglomerativeClustering(n_clusters=None, distance_threshold=d, affinity='manhattan', linkage='single') \n",
    "labels = hierarchical_cluster.fit_predict(i) \n",
    "x=1\n",
    "print(\"distance threshold=\"+str(d))\n",
    "print(\"clusters=\"+str(hierarchical_cluster.n_clusters_))\n",
    "for j in range (0,4): \n",
    "    for b in range(0,4): \n",
    "        if b!=j: \n",
    "             \n",
    "            plt.tight_layout() \n",
    "            plt.subplot(4,3,x) \n",
    "            \n",
    "            display_cluster(i[:,[b,j]],hierarchical_cluster,hierarchical_cluster.n_clusters_) \n",
    "            x=x+1 \n",
    "            if b==0: \n",
    "                plt.xlabel('Sepal Length') \n",
    "            elif b==1: \n",
    "                plt.xlabel('Sepal Width') \n",
    "            elif b==2: \n",
    "                plt.xlabel('Petal Length') \n",
    "            elif b==3: \n",
    "                plt.xlabel('Petal Width') \n",
    "            if j==0: \n",
    "                plt.ylabel('Sepal Length') \n",
    "            elif j==1: \n",
    "                plt.ylabel('Sepal Width') \n",
    "            elif j==2: \n",
    "                plt.ylabel('Petal Length') \n",
    "            elif j==3: \n",
    "                plt.ylabel('Petal Width')\n",
    "d=d+0.05"
   ]
  },
  {
   "cell_type": "code",
   "execution_count": null,
   "metadata": {},
   "outputs": [],
   "source": [
    "hierarchical_cluster = AgglomerativeClustering(n_clusters=None, distance_threshold=d, affinity='manhattan', linkage='single') \n",
    "labels = hierarchical_cluster.fit_predict(i) \n",
    "x=1\n",
    "print(\"distance threshold=\"+str(d))\n",
    "print(\"clusters=\"+str(hierarchical_cluster.n_clusters_))\n",
    "for j in range (0,4): \n",
    "    for b in range(0,4): \n",
    "        if b!=j: \n",
    "             \n",
    "            plt.tight_layout() \n",
    "            plt.subplot(4,3,x) \n",
    "            \n",
    "            display_cluster(i[:,[b,j]],hierarchical_cluster,hierarchical_cluster.n_clusters_) \n",
    "            x=x+1 \n",
    "            if b==0: \n",
    "                plt.xlabel('Sepal Length') \n",
    "            elif b==1: \n",
    "                plt.xlabel('Sepal Width') \n",
    "            elif b==2: \n",
    "                plt.xlabel('Petal Length') \n",
    "            elif b==3: \n",
    "                plt.xlabel('Petal Width') \n",
    "            if j==0: \n",
    "                plt.ylabel('Sepal Length') \n",
    "            elif j==1: \n",
    "                plt.ylabel('Sepal Width') \n",
    "            elif j==2: \n",
    "                plt.ylabel('Petal Length') \n",
    "            elif j==3: \n",
    "                plt.ylabel('Petal Width')\n",
    "d=d+0.05"
   ]
  },
  {
   "cell_type": "code",
   "execution_count": null,
   "metadata": {},
   "outputs": [],
   "source": [
    "hierarchical_cluster = AgglomerativeClustering(n_clusters=None, distance_threshold=d, affinity='manhattan', linkage='single') \n",
    "labels = hierarchical_cluster.fit_predict(i) \n",
    "x=1\n",
    "print(\"distance threshold=\"+str(d))\n",
    "print(\"clusters=\"+str(hierarchical_cluster.n_clusters_))\n",
    "for j in range (0,4): \n",
    "    for b in range(0,4): \n",
    "        if b!=j: \n",
    "             \n",
    "            plt.tight_layout() \n",
    "            plt.subplot(4,3,x) \n",
    "            \n",
    "            display_cluster(i[:,[b,j]],hierarchical_cluster,hierarchical_cluster.n_clusters_) \n",
    "            x=x+1 \n",
    "            if b==0: \n",
    "                plt.xlabel('Sepal Length') \n",
    "            elif b==1: \n",
    "                plt.xlabel('Sepal Width') \n",
    "            elif b==2: \n",
    "                plt.xlabel('Petal Length') \n",
    "            elif b==3: \n",
    "                plt.xlabel('Petal Width') \n",
    "            if j==0: \n",
    "                plt.ylabel('Sepal Length') \n",
    "            elif j==1: \n",
    "                plt.ylabel('Sepal Width') \n",
    "            elif j==2: \n",
    "                plt.ylabel('Petal Length') \n",
    "            elif j==3: \n",
    "                plt.ylabel('Petal Width')\n",
    "d=d+0.05"
   ]
  },
  {
   "cell_type": "code",
   "execution_count": null,
   "metadata": {},
   "outputs": [],
   "source": [
    "hierarchical_cluster = AgglomerativeClustering(n_clusters=None, distance_threshold=d, affinity='manhattan', linkage='single') \n",
    "labels = hierarchical_cluster.fit_predict(i) \n",
    "x=1\n",
    "print(\"distance threshold=\"+str(d))\n",
    "print(\"clusters=\"+str(hierarchical_cluster.n_clusters_))\n",
    "for j in range (0,4): \n",
    "    for b in range(0,4): \n",
    "        if b!=j: \n",
    "             \n",
    "            plt.tight_layout() \n",
    "            plt.subplot(4,3,x) \n",
    "            \n",
    "            display_cluster(i[:,[b,j]],hierarchical_cluster,hierarchical_cluster.n_clusters_) \n",
    "            x=x+1 \n",
    "            if b==0: \n",
    "                plt.xlabel('Sepal Length') \n",
    "            elif b==1: \n",
    "                plt.xlabel('Sepal Width') \n",
    "            elif b==2: \n",
    "                plt.xlabel('Petal Length') \n",
    "            elif b==3: \n",
    "                plt.xlabel('Petal Width') \n",
    "            if j==0: \n",
    "                plt.ylabel('Sepal Length') \n",
    "            elif j==1: \n",
    "                plt.ylabel('Sepal Width') \n",
    "            elif j==2: \n",
    "                plt.ylabel('Petal Length') \n",
    "            elif j==3: \n",
    "                plt.ylabel('Petal Width')\n",
    "d=d+0.05"
   ]
  },
  {
   "cell_type": "code",
   "execution_count": null,
   "metadata": {},
   "outputs": [],
   "source": [
    "hierarchical_cluster = AgglomerativeClustering(n_clusters=None, distance_threshold=d, affinity='manhattan', linkage='single') \n",
    "labels = hierarchical_cluster.fit_predict(i) \n",
    "x=1\n",
    "print(\"distance threshold=\"+str(d))\n",
    "print(\"clusters=\"+str(hierarchical_cluster.n_clusters_))\n",
    "for j in range (0,4): \n",
    "    for b in range(0,4): \n",
    "        if b!=j: \n",
    "             \n",
    "            plt.tight_layout() \n",
    "            plt.subplot(4,3,x) \n",
    "            \n",
    "            display_cluster(i[:,[b,j]],hierarchical_cluster,hierarchical_cluster.n_clusters_) \n",
    "            x=x+1 \n",
    "            if b==0: \n",
    "                plt.xlabel('Sepal Length') \n",
    "            elif b==1: \n",
    "                plt.xlabel('Sepal Width') \n",
    "            elif b==2: \n",
    "                plt.xlabel('Petal Length') \n",
    "            elif b==3: \n",
    "                plt.xlabel('Petal Width') \n",
    "            if j==0: \n",
    "                plt.ylabel('Sepal Length') \n",
    "            elif j==1: \n",
    "                plt.ylabel('Sepal Width') \n",
    "            elif j==2: \n",
    "                plt.ylabel('Petal Length') \n",
    "            elif j==3: \n",
    "                plt.ylabel('Petal Width')\n",
    "d=d+0.05"
   ]
  },
  {
   "cell_type": "code",
   "execution_count": null,
   "metadata": {},
   "outputs": [],
   "source": [
    "hierarchical_cluster = AgglomerativeClustering(n_clusters=None, distance_threshold=d, affinity='manhattan', linkage='single') \n",
    "labels = hierarchical_cluster.fit_predict(i) \n",
    "x=1\n",
    "print(\"distance threshold=\"+str(d))\n",
    "print(\"clusters=\"+str(hierarchical_cluster.n_clusters_))\n",
    "for j in range (0,4): \n",
    "    for b in range(0,4): \n",
    "        if b!=j: \n",
    "             \n",
    "            plt.tight_layout() \n",
    "            plt.subplot(4,3,x) \n",
    "            \n",
    "            display_cluster(i[:,[b,j]],hierarchical_cluster,hierarchical_cluster.n_clusters_) \n",
    "            x=x+1 \n",
    "            if b==0: \n",
    "                plt.xlabel('Sepal Length') \n",
    "            elif b==1: \n",
    "                plt.xlabel('Sepal Width') \n",
    "            elif b==2: \n",
    "                plt.xlabel('Petal Length') \n",
    "            elif b==3: \n",
    "                plt.xlabel('Petal Width') \n",
    "            if j==0: \n",
    "                plt.ylabel('Sepal Length') \n",
    "            elif j==1: \n",
    "                plt.ylabel('Sepal Width') \n",
    "            elif j==2: \n",
    "                plt.ylabel('Petal Length') \n",
    "            elif j==3: \n",
    "                plt.ylabel('Petal Width')\n",
    "d=d+0.05"
   ]
  },
  {
   "cell_type": "code",
   "execution_count": null,
   "metadata": {},
   "outputs": [],
   "source": [
    "hierarchical_cluster = AgglomerativeClustering(n_clusters=None, distance_threshold=d, affinity='manhattan', linkage='single') \n",
    "labels = hierarchical_cluster.fit_predict(i) \n",
    "x=1\n",
    "print(\"distance threshold=\"+str(d))\n",
    "print(\"clusters=\"+str(hierarchical_cluster.n_clusters_))\n",
    "for j in range (0,4): \n",
    "    for b in range(0,4): \n",
    "        if b!=j: \n",
    "             \n",
    "            plt.tight_layout() \n",
    "            plt.subplot(4,3,x) \n",
    "            \n",
    "            display_cluster(i[:,[b,j]],hierarchical_cluster,hierarchical_cluster.n_clusters_) \n",
    "            x=x+1 \n",
    "            if b==0: \n",
    "                plt.xlabel('Sepal Length') \n",
    "            elif b==1: \n",
    "                plt.xlabel('Sepal Width') \n",
    "            elif b==2: \n",
    "                plt.xlabel('Petal Length') \n",
    "            elif b==3: \n",
    "                plt.xlabel('Petal Width') \n",
    "            if j==0: \n",
    "                plt.ylabel('Sepal Length') \n",
    "            elif j==1: \n",
    "                plt.ylabel('Sepal Width') \n",
    "            elif j==2: \n",
    "                plt.ylabel('Petal Length') \n",
    "            elif j==3: \n",
    "                plt.ylabel('Petal Width')\n",
    "d=d+0.05"
   ]
  },
  {
   "cell_type": "code",
   "execution_count": null,
   "metadata": {},
   "outputs": [],
   "source": [
    "hierarchical_cluster = AgglomerativeClustering(n_clusters=None, distance_threshold=d, affinity='manhattan', linkage='single') \n",
    "labels = hierarchical_cluster.fit_predict(i) \n",
    "x=1\n",
    "print(\"distance threshold=\"+str(d))\n",
    "print(\"clusters=\"+str(hierarchical_cluster.n_clusters_))\n",
    "for j in range (0,4): \n",
    "    for b in range(0,4): \n",
    "        if b!=j: \n",
    "             \n",
    "            plt.tight_layout() \n",
    "            plt.subplot(4,3,x) \n",
    "            \n",
    "            display_cluster(i[:,[b,j]],hierarchical_cluster,hierarchical_cluster.n_clusters_) \n",
    "            x=x+1 \n",
    "            if b==0: \n",
    "                plt.xlabel('Sepal Length') \n",
    "            elif b==1: \n",
    "                plt.xlabel('Sepal Width') \n",
    "            elif b==2: \n",
    "                plt.xlabel('Petal Length') \n",
    "            elif b==3: \n",
    "                plt.xlabel('Petal Width') \n",
    "            if j==0: \n",
    "                plt.ylabel('Sepal Length') \n",
    "            elif j==1: \n",
    "                plt.ylabel('Sepal Width') \n",
    "            elif j==2: \n",
    "                plt.ylabel('Petal Length') \n",
    "            elif j==3: \n",
    "                plt.ylabel('Petal Width')\n",
    "d=d+0.05"
   ]
  },
  {
   "cell_type": "code",
   "execution_count": null,
   "metadata": {},
   "outputs": [],
   "source": [
    "hierarchical_cluster = AgglomerativeClustering(n_clusters=None, distance_threshold=d, affinity='manhattan', linkage='single') \n",
    "labels = hierarchical_cluster.fit_predict(i) \n",
    "x=1\n",
    "print(\"distance threshold=\"+str(d))\n",
    "print(\"clusters=\"+str(hierarchical_cluster.n_clusters_))\n",
    "for j in range (0,4): \n",
    "    for b in range(0,4): \n",
    "        if b!=j: \n",
    "             \n",
    "            plt.tight_layout() \n",
    "            plt.subplot(4,3,x) \n",
    "            \n",
    "            display_cluster(i[:,[b,j]],hierarchical_cluster,hierarchical_cluster.n_clusters_) \n",
    "            x=x+1 \n",
    "            if b==0: \n",
    "                plt.xlabel('Sepal Length') \n",
    "            elif b==1: \n",
    "                plt.xlabel('Sepal Width') \n",
    "            elif b==2: \n",
    "                plt.xlabel('Petal Length') \n",
    "            elif b==3: \n",
    "                plt.xlabel('Petal Width') \n",
    "            if j==0: \n",
    "                plt.ylabel('Sepal Length') \n",
    "            elif j==1: \n",
    "                plt.ylabel('Sepal Width') \n",
    "            elif j==2: \n",
    "                plt.ylabel('Petal Length') \n",
    "            elif j==3: \n",
    "                plt.ylabel('Petal Width')\n",
    "d=d+0.05"
   ]
  },
  {
   "cell_type": "code",
   "execution_count": null,
   "metadata": {},
   "outputs": [],
   "source": [
    "hierarchical_cluster = AgglomerativeClustering(n_clusters=None, distance_threshold=d, affinity='manhattan', linkage='single') \n",
    "labels = hierarchical_cluster.fit_predict(i) \n",
    "x=1\n",
    "print(\"distance threshold=\"+str(d))\n",
    "print(\"clusters=\"+str(hierarchical_cluster.n_clusters_))\n",
    "for j in range (0,4): \n",
    "    for b in range(0,4): \n",
    "        if b!=j: \n",
    "             \n",
    "            plt.tight_layout() \n",
    "            plt.subplot(4,3,x) \n",
    "            \n",
    "            display_cluster(i[:,[b,j]],hierarchical_cluster,hierarchical_cluster.n_clusters_) \n",
    "            x=x+1 \n",
    "            if b==0: \n",
    "                plt.xlabel('Sepal Length') \n",
    "            elif b==1: \n",
    "                plt.xlabel('Sepal Width') \n",
    "            elif b==2: \n",
    "                plt.xlabel('Petal Length') \n",
    "            elif b==3: \n",
    "                plt.xlabel('Petal Width') \n",
    "            if j==0: \n",
    "                plt.ylabel('Sepal Length') \n",
    "            elif j==1: \n",
    "                plt.ylabel('Sepal Width') \n",
    "            elif j==2: \n",
    "                plt.ylabel('Petal Length') \n",
    "            elif j==3: \n",
    "                plt.ylabel('Petal Width')\n",
    "d=d+0.05"
   ]
  },
  {
   "cell_type": "code",
   "execution_count": null,
   "metadata": {
    "scrolled": false
   },
   "outputs": [],
   "source": [
    "silhouette_scores = []\n",
    "s = []\n",
    "x=0.9\n",
    "for m in range(30):\n",
    "    s.append(x)\n",
    "    hierarchical_cluster = AgglomerativeClustering(n_clusters=None, distance_threshold=x, affinity='manhattan', linkage='single')\n",
    "    silhouette_scores.append(silhouette_score(i, hierarchical_cluster.fit_predict(i)))\n",
    "    x=x+0.05\n",
    "plt.plot(s, silhouette_scores, marker='o')"
   ]
  },
  {
   "cell_type": "code",
   "execution_count": null,
   "metadata": {},
   "outputs": [],
   "source": [
    "from sklearn.datasets import load_iris\n",
    "iris_data = load_iris()\n",
    "iris_data.target[[10, 25, 50]]\n",
    "#array([0, 0, 1])\n",
    "list(iris_data.target_names)\n",
    "['setosa', 'versicolor', 'virginica']\n",
    "i=iris_data.data"
   ]
  },
  {
   "cell_type": "code",
   "execution_count": null,
   "metadata": {
    "scrolled": false
   },
   "outputs": [],
   "source": [
    "silhouette_scores = []\n",
    "s = []\n",
    "e=0.3\n",
    "n=5\n",
    "for m in range(13):\n",
    "    #print(m)\n",
    "    n=5\n",
    "    for h in range(7):\n",
    "        #print(h)\n",
    "        s.append(e)\n",
    "        db_default = DBSCAN(eps = e, min_samples = n).fit(i)\n",
    "        silhouette_scores.append(silhouette_score(i, db_default.fit_predict(i)))\n",
    "        n=n+1\n",
    "    e=e+0.1\n",
    "print(e)\n",
    "plt.plot(s,silhouette_scores, marker='o')"
   ]
  },
  {
   "cell_type": "code",
   "execution_count": null,
   "metadata": {},
   "outputs": [],
   "source": [
    "silhouette_scores = []\n",
    "s = []\n",
    "e=0.6\n",
    "n=5\n",
    "for h in range(13):\n",
    "    s.append(n)\n",
    "    db_default = DBSCAN(eps = e, min_samples = n).fit(i)\n",
    "    silhouette_scores.append(silhouette_score(i, db_default.fit_predict(i)))\n",
    "    n=n+1\n",
    "print(e)\n",
    "plt.plot(s,silhouette_scores, marker='o')"
   ]
  },
  {
   "cell_type": "code",
   "execution_count": null,
   "metadata": {},
   "outputs": [],
   "source": [
    "silhouette_scores = []\n",
    "s = []\n",
    "e=0.5\n",
    "n=5\n",
    "for h in range(13):\n",
    "    s.append(n)\n",
    "    db_default = DBSCAN(eps = e, min_samples = n).fit(i)\n",
    "    silhouette_scores.append(silhouette_score(i, db_default.fit_predict(i)))\n",
    "    n=n+1\n",
    "print(e)\n",
    "plt.plot(s,silhouette_scores, marker='o')"
   ]
  },
  {
   "cell_type": "code",
   "execution_count": null,
   "metadata": {},
   "outputs": [],
   "source": []
  },
  {
   "cell_type": "code",
   "execution_count": null,
   "metadata": {},
   "outputs": [],
   "source": []
  },
  {
   "cell_type": "code",
   "execution_count": null,
   "metadata": {},
   "outputs": [],
   "source": [
    "e=0.6\n",
    "n=6\n",
    "db_default = DBSCAN(eps = e, min_samples = n).fit(i)\n",
    "labels = db_default.labels_\n",
    "x=1\n",
    "for j in range (0,4): \n",
    "    for b in range(0,4): \n",
    "        if b!=j: \n",
    "             \n",
    "            plt.tight_layout() \n",
    "            plt.subplot(4,3,x) \n",
    "            \n",
    "            display_clusterr(i[:,[b,j]],db_default,7) \n",
    "            x=x+1 \n",
    "            if b==0: \n",
    "                plt.xlabel('Sepal Length') \n",
    "            elif b==1: \n",
    "                plt.xlabel('Sepal Width') \n",
    "            elif b==2: \n",
    "                plt.xlabel('Petal Length') \n",
    "            elif b==3: \n",
    "                plt.xlabel('Petal Width') \n",
    "            if j==0: \n",
    "                plt.ylabel('Sepal Length') \n",
    "            elif j==1: \n",
    "                plt.ylabel('Sepal Width') \n",
    "            elif j==2: \n",
    "                plt.ylabel('Petal Length') \n",
    "            elif j==3: \n",
    "                plt.ylabel('Petal Width')\n"
   ]
  },
  {
   "cell_type": "code",
   "execution_count": null,
   "metadata": {},
   "outputs": [],
   "source": [
    "e=0.5\n",
    "n=5\n",
    "db_default = DBSCAN(eps = e, min_samples = n).fit(i)\n",
    "labels = db_default.labels_\n",
    "x=1\n",
    "for j in range (0,4): \n",
    "    for b in range(0,4): \n",
    "        if b!=j: \n",
    "             \n",
    "            plt.tight_layout() \n",
    "            plt.subplot(4,3,x) \n",
    "            \n",
    "            display_clusterr(i[:,[b,j]],db_default,7) \n",
    "            x=x+1 \n",
    "            if b==0: \n",
    "                plt.xlabel('Sepal Length') \n",
    "            elif b==1: \n",
    "                plt.xlabel('Sepal Width') \n",
    "            elif b==2: \n",
    "                plt.xlabel('Petal Length') \n",
    "            elif b==3: \n",
    "                plt.xlabel('Petal Width') \n",
    "            if j==0: \n",
    "                plt.ylabel('Sepal Length') \n",
    "            elif j==1: \n",
    "                plt.ylabel('Sepal Width') \n",
    "            elif j==2: \n",
    "                plt.ylabel('Petal Length') \n",
    "            elif j==3: \n",
    "                plt.ylabel('Petal Width')\n"
   ]
  },
  {
   "cell_type": "code",
   "execution_count": null,
   "metadata": {},
   "outputs": [],
   "source": [
    "from sklearn.datasets import make_blobs\n",
    "from sklearn.mixture import GaussianMixture\n",
    "import matplotlib.pyplot as plt\n",
    "\n",
    "gmm = GaussianMixture(n_components=6)\n",
    "gmm.fit(i)\n",
    "\n",
    "labels = gmm.predict(i)\n",
    "x=1\n",
    "for j in range (0,4): \n",
    "    for b in range(0,4): \n",
    "        if b!=j: \n",
    "             \n",
    "            plt.tight_layout() \n",
    "            plt.subplot(4,3,x) \n",
    "            \n",
    "            display_clusterG(i[:,[b,j]],gmm,num_clusters=6,hs=labels) \n",
    "            x=x+1 \n",
    "            if b==0: \n",
    "                plt.xlabel('Sepal Length') \n",
    "            elif b==1: \n",
    "                plt.xlabel('Sepal Width') \n",
    "            elif b==2: \n",
    "                plt.xlabel('Petal Length') \n",
    "            elif b==3: \n",
    "                plt.xlabel('Petal Width') \n",
    "            if j==0: \n",
    "                plt.ylabel('Sepal Length') \n",
    "            elif j==1: \n",
    "                plt.ylabel('Sepal Width') \n",
    "            elif j==2: \n",
    "                plt.ylabel('Petal Length') \n",
    "            elif j==3: \n",
    "                plt.ylabel('Petal Width')"
   ]
  },
  {
   "cell_type": "code",
   "execution_count": null,
   "metadata": {},
   "outputs": [],
   "source": [
    "cov_types = ['full', 'tied', 'diag', 'spherical']\n",
    "m=0\n",
    "gmm = GaussianMixture(n_components=6, covariance_type= cov_types[m])\n",
    "gmm.fit(i)\n",
    "\n",
    "labels = gmm.predict(i)\n",
    "x=1\n",
    "for j in range (0,4): \n",
    "    for b in range(0,4): \n",
    "        if b!=j: \n",
    "             \n",
    "            plt.tight_layout() \n",
    "            plt.subplot(4,3,x) \n",
    "            \n",
    "            display_clusterG(i[:,[b,j]],gmm,num_clusters=6,hs=labels) \n",
    "            x=x+1 \n",
    "            if b==0: \n",
    "                plt.xlabel('Sepal Length') \n",
    "            elif b==1: \n",
    "                plt.xlabel('Sepal Width') \n",
    "            elif b==2: \n",
    "                plt.xlabel('Petal Length') \n",
    "            elif b==3: \n",
    "                plt.xlabel('Petal Width') \n",
    "            if j==0: \n",
    "                plt.ylabel('Sepal Length') \n",
    "            elif j==1: \n",
    "                plt.ylabel('Sepal Width') \n",
    "            elif j==2: \n",
    "                plt.ylabel('Petal Length') \n",
    "            elif j==3: \n",
    "                plt.ylabel('Petal Width')"
   ]
  },
  {
   "cell_type": "code",
   "execution_count": null,
   "metadata": {},
   "outputs": [],
   "source": [
    "cov_types = ['full', 'tied', 'diag', 'spherical']\n",
    "m=1\n",
    "gmm = GaussianMixture(n_components=6, covariance_type= cov_types[m])\n",
    "gmm.fit(i)\n",
    "\n",
    "labels = gmm.predict(i)\n",
    "x=1\n",
    "for j in range (0,4): \n",
    "    for b in range(0,4): \n",
    "        if b!=j: \n",
    "             \n",
    "            plt.tight_layout() \n",
    "            plt.subplot(4,3,x) \n",
    "            \n",
    "            display_clusterG(i[:,[b,j]],gmm,num_clusters=6,hs=labels) \n",
    "            x=x+1 \n",
    "            if b==0: \n",
    "                plt.xlabel('Sepal Length') \n",
    "            elif b==1: \n",
    "                plt.xlabel('Sepal Width') \n",
    "            elif b==2: \n",
    "                plt.xlabel('Petal Length') \n",
    "            elif b==3: \n",
    "                plt.xlabel('Petal Width') \n",
    "            if j==0: \n",
    "                plt.ylabel('Sepal Length') \n",
    "            elif j==1: \n",
    "                plt.ylabel('Sepal Width') \n",
    "            elif j==2: \n",
    "                plt.ylabel('Petal Length') \n",
    "            elif j==3: \n",
    "                plt.ylabel('Petal Width')"
   ]
  },
  {
   "cell_type": "code",
   "execution_count": null,
   "metadata": {},
   "outputs": [],
   "source": [
    "cov_types = ['full', 'tied', 'diag', 'spherical']\n",
    "m=2\n",
    "gmm = GaussianMixture(n_components=6, covariance_type= cov_types[m])\n",
    "gmm.fit(i)\n",
    "\n",
    "labels = gmm.predict(i)\n",
    "x=1\n",
    "for j in range (0,4): \n",
    "    for b in range(0,4): \n",
    "        if b!=j: \n",
    "             \n",
    "            plt.tight_layout() \n",
    "            plt.subplot(4,3,x) \n",
    "            \n",
    "            display_clusterG(i[:,[b,j]],gmm,num_clusters=6,hs=labels) \n",
    "            x=x+1 \n",
    "            if b==0: \n",
    "                plt.xlabel('Sepal Length') \n",
    "            elif b==1: \n",
    "                plt.xlabel('Sepal Width') \n",
    "            elif b==2: \n",
    "                plt.xlabel('Petal Length') \n",
    "            elif b==3: \n",
    "                plt.xlabel('Petal Width') \n",
    "            if j==0: \n",
    "                plt.ylabel('Sepal Length') \n",
    "            elif j==1: \n",
    "                plt.ylabel('Sepal Width') \n",
    "            elif j==2: \n",
    "                plt.ylabel('Petal Length') \n",
    "            elif j==3: \n",
    "                plt.ylabel('Petal Width')"
   ]
  },
  {
   "cell_type": "code",
   "execution_count": null,
   "metadata": {},
   "outputs": [],
   "source": [
    "cov_types = ['full', 'tied', 'diag', 'spherical']\n",
    "m=3\n",
    "gmm = GaussianMixture(n_components=6, covariance_type= cov_types[m])\n",
    "gmm.fit(i)\n",
    "\n",
    "labels = gmm.predict(i)\n",
    "x=1\n",
    "for j in range (0,4): \n",
    "    for b in range(0,4): \n",
    "        if b!=j: \n",
    "             \n",
    "            plt.tight_layout() \n",
    "            plt.subplot(4,3,x) \n",
    "            \n",
    "            display_clusterG(i[:,[b,j]],gmm,num_clusters=6,hs=labels) \n",
    "            x=x+1 \n",
    "            if b==0: \n",
    "                plt.xlabel('Sepal Length') \n",
    "            elif b==1: \n",
    "                plt.xlabel('Sepal Width') \n",
    "            elif b==2: \n",
    "                plt.xlabel('Petal Length') \n",
    "            elif b==3: \n",
    "                plt.xlabel('Petal Width') \n",
    "            if j==0: \n",
    "                plt.ylabel('Sepal Length') \n",
    "            elif j==1: \n",
    "                plt.ylabel('Sepal Width') \n",
    "            elif j==2: \n",
    "                plt.ylabel('Petal Length') \n",
    "            elif j==3: \n",
    "                plt.ylabel('Petal Width')"
   ]
  },
  {
   "cell_type": "code",
   "execution_count": null,
   "metadata": {},
   "outputs": [],
   "source": [
    "from sklearn.datasets import load_iris\n",
    "iris_data = load_iris()\n",
    "iris_data.target[[10, 25, 50]]\n",
    "#array([0, 0, 1])\n",
    "list(iris_data.target_names)\n",
    "['setosa', 'versicolor', 'virginica']\n",
    "i=iris_data.data"
   ]
  },
  {
   "cell_type": "code",
   "execution_count": null,
   "metadata": {},
   "outputs": [],
   "source": [
    "import numpy as np\n",
    "from sklearn.decomposition import PCA\n",
    "from sklearn import preprocessing\n",
    "\n",
    "i=preprocessing.normalize(i,axis=0)\n",
    "pca = PCA(n_components=2)\n",
    "i = pca.fit_transform(i)"
   ]
  },
  {
   "cell_type": "code",
   "execution_count": null,
   "metadata": {},
   "outputs": [],
   "source": [
    "for x in range(1,8):\n",
    "    kmeans = KMeans(n_clusters=x)\n",
    "    kmeans.fit(i)\n",
    "    plt.subplot(3,3,x)\n",
    "    plt.tight_layout()\n",
    "    display_clusterKM(i,kmeans,x)\n",
    "    x=x+1\n",
    "    "
   ]
  },
  {
   "cell_type": "code",
   "execution_count": null,
   "metadata": {},
   "outputs": [],
   "source": [
    "inertias = []\n",
    "for m in range(1,15):\n",
    "    kmeans = KMeans(n_clusters=m)\n",
    "    kmeans.fit(i)\n",
    "    inertias.append(kmeans.inertia_)\n",
    "plt.plot(range(1,15), inertias, marker='o')\n",
    "#K=6"
   ]
  },
  {
   "cell_type": "code",
   "execution_count": null,
   "metadata": {},
   "outputs": [],
   "source": [
    "score = []\n",
    "for m in range(2,15):\n",
    "    kmeans = KMeans(n_clusters=m)\n",
    "    kmeans.fit(i)\n",
    "    score.append(silhouette_score(i, kmeans.labels_, metric='euclidean'))\n",
    "plt.plot(range(2,15), score, marker='o')\n",
    "#K=6"
   ]
  },
  {
   "cell_type": "code",
   "execution_count": null,
   "metadata": {},
   "outputs": [],
   "source": [
    "linkage_data = linkage(i, method='average', metric='euclidean')\n",
    "dendrogram(linkage_data)\n",
    "plt.show()"
   ]
  },
  {
   "cell_type": "code",
   "execution_count": null,
   "metadata": {},
   "outputs": [],
   "source": [
    "from sklearn.cluster import AgglomerativeClustering\n",
    "from sklearn.preprocessing import StandardScaler, normalize\n",
    "from sklearn.metrics import silhouette_score\n",
    "import scipy.cluster.hierarchy as shc\n",
    "from scipy.cluster.hierarchy import dendrogram, linkage\n",
    "x=0.025\n",
    "for m in range(9):\n",
    "    hierarchical_cluster = AgglomerativeClustering(n_clusters=None, distance_threshold=x, affinity='euclidean', linkage='average')\n",
    "    #4.2-\n",
    "    labels = hierarchical_cluster.fit_predict(i)\n",
    "    plt.subplot(3,3,m+1)\n",
    "    plt.tight_layout()\n",
    "    plt.title(label=round(x, 3))\n",
    "    display_cluster(i,hierarchical_cluster,hierarchical_cluster.n_clusters_)\n",
    "    #print(x)\n",
    "    x=x+0.005"
   ]
  },
  {
   "cell_type": "code",
   "execution_count": null,
   "metadata": {},
   "outputs": [],
   "source": [
    "silhouette_scores = []\n",
    "s = []\n",
    "x=0.025\n",
    "for m in range(18):\n",
    "    s.append(x)\n",
    "    hierarchical_cluster = AgglomerativeClustering(n_clusters=None, distance_threshold=x, affinity='euclidean', linkage='average')\n",
    "    silhouette_scores.append(silhouette_score(i, hierarchical_cluster.fit_predict(i)))\n",
    "    x=x+0.005\n",
    "plt.plot(s, silhouette_scores, marker='o')"
   ]
  },
  {
   "cell_type": "code",
   "execution_count": null,
   "metadata": {},
   "outputs": [],
   "source": [
    "linkage_data = linkage(i, method='average', metric='cityblock')\n",
    "dendrogram(linkage_data)\n",
    "plt.show()"
   ]
  },
  {
   "cell_type": "code",
   "execution_count": null,
   "metadata": {},
   "outputs": [],
   "source": [
    "from sklearn.cluster import AgglomerativeClustering\n",
    "from sklearn.preprocessing import StandardScaler, normalize\n",
    "from sklearn.metrics import silhouette_score\n",
    "import scipy.cluster.hierarchy as shc\n",
    "from scipy.cluster.hierarchy import dendrogram, linkage\n",
    "x=0.035\n",
    "for m in range(9):\n",
    "    hierarchical_cluster = AgglomerativeClustering(n_clusters=None, distance_threshold=x, affinity='manhattan', linkage='average')\n",
    "    #4.2-\n",
    "    labels = hierarchical_cluster.fit_predict(i)\n",
    "    plt.subplot(3,3,m+1)\n",
    "    plt.tight_layout()\n",
    "    plt.title(label=round(x, 3))\n",
    "    display_cluster(i,hierarchical_cluster,hierarchical_cluster.n_clusters_)\n",
    "    #print(x)\n",
    "    x=x+0.005"
   ]
  },
  {
   "cell_type": "code",
   "execution_count": null,
   "metadata": {},
   "outputs": [],
   "source": [
    "silhouette_scores = []\n",
    "s = []\n",
    "x=0.035\n",
    "for m in range(18):\n",
    "    s.append(x)\n",
    "    hierarchical_cluster = AgglomerativeClustering(n_clusters=None, distance_threshold=x, affinity='manhattan', linkage='average')\n",
    "    silhouette_scores.append(silhouette_score(i, hierarchical_cluster.fit_predict(i)))\n",
    "    x=x+0.005\n",
    "plt.plot(s, silhouette_scores, marker='o')"
   ]
  },
  {
   "cell_type": "code",
   "execution_count": null,
   "metadata": {},
   "outputs": [],
   "source": [
    "linkage_data = linkage(i, method='average', metric='cosine')\n",
    "dendrogram(linkage_data)\n",
    "plt.show()"
   ]
  },
  {
   "cell_type": "code",
   "execution_count": null,
   "metadata": {},
   "outputs": [],
   "source": [
    "from sklearn.cluster import AgglomerativeClustering\n",
    "from sklearn.preprocessing import StandardScaler, normalize\n",
    "from sklearn.metrics import silhouette_score\n",
    "import scipy.cluster.hierarchy as shc\n",
    "from scipy.cluster.hierarchy import dendrogram, linkage\n",
    "x=0.175\n",
    "for m in range(9):\n",
    "    hierarchical_cluster = AgglomerativeClustering(n_clusters=None, distance_threshold=x, affinity='cosine', linkage='average')\n",
    "    labels = hierarchical_cluster.fit_predict(i)\n",
    "    plt.subplot(3,3,m+1)\n",
    "    plt.tight_layout()\n",
    "    plt.title(label=round(x, 3))\n",
    "    display_cluster(i,hierarchical_cluster,hierarchical_cluster.n_clusters_)\n",
    "    #print(x)\n",
    "    x=x+0.1"
   ]
  },
  {
   "cell_type": "code",
   "execution_count": null,
   "metadata": {},
   "outputs": [],
   "source": [
    "silhouette_scores = []\n",
    "s = []\n",
    "x=0.175\n",
    "for m in range(9):\n",
    "    s.append(x)\n",
    "    hierarchical_cluster = AgglomerativeClustering(n_clusters=None, distance_threshold=x, affinity='cosine', linkage='average')\n",
    "    silhouette_scores.append(silhouette_score(i, hierarchical_cluster.fit_predict(i)))\n",
    "    x=x+0.1\n",
    "plt.plot(s, silhouette_scores, marker='o')"
   ]
  },
  {
   "cell_type": "markdown",
   "metadata": {
    "id": "N2oBmWT2udcA"
   },
   "source": [
    "## Customer dataset\n",
    "Repeat all the above on the customer data set "
   ]
  },
  {
   "cell_type": "code",
   "execution_count": null,
   "metadata": {},
   "outputs": [],
   "source": [
    "c = pd.read_csv(\"C:/Users/mado1/Desktop/Customer data.csv\")\n",
    "c = np.vstack((c.Sex, c['Marital status'], c.Age, c.Education, c.Income, c.Occupation, c['Settlement size'])).T"
   ]
  },
  {
   "cell_type": "code",
   "execution_count": null,
   "metadata": {},
   "outputs": [],
   "source": [
    "kmeans = KMeans(n_clusters=1)\n",
    "kmeans.fit(c)\n",
    "x=0\n",
    "x=x+1\n",
    "for j in range (0,4): \n",
    "    #print(j)\n",
    "    for b in range(j,7):\n",
    "        print(b)\n",
    "        if b!=j: \n",
    "            plt.tight_layout() \n",
    "            plt.subplot(5,5,x)\n",
    "            display_cluster(c[:,[b,j]],kmeans,kmeans.n_clusters)\n",
    "            x=x+1 \n",
    "            if b==0: \n",
    "                plt.xlabel('Sex')\n",
    "            elif b==1: \n",
    "                plt.xlabel('Marital status')\n",
    "            elif b==2: \n",
    "                plt.xlabel('Age')\n",
    "            elif b==3: \n",
    "                plt.xlabel('Education')\n",
    "            elif b==4: \n",
    "                plt.xlabel('Income')\n",
    "            elif b==5: \n",
    "                plt.xlabel('Occupation')\n",
    "            elif b==6: \n",
    "                plt.xlabel('Settlement size')\n",
    "            if j==0: \n",
    "                plt.xlabel('Sex')\n",
    "            elif j==1: \n",
    "                plt.ylabel('Marital status')\n",
    "            elif j==2: \n",
    "                plt.ylabel('Age')\n",
    "            elif j==3: \n",
    "                plt.ylabel('Education')\n",
    "            elif j==4: \n",
    "                plt.ylabel('Income')\n",
    "            elif j==5: \n",
    "                plt.ylabel('Occupation')\n",
    "            elif j==6: \n",
    "                plt.ylabel('Settlement size')\n",
    "    \n",
    "\n"
   ]
  },
  {
   "cell_type": "code",
   "execution_count": null,
   "metadata": {},
   "outputs": [],
   "source": [
    "kmeans = KMeans(n_clusters=1)\n",
    "kmeans.fit(c)\n",
    "x=0\n",
    "x=x+1\n",
    "for j in range (4,7): \n",
    "    print(j)\n",
    "    for b in range(j+1,7):\n",
    "        #print(b)\n",
    "        if b!=j: \n",
    "            plt.tight_layout() \n",
    "            plt.subplot(2,2,x)\n",
    "            display_cluster(c[:,[b,j]],kmeans,kmeans.n_clusters)\n",
    "            x=x+1 \n",
    "            if b==0: \n",
    "                plt.xlabel('Sepal Length')\n",
    "            elif b==1: \n",
    "                plt.xlabel('Sepal Width')\n",
    "            elif b==2: \n",
    "                plt.xlabel('Petal Length')\n",
    "            elif b==3: \n",
    "                plt.xlabel('Petal Width')\n",
    "            elif b==4: \n",
    "                plt.xlabel('Income')\n",
    "            elif b==5: \n",
    "                plt.xlabel('Occupation')\n",
    "            elif b==6: \n",
    "                plt.xlabel('Settlement size')\n",
    "            if j==0: \n",
    "                plt.xlabel('Sex')\n",
    "            elif j==1: \n",
    "                plt.ylabel('Marital status')\n",
    "            elif j==2: \n",
    "                plt.ylabel('Age')\n",
    "            elif j==3: \n",
    "                plt.ylabel('Education')\n",
    "            elif j==4: \n",
    "                plt.ylabel('Income')\n",
    "            elif j==5: \n",
    "                plt.ylabel('Occupation')\n",
    "            elif j==6: \n",
    "                plt.ylabel('Settlement size')"
   ]
  },
  {
   "cell_type": "code",
   "execution_count": null,
   "metadata": {},
   "outputs": [],
   "source": [
    "r=2\n",
    "kmeans = KMeans(n_clusters=r)\n",
    "kmeans.fit(c)\n",
    "x=0\n",
    "x=x+1\n",
    "for j in range (0,4): \n",
    "    #print(j)\n",
    "    for b in range(j,7):\n",
    "        print(b)\n",
    "        if b!=j: \n",
    "            plt.tight_layout() \n",
    "            plt.subplot(5,5,x)\n",
    "            display_cluster(c[:,[b,j]],kmeans,kmeans.n_clusters)\n",
    "            x=x+1 \n",
    "            if b==0: \n",
    "                plt.xlabel('Sex')\n",
    "            elif b==1: \n",
    "                plt.xlabel('Marital status')\n",
    "            elif b==2: \n",
    "                plt.xlabel('Age')\n",
    "            elif b==3: \n",
    "                plt.xlabel('Education')\n",
    "            elif b==4: \n",
    "                plt.xlabel('Income')\n",
    "            elif b==5: \n",
    "                plt.xlabel('Occupation')\n",
    "            elif b==6: \n",
    "                plt.xlabel('Settlement size')\n",
    "            if j==0: \n",
    "                plt.xlabel('Sex')\n",
    "            elif j==1: \n",
    "                plt.ylabel('Marital status')\n",
    "            elif j==2: \n",
    "                plt.ylabel('Age')\n",
    "            elif j==3: \n",
    "                plt.ylabel('Education')\n",
    "            elif j==4: \n",
    "                plt.ylabel('Income')\n",
    "            elif j==5: \n",
    "                plt.ylabel('Occupation')\n",
    "            elif j==6: \n",
    "                plt.ylabel('Settlement size')\n",
    "    \n",
    "\n"
   ]
  },
  {
   "cell_type": "code",
   "execution_count": null,
   "metadata": {},
   "outputs": [],
   "source": [
    "kmeans = KMeans(n_clusters=r)\n",
    "kmeans.fit(c)\n",
    "x=0\n",
    "x=x+1\n",
    "for j in range (4,7): \n",
    "    print(j)\n",
    "    for b in range(j+1,7):\n",
    "        #print(b)\n",
    "        if b!=j: \n",
    "            plt.tight_layout() \n",
    "            plt.subplot(2,2,x)\n",
    "            display_cluster(c[:,[b,j]],kmeans,kmeans.n_clusters)\n",
    "            x=x+1 \n",
    "            if b==0: \n",
    "                plt.xlabel('Sepal Length')\n",
    "            elif b==1: \n",
    "                plt.xlabel('Sepal Width')\n",
    "            elif b==2: \n",
    "                plt.xlabel('Petal Length')\n",
    "            elif b==3: \n",
    "                plt.xlabel('Petal Width')\n",
    "            elif b==4: \n",
    "                plt.xlabel('Income')\n",
    "            elif b==5: \n",
    "                plt.xlabel('Occupation')\n",
    "            elif b==6: \n",
    "                plt.xlabel('Settlement size')\n",
    "            if j==0: \n",
    "                plt.xlabel('Sex')\n",
    "            elif j==1: \n",
    "                plt.ylabel('Marital status')\n",
    "            elif j==2: \n",
    "                plt.ylabel('Age')\n",
    "            elif j==3: \n",
    "                plt.ylabel('Education')\n",
    "            elif j==4: \n",
    "                plt.ylabel('Income')\n",
    "            elif j==5: \n",
    "                plt.ylabel('Occupation')\n",
    "            elif j==6: \n",
    "                plt.ylabel('Settlement size')\n",
    "r=r+1"
   ]
  },
  {
   "cell_type": "code",
   "execution_count": null,
   "metadata": {},
   "outputs": [],
   "source": [
    "kmeans = KMeans(n_clusters=r)\n",
    "kmeans.fit(c)\n",
    "x=0\n",
    "x=x+1\n",
    "for j in range (0,4): \n",
    "    #print(j)\n",
    "    for b in range(j,7):\n",
    "        print(b)\n",
    "        if b!=j: \n",
    "            plt.tight_layout() \n",
    "            plt.subplot(5,5,x)\n",
    "            display_cluster(c[:,[b,j]],kmeans,kmeans.n_clusters)\n",
    "            x=x+1 \n",
    "            if b==0: \n",
    "                plt.xlabel('Sex')\n",
    "            elif b==1: \n",
    "                plt.xlabel('Marital status')\n",
    "            elif b==2: \n",
    "                plt.xlabel('Age')\n",
    "            elif b==3: \n",
    "                plt.xlabel('Education')\n",
    "            elif b==4: \n",
    "                plt.xlabel('Income')\n",
    "            elif b==5: \n",
    "                plt.xlabel('Occupation')\n",
    "            elif b==6: \n",
    "                plt.xlabel('Settlement size')\n",
    "            if j==0: \n",
    "                plt.xlabel('Sex')\n",
    "            elif j==1: \n",
    "                plt.ylabel('Marital status')\n",
    "            elif j==2: \n",
    "                plt.ylabel('Age')\n",
    "            elif j==3: \n",
    "                plt.ylabel('Education')\n",
    "            elif j==4: \n",
    "                plt.ylabel('Income')\n",
    "            elif j==5: \n",
    "                plt.ylabel('Occupation')\n",
    "            elif j==6: \n",
    "                plt.ylabel('Settlement size')\n",
    "    \n",
    "\n"
   ]
  },
  {
   "cell_type": "code",
   "execution_count": null,
   "metadata": {},
   "outputs": [],
   "source": [
    "kmeans = KMeans(n_clusters=r)\n",
    "kmeans.fit(c)\n",
    "x=0\n",
    "x=x+1\n",
    "for j in range (4,7): \n",
    "    print(j)\n",
    "    for b in range(j+1,7):\n",
    "        #print(b)\n",
    "        if b!=j: \n",
    "            plt.tight_layout() \n",
    "            plt.subplot(2,2,x)\n",
    "            display_cluster(c[:,[b,j]],kmeans,kmeans.n_clusters)\n",
    "            x=x+1 \n",
    "            if b==0: \n",
    "                plt.xlabel('Sepal Length')\n",
    "            elif b==1: \n",
    "                plt.xlabel('Sepal Width')\n",
    "            elif b==2: \n",
    "                plt.xlabel('Petal Length')\n",
    "            elif b==3: \n",
    "                plt.xlabel('Petal Width')\n",
    "            elif b==4: \n",
    "                plt.xlabel('Income')\n",
    "            elif b==5: \n",
    "                plt.xlabel('Occupation')\n",
    "            elif b==6: \n",
    "                plt.xlabel('Settlement size')\n",
    "            if j==0: \n",
    "                plt.xlabel('Sex')\n",
    "            elif j==1: \n",
    "                plt.ylabel('Marital status')\n",
    "            elif j==2: \n",
    "                plt.ylabel('Age')\n",
    "            elif j==3: \n",
    "                plt.ylabel('Education')\n",
    "            elif j==4: \n",
    "                plt.ylabel('Income')\n",
    "            elif j==5: \n",
    "                plt.ylabel('Occupation')\n",
    "            elif j==6: \n",
    "                plt.ylabel('Settlement size')\n",
    "r=r+1"
   ]
  },
  {
   "cell_type": "code",
   "execution_count": null,
   "metadata": {},
   "outputs": [],
   "source": [
    "kmeans = KMeans(n_clusters=r)\n",
    "kmeans.fit(c)\n",
    "x=0\n",
    "x=x+1\n",
    "for j in range (0,4): \n",
    "    #print(j)\n",
    "    for b in range(j,7):\n",
    "        print(b)\n",
    "        if b!=j: \n",
    "            plt.tight_layout() \n",
    "            plt.subplot(5,5,x)\n",
    "            display_cluster(c[:,[b,j]],kmeans,kmeans.n_clusters)\n",
    "            x=x+1 \n",
    "            if b==0: \n",
    "                plt.xlabel('Sex')\n",
    "            elif b==1: \n",
    "                plt.xlabel('Marital status')\n",
    "            elif b==2: \n",
    "                plt.xlabel('Age')\n",
    "            elif b==3: \n",
    "                plt.xlabel('Education')\n",
    "            elif b==4: \n",
    "                plt.xlabel('Income')\n",
    "            elif b==5: \n",
    "                plt.xlabel('Occupation')\n",
    "            elif b==6: \n",
    "                plt.xlabel('Settlement size')\n",
    "            if j==0: \n",
    "                plt.xlabel('Sex')\n",
    "            elif j==1: \n",
    "                plt.ylabel('Marital status')\n",
    "            elif j==2: \n",
    "                plt.ylabel('Age')\n",
    "            elif j==3: \n",
    "                plt.ylabel('Education')\n",
    "            elif j==4: \n",
    "                plt.ylabel('Income')\n",
    "            elif j==5: \n",
    "                plt.ylabel('Occupation')\n",
    "            elif j==6: \n",
    "                plt.ylabel('Settlement size')\n",
    "    \n",
    "\n"
   ]
  },
  {
   "cell_type": "code",
   "execution_count": null,
   "metadata": {},
   "outputs": [],
   "source": [
    "kmeans = KMeans(n_clusters=r)\n",
    "kmeans.fit(c)\n",
    "x=0\n",
    "x=x+1\n",
    "for j in range (4,7): \n",
    "    print(j)\n",
    "    for b in range(j+1,7):\n",
    "        #print(b)\n",
    "        if b!=j: \n",
    "            plt.tight_layout() \n",
    "            plt.subplot(2,2,x)\n",
    "            display_cluster(c[:,[b,j]],kmeans,kmeans.n_clusters)\n",
    "            x=x+1 \n",
    "            if b==0: \n",
    "                plt.xlabel('Sepal Length')\n",
    "            elif b==1: \n",
    "                plt.xlabel('Sepal Width')\n",
    "            elif b==2: \n",
    "                plt.xlabel('Petal Length')\n",
    "            elif b==3: \n",
    "                plt.xlabel('Petal Width')\n",
    "            elif b==4: \n",
    "                plt.xlabel('Income')\n",
    "            elif b==5: \n",
    "                plt.xlabel('Occupation')\n",
    "            elif b==6: \n",
    "                plt.xlabel('Settlement size')\n",
    "            if j==0: \n",
    "                plt.xlabel('Sex')\n",
    "            elif j==1: \n",
    "                plt.ylabel('Marital status')\n",
    "            elif j==2: \n",
    "                plt.ylabel('Age')\n",
    "            elif j==3: \n",
    "                plt.ylabel('Education')\n",
    "            elif j==4: \n",
    "                plt.ylabel('Income')\n",
    "            elif j==5: \n",
    "                plt.ylabel('Occupation')\n",
    "            elif j==6: \n",
    "                plt.ylabel('Settlement size')\n",
    "r=r+1"
   ]
  },
  {
   "cell_type": "code",
   "execution_count": null,
   "metadata": {},
   "outputs": [],
   "source": [
    "kmeans = KMeans(n_clusters=r)\n",
    "kmeans.fit(c)\n",
    "x=0\n",
    "x=x+1\n",
    "for j in range (0,4): \n",
    "    #print(j)\n",
    "    for b in range(j,7):\n",
    "        print(b)\n",
    "        if b!=j: \n",
    "            plt.tight_layout() \n",
    "            plt.subplot(5,5,x)\n",
    "            display_cluster(c[:,[b,j]],kmeans,kmeans.n_clusters)\n",
    "            x=x+1 \n",
    "            if b==0: \n",
    "                plt.xlabel('Sex')\n",
    "            elif b==1: \n",
    "                plt.xlabel('Marital status')\n",
    "            elif b==2: \n",
    "                plt.xlabel('Age')\n",
    "            elif b==3: \n",
    "                plt.xlabel('Education')\n",
    "            elif b==4: \n",
    "                plt.xlabel('Income')\n",
    "            elif b==5: \n",
    "                plt.xlabel('Occupation')\n",
    "            elif b==6: \n",
    "                plt.xlabel('Settlement size')\n",
    "            if j==0: \n",
    "                plt.xlabel('Sex')\n",
    "            elif j==1: \n",
    "                plt.ylabel('Marital status')\n",
    "            elif j==2: \n",
    "                plt.ylabel('Age')\n",
    "            elif j==3: \n",
    "                plt.ylabel('Education')\n",
    "            elif j==4: \n",
    "                plt.ylabel('Income')\n",
    "            elif j==5: \n",
    "                plt.ylabel('Occupation')\n",
    "            elif j==6: \n",
    "                plt.ylabel('Settlement size')\n",
    "    \n",
    "\n"
   ]
  },
  {
   "cell_type": "code",
   "execution_count": null,
   "metadata": {},
   "outputs": [],
   "source": [
    "kmeans = KMeans(n_clusters=r)\n",
    "kmeans.fit(c)\n",
    "x=0\n",
    "x=x+1\n",
    "for j in range (4,7): \n",
    "    print(j)\n",
    "    for b in range(j+1,7):\n",
    "        #print(b)\n",
    "        if b!=j: \n",
    "            plt.tight_layout() \n",
    "            plt.subplot(2,2,x)\n",
    "            display_cluster(c[:,[b,j]],kmeans,kmeans.n_clusters)\n",
    "            x=x+1 \n",
    "            if b==0: \n",
    "                plt.xlabel('Sepal Length')\n",
    "            elif b==1: \n",
    "                plt.xlabel('Sepal Width')\n",
    "            elif b==2: \n",
    "                plt.xlabel('Petal Length')\n",
    "            elif b==3: \n",
    "                plt.xlabel('Petal Width')\n",
    "            elif b==4: \n",
    "                plt.xlabel('Income')\n",
    "            elif b==5: \n",
    "                plt.xlabel('Occupation')\n",
    "            elif b==6: \n",
    "                plt.xlabel('Settlement size')\n",
    "            if j==0: \n",
    "                plt.xlabel('Sex')\n",
    "            elif j==1: \n",
    "                plt.ylabel('Marital status')\n",
    "            elif j==2: \n",
    "                plt.ylabel('Age')\n",
    "            elif j==3: \n",
    "                plt.ylabel('Education')\n",
    "            elif j==4: \n",
    "                plt.ylabel('Income')\n",
    "            elif j==5: \n",
    "                plt.ylabel('Occupation')\n",
    "            elif j==6: \n",
    "                plt.ylabel('Settlement size')\n",
    "r=r+1"
   ]
  },
  {
   "cell_type": "code",
   "execution_count": null,
   "metadata": {},
   "outputs": [],
   "source": [
    "kmeans = KMeans(n_clusters=r)\n",
    "kmeans.fit(c)\n",
    "x=0\n",
    "x=x+1\n",
    "for j in range (0,4): \n",
    "    #print(j)\n",
    "    for b in range(j,7):\n",
    "        print(b)\n",
    "        if b!=j: \n",
    "            plt.tight_layout() \n",
    "            plt.subplot(5,5,x)\n",
    "            display_cluster(c[:,[b,j]],kmeans,kmeans.n_clusters)\n",
    "            x=x+1 \n",
    "            if b==0: \n",
    "                plt.xlabel('Sex')\n",
    "            elif b==1: \n",
    "                plt.xlabel('Marital status')\n",
    "            elif b==2: \n",
    "                plt.xlabel('Age')\n",
    "            elif b==3: \n",
    "                plt.xlabel('Education')\n",
    "            elif b==4: \n",
    "                plt.xlabel('Income')\n",
    "            elif b==5: \n",
    "                plt.xlabel('Occupation')\n",
    "            elif b==6: \n",
    "                plt.xlabel('Settlement size')\n",
    "            if j==0: \n",
    "                plt.xlabel('Sex')\n",
    "            elif j==1: \n",
    "                plt.ylabel('Marital status')\n",
    "            elif j==2: \n",
    "                plt.ylabel('Age')\n",
    "            elif j==3: \n",
    "                plt.ylabel('Education')\n",
    "            elif j==4: \n",
    "                plt.ylabel('Income')\n",
    "            elif j==5: \n",
    "                plt.ylabel('Occupation')\n",
    "            elif j==6: \n",
    "                plt.ylabel('Settlement size')\n",
    "    \n",
    "\n"
   ]
  },
  {
   "cell_type": "code",
   "execution_count": null,
   "metadata": {},
   "outputs": [],
   "source": [
    "kmeans = KMeans(n_clusters=r)\n",
    "kmeans.fit(c)\n",
    "x=0\n",
    "x=x+1\n",
    "for j in range (4,7): \n",
    "    print(j)\n",
    "    for b in range(j+1,7):\n",
    "        #print(b)\n",
    "        if b!=j: \n",
    "            plt.tight_layout() \n",
    "            plt.subplot(2,2,x)\n",
    "            display_cluster(c[:,[b,j]],kmeans,kmeans.n_clusters)\n",
    "            x=x+1 \n",
    "            if b==0: \n",
    "                plt.xlabel('Sepal Length')\n",
    "            elif b==1: \n",
    "                plt.xlabel('Sepal Width')\n",
    "            elif b==2: \n",
    "                plt.xlabel('Petal Length')\n",
    "            elif b==3: \n",
    "                plt.xlabel('Petal Width')\n",
    "            elif b==4: \n",
    "                plt.xlabel('Income')\n",
    "            elif b==5: \n",
    "                plt.xlabel('Occupation')\n",
    "            elif b==6: \n",
    "                plt.xlabel('Settlement size')\n",
    "            if j==0: \n",
    "                plt.xlabel('Sex')\n",
    "            elif j==1: \n",
    "                plt.ylabel('Marital status')\n",
    "            elif j==2: \n",
    "                plt.ylabel('Age')\n",
    "            elif j==3: \n",
    "                plt.ylabel('Education')\n",
    "            elif j==4: \n",
    "                plt.ylabel('Income')\n",
    "            elif j==5: \n",
    "                plt.ylabel('Occupation')\n",
    "            elif j==6: \n",
    "                plt.ylabel('Settlement size')\n",
    "\n",
    "r=r+1\n"
   ]
  },
  {
   "cell_type": "code",
   "execution_count": null,
   "metadata": {},
   "outputs": [],
   "source": [
    "def plot():\n",
    "    x=1\n",
    "    for j in range (0,4): \n",
    "        #print(j)\n",
    "        for b in range(j,7):\n",
    "            \n",
    "            if b!=j: \n",
    "                plt.tight_layout() \n",
    "                plt.subplot(5,5,x)\n",
    "                display_cluster(c[:,[b,j]],hierarchical_cluster,hierarchical_cluster.n_clusters_)\n",
    "                x=x+1 \n",
    "                if b==0: \n",
    "                    plt.xlabel('Sex')\n",
    "                elif b==1: \n",
    "                    plt.xlabel('Marital status')\n",
    "                elif b==2: \n",
    "                    plt.xlabel('Age')\n",
    "                elif b==3: \n",
    "                    plt.xlabel('Education')\n",
    "                elif b==4: \n",
    "                    plt.xlabel('Income')\n",
    "                elif b==5: \n",
    "                    plt.xlabel('Occupation')\n",
    "                elif b==6: \n",
    "                    plt.xlabel('Settlement size')\n",
    "                if j==0: \n",
    "                    plt.xlabel('Sex')\n",
    "                elif j==1: \n",
    "                    plt.ylabel('Marital status')\n",
    "                elif j==2: \n",
    "                    plt.ylabel('Age')\n",
    "                elif j==3: \n",
    "                    plt.ylabel('Education')\n",
    "                elif j==4: \n",
    "                    plt.ylabel('Income')\n",
    "                elif j==5: \n",
    "                    plt.ylabel('Occupation')\n",
    "                elif j==6: \n",
    "                    plt.ylabel('Settlement size')"
   ]
  },
  {
   "cell_type": "code",
   "execution_count": null,
   "metadata": {},
   "outputs": [],
   "source": [
    "def plott():\n",
    "    x=1\n",
    "    for j in range (4,7): \n",
    "    \n",
    "        for b in range(j+1,7):\n",
    "            #print(b)\n",
    "            if b!=j: \n",
    "                plt.tight_layout() \n",
    "                plt.subplot(2,2,x)\n",
    "                display_cluster(c[:,[b,j]],hierarchical_cluster,hierarchical_cluster.n_clusters_)\n",
    "                x=x+1 \n",
    "                if b==0: \n",
    "                    plt.xlabel('Sepal Length')\n",
    "                elif b==1: \n",
    "                    plt.xlabel('Sepal Width')\n",
    "                elif b==2: \n",
    "                    plt.xlabel('Petal Length')\n",
    "                elif b==3: \n",
    "                    plt.xlabel('Petal Width')\n",
    "                elif b==4: \n",
    "                    plt.xlabel('Income')\n",
    "                elif b==5: \n",
    "                    plt.xlabel('Occupation')\n",
    "                elif b==6: \n",
    "                    plt.xlabel('Settlement size')\n",
    "                if j==0: \n",
    "                    plt.xlabel('Sex')\n",
    "                elif j==1: \n",
    "                    plt.ylabel('Marital status')\n",
    "                elif j==2: \n",
    "                    plt.ylabel('Age')\n",
    "                elif j==3: \n",
    "                    plt.ylabel('Education')\n",
    "                elif j==4: \n",
    "                    plt.ylabel('Income')\n",
    "                elif j==5: \n",
    "                    plt.ylabel('Occupation')\n",
    "                elif j==6: \n",
    "                    plt.ylabel('Settlement size')"
   ]
  },
  {
   "cell_type": "code",
   "execution_count": null,
   "metadata": {},
   "outputs": [],
   "source": [
    "#hierarchical_cluster\n",
    "#Multi_blob_Data\n",
    "linkage_data = linkage(c, method='average', metric='euclidean')\n",
    "dendrogram(linkage_data)\n",
    "plt.show()"
   ]
  },
  {
   "cell_type": "code",
   "execution_count": null,
   "metadata": {
    "scrolled": false
   },
   "outputs": [],
   "source": [
    "from sklearn.cluster import AgglomerativeClustering\n",
    "from sklearn.preprocessing import StandardScaler, normalize\n",
    "from sklearn.metrics import silhouette_score\n",
    "import scipy.cluster.hierarchy as shc\n",
    "from scipy.cluster.hierarchy import dendrogram, linkage\n",
    "x=30000\n",
    "hierarchical_cluster = AgglomerativeClustering(n_clusters=None, distance_threshold=x, affinity='euclidean', linkage='average')\n",
    "labels = hierarchical_cluster.fit_predict(c)\n",
    "plot()\n"
   ]
  },
  {
   "cell_type": "code",
   "execution_count": null,
   "metadata": {
    "scrolled": false
   },
   "outputs": [],
   "source": [
    "plott()\n",
    "x=x+10000\n",
    "print(x)"
   ]
  },
  {
   "cell_type": "code",
   "execution_count": null,
   "metadata": {
    "scrolled": false
   },
   "outputs": [],
   "source": [
    "from sklearn.cluster import AgglomerativeClustering\n",
    "from sklearn.preprocessing import StandardScaler, normalize\n",
    "from sklearn.metrics import silhouette_score\n",
    "import scipy.cluster.hierarchy as shc\n",
    "from scipy.cluster.hierarchy import dendrogram, linkage\n",
    "hierarchical_cluster = AgglomerativeClustering(n_clusters=None, distance_threshold=x, affinity='euclidean', linkage='average')\n",
    "labels = hierarchical_cluster.fit_predict(c)\n",
    "plot()\n"
   ]
  },
  {
   "cell_type": "code",
   "execution_count": null,
   "metadata": {
    "scrolled": false
   },
   "outputs": [],
   "source": [
    "plott()\n",
    "x=x+10000\n",
    "print(x)"
   ]
  },
  {
   "cell_type": "code",
   "execution_count": null,
   "metadata": {
    "scrolled": false
   },
   "outputs": [],
   "source": [
    "from sklearn.cluster import AgglomerativeClustering\n",
    "from sklearn.preprocessing import StandardScaler, normalize\n",
    "from sklearn.metrics import silhouette_score\n",
    "import scipy.cluster.hierarchy as shc\n",
    "from scipy.cluster.hierarchy import dendrogram, linkage\n",
    "hierarchical_cluster = AgglomerativeClustering(n_clusters=None, distance_threshold=x, affinity='euclidean', linkage='average')\n",
    "labels = hierarchical_cluster.fit_predict(c)\n",
    "plot()\n"
   ]
  },
  {
   "cell_type": "code",
   "execution_count": null,
   "metadata": {
    "scrolled": false
   },
   "outputs": [],
   "source": [
    "plott()\n",
    "x=x+10000\n",
    "print(x)"
   ]
  },
  {
   "cell_type": "code",
   "execution_count": null,
   "metadata": {
    "scrolled": false
   },
   "outputs": [],
   "source": [
    "from sklearn.cluster import AgglomerativeClustering\n",
    "from sklearn.preprocessing import StandardScaler, normalize\n",
    "from sklearn.metrics import silhouette_score\n",
    "import scipy.cluster.hierarchy as shc\n",
    "from scipy.cluster.hierarchy import dendrogram, linkage\n",
    "hierarchical_cluster = AgglomerativeClustering(n_clusters=None, distance_threshold=x, affinity='euclidean', linkage='average')\n",
    "labels = hierarchical_cluster.fit_predict(c)\n",
    "plot()\n"
   ]
  },
  {
   "cell_type": "code",
   "execution_count": null,
   "metadata": {
    "scrolled": false
   },
   "outputs": [],
   "source": [
    "plott()\n",
    "x=x+10000\n",
    "print(x)"
   ]
  },
  {
   "cell_type": "code",
   "execution_count": null,
   "metadata": {
    "scrolled": false
   },
   "outputs": [],
   "source": [
    "from sklearn.cluster import AgglomerativeClustering\n",
    "from sklearn.preprocessing import StandardScaler, normalize\n",
    "from sklearn.metrics import silhouette_score\n",
    "import scipy.cluster.hierarchy as shc\n",
    "from scipy.cluster.hierarchy import dendrogram, linkage\n",
    "hierarchical_cluster = AgglomerativeClustering(n_clusters=None, distance_threshold=x, affinity='euclidean', linkage='average')\n",
    "labels = hierarchical_cluster.fit_predict(c)\n",
    "plot()\n"
   ]
  },
  {
   "cell_type": "code",
   "execution_count": null,
   "metadata": {
    "scrolled": false
   },
   "outputs": [],
   "source": [
    "plott()\n",
    "x=x+10000\n",
    "print(x)"
   ]
  },
  {
   "cell_type": "code",
   "execution_count": null,
   "metadata": {
    "scrolled": false
   },
   "outputs": [],
   "source": [
    "from sklearn.cluster import AgglomerativeClustering\n",
    "from sklearn.preprocessing import StandardScaler, normalize\n",
    "from sklearn.metrics import silhouette_score\n",
    "import scipy.cluster.hierarchy as shc\n",
    "from scipy.cluster.hierarchy import dendrogram, linkage\n",
    "hierarchical_cluster = AgglomerativeClustering(n_clusters=None, distance_threshold=x, affinity='euclidean', linkage='average')\n",
    "labels = hierarchical_cluster.fit_predict(c)\n",
    "plot()\n"
   ]
  },
  {
   "cell_type": "code",
   "execution_count": null,
   "metadata": {
    "scrolled": false
   },
   "outputs": [],
   "source": [
    "plott()\n",
    "x=x+10000\n",
    "print(x)"
   ]
  },
  {
   "cell_type": "code",
   "execution_count": null,
   "metadata": {
    "scrolled": false
   },
   "outputs": [],
   "source": [
    "from sklearn.cluster import AgglomerativeClustering\n",
    "from sklearn.preprocessing import StandardScaler, normalize\n",
    "from sklearn.metrics import silhouette_score\n",
    "import scipy.cluster.hierarchy as shc\n",
    "from scipy.cluster.hierarchy import dendrogram, linkage\n",
    "hierarchical_cluster = AgglomerativeClustering(n_clusters=None, distance_threshold=x, affinity='euclidean', linkage='average')\n",
    "labels = hierarchical_cluster.fit_predict(c)\n",
    "plot()\n"
   ]
  },
  {
   "cell_type": "code",
   "execution_count": null,
   "metadata": {
    "scrolled": false
   },
   "outputs": [],
   "source": [
    "plott()\n",
    "x=x+10000\n",
    "print(x)"
   ]
  },
  {
   "cell_type": "code",
   "execution_count": null,
   "metadata": {
    "scrolled": false
   },
   "outputs": [],
   "source": [
    "from sklearn.cluster import AgglomerativeClustering\n",
    "from sklearn.preprocessing import StandardScaler, normalize\n",
    "from sklearn.metrics import silhouette_score\n",
    "import scipy.cluster.hierarchy as shc\n",
    "from scipy.cluster.hierarchy import dendrogram, linkage\n",
    "hierarchical_cluster = AgglomerativeClustering(n_clusters=None, distance_threshold=x, affinity='euclidean', linkage='average')\n",
    "labels = hierarchical_cluster.fit_predict(c)\n",
    "plot()\n"
   ]
  },
  {
   "cell_type": "code",
   "execution_count": null,
   "metadata": {
    "scrolled": false
   },
   "outputs": [],
   "source": [
    "plott()\n",
    "x=x+10000\n",
    "print(x)"
   ]
  },
  {
   "cell_type": "code",
   "execution_count": null,
   "metadata": {},
   "outputs": [],
   "source": [
    "silhouette_scores = []\n",
    "s = []\n",
    "x=30000\n",
    "for m in range(12):\n",
    "    s.append(x)\n",
    "    hierarchical_cluster = AgglomerativeClustering(n_clusters=None, distance_threshold=x, affinity='euclidean', linkage='average')\n",
    "    silhouette_scores.append(silhouette_score(c, hierarchical_cluster.fit_predict(c)))\n",
    "    x=x+10000\n",
    "plt.plot(s, silhouette_scores, marker='o')"
   ]
  },
  {
   "cell_type": "code",
   "execution_count": null,
   "metadata": {},
   "outputs": [],
   "source": []
  },
  {
   "cell_type": "code",
   "execution_count": null,
   "metadata": {},
   "outputs": [],
   "source": [
    "#hierarchical_cluster\n",
    "#Multi_blob_Data\n",
    "linkage_data = linkage(c, method='average', metric='cityblock')\n",
    "dendrogram(linkage_data)\n",
    "plt.show()"
   ]
  },
  {
   "cell_type": "code",
   "execution_count": null,
   "metadata": {
    "scrolled": false
   },
   "outputs": [],
   "source": [
    "from sklearn.cluster import AgglomerativeClustering\n",
    "from sklearn.preprocessing import StandardScaler, normalize\n",
    "from sklearn.metrics import silhouette_score\n",
    "import scipy.cluster.hierarchy as shc\n",
    "from scipy.cluster.hierarchy import dendrogram, linkage\n",
    "x=40000\n",
    "hierarchical_cluster = AgglomerativeClustering(n_clusters=None, distance_threshold=x, affinity='manhattan', linkage='average')\n",
    "labels = hierarchical_cluster.fit_predict(c)\n",
    "plot()\n"
   ]
  },
  {
   "cell_type": "code",
   "execution_count": null,
   "metadata": {
    "scrolled": false
   },
   "outputs": [],
   "source": [
    "plott()\n",
    "print(x)\n",
    "x=x+10000"
   ]
  },
  {
   "cell_type": "code",
   "execution_count": null,
   "metadata": {
    "scrolled": false
   },
   "outputs": [],
   "source": [
    "from sklearn.cluster import AgglomerativeClustering\n",
    "from sklearn.preprocessing import StandardScaler, normalize\n",
    "from sklearn.metrics import silhouette_score\n",
    "import scipy.cluster.hierarchy as shc\n",
    "from scipy.cluster.hierarchy import dendrogram, linkage\n",
    "hierarchical_cluster = AgglomerativeClustering(n_clusters=None, distance_threshold=x, affinity='manhattan', linkage='average')\n",
    "labels = hierarchical_cluster.fit_predict(c)\n",
    "plot()\n"
   ]
  },
  {
   "cell_type": "code",
   "execution_count": null,
   "metadata": {
    "scrolled": false
   },
   "outputs": [],
   "source": [
    "plott()\n",
    "print(x)\n",
    "x=x+10000"
   ]
  },
  {
   "cell_type": "code",
   "execution_count": null,
   "metadata": {
    "scrolled": false
   },
   "outputs": [],
   "source": [
    "from sklearn.cluster import AgglomerativeClustering\n",
    "from sklearn.preprocessing import StandardScaler, normalize\n",
    "from sklearn.metrics import silhouette_score\n",
    "import scipy.cluster.hierarchy as shc\n",
    "from scipy.cluster.hierarchy import dendrogram, linkage\n",
    "hierarchical_cluster = AgglomerativeClustering(n_clusters=None, distance_threshold=x, affinity='manhattan', linkage='average')\n",
    "labels = hierarchical_cluster.fit_predict(c)\n",
    "plot()\n"
   ]
  },
  {
   "cell_type": "code",
   "execution_count": null,
   "metadata": {
    "scrolled": false
   },
   "outputs": [],
   "source": [
    "plott()\n",
    "print(x)\n",
    "x=x+10000"
   ]
  },
  {
   "cell_type": "code",
   "execution_count": null,
   "metadata": {
    "scrolled": false
   },
   "outputs": [],
   "source": [
    "from sklearn.cluster import AgglomerativeClustering\n",
    "from sklearn.preprocessing import StandardScaler, normalize\n",
    "from sklearn.metrics import silhouette_score\n",
    "import scipy.cluster.hierarchy as shc\n",
    "from scipy.cluster.hierarchy import dendrogram, linkage\n",
    "hierarchical_cluster = AgglomerativeClustering(n_clusters=None, distance_threshold=x, affinity='manhattan', linkage='average')\n",
    "labels = hierarchical_cluster.fit_predict(c)\n",
    "plot()\n"
   ]
  },
  {
   "cell_type": "code",
   "execution_count": null,
   "metadata": {
    "scrolled": false
   },
   "outputs": [],
   "source": [
    "plott()\n",
    "print(x)\n",
    "x=x+10000"
   ]
  },
  {
   "cell_type": "code",
   "execution_count": null,
   "metadata": {
    "scrolled": false
   },
   "outputs": [],
   "source": [
    "from sklearn.cluster import AgglomerativeClustering\n",
    "from sklearn.preprocessing import StandardScaler, normalize\n",
    "from sklearn.metrics import silhouette_score\n",
    "import scipy.cluster.hierarchy as shc\n",
    "from scipy.cluster.hierarchy import dendrogram, linkage\n",
    "hierarchical_cluster = AgglomerativeClustering(n_clusters=None, distance_threshold=x, affinity='manhattan', linkage='average')\n",
    "labels = hierarchical_cluster.fit_predict(c)\n",
    "plot()\n"
   ]
  },
  {
   "cell_type": "code",
   "execution_count": null,
   "metadata": {
    "scrolled": false
   },
   "outputs": [],
   "source": [
    "plott()\n",
    "print(x)\n",
    "x=x+10000"
   ]
  },
  {
   "cell_type": "code",
   "execution_count": null,
   "metadata": {
    "scrolled": false
   },
   "outputs": [],
   "source": [
    "from sklearn.cluster import AgglomerativeClustering\n",
    "from sklearn.preprocessing import StandardScaler, normalize\n",
    "from sklearn.metrics import silhouette_score\n",
    "import scipy.cluster.hierarchy as shc\n",
    "from scipy.cluster.hierarchy import dendrogram, linkage\n",
    "hierarchical_cluster = AgglomerativeClustering(n_clusters=None, distance_threshold=x, affinity='manhattan', linkage='average')\n",
    "labels = hierarchical_cluster.fit_predict(c)\n",
    "plot()\n"
   ]
  },
  {
   "cell_type": "code",
   "execution_count": null,
   "metadata": {
    "scrolled": false
   },
   "outputs": [],
   "source": [
    "plott()\n",
    "print(x)\n",
    "x=x+10000"
   ]
  },
  {
   "cell_type": "code",
   "execution_count": null,
   "metadata": {
    "scrolled": false
   },
   "outputs": [],
   "source": [
    "from sklearn.cluster import AgglomerativeClustering\n",
    "from sklearn.preprocessing import StandardScaler, normalize\n",
    "from sklearn.metrics import silhouette_score\n",
    "import scipy.cluster.hierarchy as shc\n",
    "from scipy.cluster.hierarchy import dendrogram, linkage\n",
    "hierarchical_cluster = AgglomerativeClustering(n_clusters=None, distance_threshold=x, affinity='manhattan', linkage='average')\n",
    "labels = hierarchical_cluster.fit_predict(c)\n",
    "plot()\n"
   ]
  },
  {
   "cell_type": "code",
   "execution_count": null,
   "metadata": {
    "scrolled": false
   },
   "outputs": [],
   "source": [
    "plott()\n",
    "print(x)\n",
    "x=x+10000"
   ]
  },
  {
   "cell_type": "code",
   "execution_count": null,
   "metadata": {
    "scrolled": false
   },
   "outputs": [],
   "source": [
    "from sklearn.cluster import AgglomerativeClustering\n",
    "from sklearn.preprocessing import StandardScaler, normalize\n",
    "from sklearn.metrics import silhouette_score\n",
    "import scipy.cluster.hierarchy as shc\n",
    "from scipy.cluster.hierarchy import dendrogram, linkage\n",
    "hierarchical_cluster = AgglomerativeClustering(n_clusters=None, distance_threshold=x, affinity='manhattan', linkage='average')\n",
    "labels = hierarchical_cluster.fit_predict(c)\n",
    "plot()\n"
   ]
  },
  {
   "cell_type": "code",
   "execution_count": null,
   "metadata": {
    "scrolled": false
   },
   "outputs": [],
   "source": [
    "plott()\n",
    "print(x)\n",
    "x=x+10000"
   ]
  },
  {
   "cell_type": "code",
   "execution_count": null,
   "metadata": {},
   "outputs": [],
   "source": [
    "silhouette_scores = []\n",
    "s = []\n",
    "x=40000\n",
    "for m in range(9):\n",
    "    s.append(x)\n",
    "    hierarchical_cluster = AgglomerativeClustering(n_clusters=None, distance_threshold=x, affinity='manhattan', linkage='average')\n",
    "    silhouette_scores.append(silhouette_score(c, hierarchical_cluster.fit_predict(c)))\n",
    "    x=x+10000\n",
    "plt.plot(s, silhouette_scores, marker='o')"
   ]
  },
  {
   "cell_type": "code",
   "execution_count": null,
   "metadata": {},
   "outputs": [],
   "source": [
    "#hierarchical_cluster\n",
    "#Multi_blob_Data\n",
    "linkage_data = linkage(c, method='average', metric='cosine')\n",
    "dendrogram(linkage_data)\n",
    "plt.show()"
   ]
  },
  {
   "cell_type": "code",
   "execution_count": null,
   "metadata": {},
   "outputs": [],
   "source": [
    "x=0.1e-7\n",
    "hierarchical_cluster = AgglomerativeClustering(n_clusters=None, distance_threshold=x, affinity='cosine', linkage='average')\n",
    "labels = hierarchical_cluster.fit_predict(c)\n",
    "plot()"
   ]
  },
  {
   "cell_type": "code",
   "execution_count": null,
   "metadata": {},
   "outputs": [],
   "source": [
    "plott()\n",
    "x=x+0.05e-7"
   ]
  },
  {
   "cell_type": "code",
   "execution_count": null,
   "metadata": {},
   "outputs": [],
   "source": [
    "\n",
    "hierarchical_cluster = AgglomerativeClustering(n_clusters=None, distance_threshold=x, affinity='cosine', linkage='average')\n",
    "labels = hierarchical_cluster.fit_predict(c)\n",
    "plot()"
   ]
  },
  {
   "cell_type": "code",
   "execution_count": null,
   "metadata": {},
   "outputs": [],
   "source": [
    "plott()\n",
    "x=x+0.05e-7"
   ]
  },
  {
   "cell_type": "code",
   "execution_count": null,
   "metadata": {},
   "outputs": [],
   "source": [
    "hierarchical_cluster = AgglomerativeClustering(n_clusters=None, distance_threshold=x, affinity='cosine', linkage='average')\n",
    "labels = hierarchical_cluster.fit_predict(c)\n",
    "plot()"
   ]
  },
  {
   "cell_type": "code",
   "execution_count": null,
   "metadata": {},
   "outputs": [],
   "source": [
    "plott()\n",
    "x=x+0.05e-7"
   ]
  },
  {
   "cell_type": "code",
   "execution_count": null,
   "metadata": {},
   "outputs": [],
   "source": [
    "hierarchical_cluster = AgglomerativeClustering(n_clusters=None, distance_threshold=x, affinity='cosine', linkage='average')\n",
    "labels = hierarchical_cluster.fit_predict(c)\n",
    "plot()"
   ]
  },
  {
   "cell_type": "code",
   "execution_count": null,
   "metadata": {},
   "outputs": [],
   "source": [
    "plott()\n",
    "x=x+0.05e-7"
   ]
  },
  {
   "cell_type": "code",
   "execution_count": null,
   "metadata": {},
   "outputs": [],
   "source": [
    "hierarchical_cluster = AgglomerativeClustering(n_clusters=None, distance_threshold=x, affinity='cosine', linkage='average')\n",
    "labels = hierarchical_cluster.fit_predict(c)\n",
    "plot()"
   ]
  },
  {
   "cell_type": "code",
   "execution_count": null,
   "metadata": {},
   "outputs": [],
   "source": [
    "plott()\n",
    "x=x+0.05e-7"
   ]
  },
  {
   "cell_type": "code",
   "execution_count": null,
   "metadata": {},
   "outputs": [],
   "source": [
    "hierarchical_cluster = AgglomerativeClustering(n_clusters=None, distance_threshold=x, affinity='cosine', linkage='average')\n",
    "labels = hierarchical_cluster.fit_predict(c)\n",
    "plot()"
   ]
  },
  {
   "cell_type": "code",
   "execution_count": null,
   "metadata": {},
   "outputs": [],
   "source": [
    "plott()\n",
    "x=x+0.05e-7"
   ]
  },
  {
   "cell_type": "code",
   "execution_count": null,
   "metadata": {},
   "outputs": [],
   "source": [
    "hierarchical_cluster = AgglomerativeClustering(n_clusters=None, distance_threshold=x, affinity='cosine', linkage='average')\n",
    "labels = hierarchical_cluster.fit_predict(c)\n",
    "plot()"
   ]
  },
  {
   "cell_type": "code",
   "execution_count": null,
   "metadata": {},
   "outputs": [],
   "source": [
    "plott()\n",
    "x=x+0.05e-7"
   ]
  },
  {
   "cell_type": "code",
   "execution_count": null,
   "metadata": {},
   "outputs": [],
   "source": [
    "hierarchical_cluster = AgglomerativeClustering(n_clusters=None, distance_threshold=x, affinity='cosine', linkage='average')\n",
    "labels = hierarchical_cluster.fit_predict(c)\n",
    "plot()"
   ]
  },
  {
   "cell_type": "code",
   "execution_count": null,
   "metadata": {},
   "outputs": [],
   "source": [
    "plott()\n",
    "x=x+0.05e-7"
   ]
  },
  {
   "cell_type": "code",
   "execution_count": null,
   "metadata": {},
   "outputs": [],
   "source": [
    "hierarchical_cluster = AgglomerativeClustering(n_clusters=None, distance_threshold=x, affinity='cosine', linkage='average')\n",
    "labels = hierarchical_cluster.fit_predict(c)\n",
    "plot()"
   ]
  },
  {
   "cell_type": "code",
   "execution_count": null,
   "metadata": {},
   "outputs": [],
   "source": [
    "plott()\n",
    "x=x+0.05e-7"
   ]
  },
  {
   "cell_type": "code",
   "execution_count": null,
   "metadata": {},
   "outputs": [],
   "source": [
    "silhouette_scores = []\n",
    "s = []\n",
    "x=0.1e-7\n",
    "for m in range(9):\n",
    "    s.append(x)\n",
    "    hierarchical_cluster = AgglomerativeClustering(n_clusters=None, distance_threshold=x, affinity='cosine', linkage='average')\n",
    "    silhouette_scores.append(silhouette_score(c, hierarchical_cluster.fit_predict(c)))\n",
    "    x=x+0.05e-7\n",
    "plt.plot(s, silhouette_scores, marker='o')"
   ]
  },
  {
   "cell_type": "code",
   "execution_count": null,
   "metadata": {},
   "outputs": [],
   "source": [
    "#hierarchical_cluster\n",
    "#Multi_blob_Data\n",
    "linkage_data = linkage(c, method='single', metric='euclidean')\n",
    "dendrogram(linkage_data)\n",
    "plt.show()"
   ]
  },
  {
   "cell_type": "code",
   "execution_count": null,
   "metadata": {},
   "outputs": [],
   "source": [
    "x=4000\n",
    "hierarchical_cluster = AgglomerativeClustering(n_clusters=None, distance_threshold=x, affinity='euclidean', linkage='single')\n",
    "labels = hierarchical_cluster.fit_predict(c)\n",
    "plot()"
   ]
  },
  {
   "cell_type": "code",
   "execution_count": null,
   "metadata": {},
   "outputs": [],
   "source": [
    "plott()\n",
    "x=x+1000"
   ]
  },
  {
   "cell_type": "code",
   "execution_count": null,
   "metadata": {},
   "outputs": [],
   "source": [
    "hierarchical_cluster = AgglomerativeClustering(n_clusters=None, distance_threshold=x, affinity='euclidean', linkage='single')\n",
    "labels = hierarchical_cluster.fit_predict(c)\n",
    "plot()"
   ]
  },
  {
   "cell_type": "code",
   "execution_count": null,
   "metadata": {},
   "outputs": [],
   "source": [
    "plott()\n",
    "x=x+1000"
   ]
  },
  {
   "cell_type": "code",
   "execution_count": null,
   "metadata": {},
   "outputs": [],
   "source": [
    "hierarchical_cluster = AgglomerativeClustering(n_clusters=None, distance_threshold=x, affinity='euclidean', linkage='single')\n",
    "labels = hierarchical_cluster.fit_predict(c)\n",
    "plot()"
   ]
  },
  {
   "cell_type": "code",
   "execution_count": null,
   "metadata": {},
   "outputs": [],
   "source": [
    "plott()\n",
    "x=x+1000"
   ]
  },
  {
   "cell_type": "code",
   "execution_count": null,
   "metadata": {},
   "outputs": [],
   "source": [
    "hierarchical_cluster = AgglomerativeClustering(n_clusters=None, distance_threshold=x, affinity='euclidean', linkage='single')\n",
    "labels = hierarchical_cluster.fit_predict(c)\n",
    "plot()"
   ]
  },
  {
   "cell_type": "code",
   "execution_count": null,
   "metadata": {},
   "outputs": [],
   "source": [
    "plott()\n",
    "x=x+1000"
   ]
  },
  {
   "cell_type": "code",
   "execution_count": null,
   "metadata": {},
   "outputs": [],
   "source": [
    "hierarchical_cluster = AgglomerativeClustering(n_clusters=None, distance_threshold=x, affinity='euclidean', linkage='single')\n",
    "labels = hierarchical_cluster.fit_predict(c)\n",
    "plot()"
   ]
  },
  {
   "cell_type": "code",
   "execution_count": null,
   "metadata": {},
   "outputs": [],
   "source": [
    "plott()\n",
    "x=x+1000"
   ]
  },
  {
   "cell_type": "code",
   "execution_count": null,
   "metadata": {},
   "outputs": [],
   "source": [
    "hierarchical_cluster = AgglomerativeClustering(n_clusters=None, distance_threshold=x, affinity='euclidean', linkage='single')\n",
    "labels = hierarchical_cluster.fit_predict(c)\n",
    "plot()"
   ]
  },
  {
   "cell_type": "code",
   "execution_count": null,
   "metadata": {},
   "outputs": [],
   "source": [
    "plott()\n",
    "x=x+1000"
   ]
  },
  {
   "cell_type": "code",
   "execution_count": null,
   "metadata": {},
   "outputs": [],
   "source": [
    "hierarchical_cluster = AgglomerativeClustering(n_clusters=None, distance_threshold=x, affinity='euclidean', linkage='single')\n",
    "labels = hierarchical_cluster.fit_predict(c)\n",
    "plot()"
   ]
  },
  {
   "cell_type": "code",
   "execution_count": null,
   "metadata": {},
   "outputs": [],
   "source": [
    "plott()\n",
    "x=x+1000"
   ]
  },
  {
   "cell_type": "code",
   "execution_count": null,
   "metadata": {},
   "outputs": [],
   "source": [
    "hierarchical_cluster = AgglomerativeClustering(n_clusters=None, distance_threshold=x, affinity='euclidean', linkage='single')\n",
    "labels = hierarchical_cluster.fit_predict(c)\n",
    "plot()"
   ]
  },
  {
   "cell_type": "code",
   "execution_count": null,
   "metadata": {},
   "outputs": [],
   "source": [
    "plott()\n",
    "x=x+1000"
   ]
  },
  {
   "cell_type": "code",
   "execution_count": null,
   "metadata": {},
   "outputs": [],
   "source": [
    "silhouette_scores = []\n",
    "s = []\n",
    "x=4000\n",
    "for m in range(9):\n",
    "    s.append(x)\n",
    "    hierarchical_cluster = AgglomerativeClustering(n_clusters=None, distance_threshold=x, affinity='euclidean', linkage='single')\n",
    "    silhouette_scores.append(silhouette_score(c, hierarchical_cluster.fit_predict(c)))\n",
    "    x=x+1000\n",
    "plt.plot(s, silhouette_scores, marker='o')"
   ]
  },
  {
   "cell_type": "code",
   "execution_count": null,
   "metadata": {},
   "outputs": [],
   "source": []
  },
  {
   "cell_type": "code",
   "execution_count": null,
   "metadata": {},
   "outputs": [],
   "source": [
    "#hierarchical_cluster\n",
    "#Multi_blob_Data\n",
    "linkage_data = linkage(c, method='single', metric='cityblock')\n",
    "dendrogram(linkage_data)\n",
    "plt.show()"
   ]
  },
  {
   "cell_type": "code",
   "execution_count": null,
   "metadata": {},
   "outputs": [],
   "source": [
    "x=4000\n",
    "hierarchical_cluster = AgglomerativeClustering(n_clusters=None, distance_threshold=x, affinity='manhattan', linkage='single')\n",
    "labels = hierarchical_cluster.fit_predict(c)\n",
    "plot()"
   ]
  },
  {
   "cell_type": "code",
   "execution_count": null,
   "metadata": {},
   "outputs": [],
   "source": [
    "hierarchical_cluster = AgglomerativeClustering(n_clusters=None, distance_threshold=x, affinity='manhattan', linkage='single')\n",
    "labels = hierarchical_cluster.fit_predict(c)\n",
    "plot()"
   ]
  },
  {
   "cell_type": "code",
   "execution_count": null,
   "metadata": {
    "scrolled": false
   },
   "outputs": [],
   "source": [
    "plott()\n",
    "x=x+1000"
   ]
  },
  {
   "cell_type": "code",
   "execution_count": null,
   "metadata": {},
   "outputs": [],
   "source": [
    "hierarchical_cluster = AgglomerativeClustering(n_clusters=None, distance_threshold=x, affinity='manhattan', linkage='single')\n",
    "labels = hierarchical_cluster.fit_predict(c)\n",
    "plot()"
   ]
  },
  {
   "cell_type": "code",
   "execution_count": null,
   "metadata": {
    "scrolled": false
   },
   "outputs": [],
   "source": [
    "plott()\n",
    "x=x+1000"
   ]
  },
  {
   "cell_type": "code",
   "execution_count": null,
   "metadata": {},
   "outputs": [],
   "source": [
    "hierarchical_cluster = AgglomerativeClustering(n_clusters=None, distance_threshold=x, affinity='manhattan', linkage='single')\n",
    "labels = hierarchical_cluster.fit_predict(c)\n",
    "plot()"
   ]
  },
  {
   "cell_type": "code",
   "execution_count": null,
   "metadata": {
    "scrolled": false
   },
   "outputs": [],
   "source": [
    "plott()\n",
    "x=x+1000"
   ]
  },
  {
   "cell_type": "code",
   "execution_count": null,
   "metadata": {},
   "outputs": [],
   "source": [
    "hierarchical_cluster = AgglomerativeClustering(n_clusters=None, distance_threshold=x, affinity='manhattan', linkage='single')\n",
    "labels = hierarchical_cluster.fit_predict(c)\n",
    "plot()"
   ]
  },
  {
   "cell_type": "code",
   "execution_count": null,
   "metadata": {
    "scrolled": false
   },
   "outputs": [],
   "source": [
    "plott()\n",
    "x=x+1000"
   ]
  },
  {
   "cell_type": "code",
   "execution_count": null,
   "metadata": {},
   "outputs": [],
   "source": [
    "hierarchical_cluster = AgglomerativeClustering(n_clusters=None, distance_threshold=x, affinity='manhattan', linkage='single')\n",
    "labels = hierarchical_cluster.fit_predict(c)\n",
    "plot()"
   ]
  },
  {
   "cell_type": "code",
   "execution_count": null,
   "metadata": {
    "scrolled": false
   },
   "outputs": [],
   "source": [
    "plott()\n",
    "x=x+1000"
   ]
  },
  {
   "cell_type": "code",
   "execution_count": null,
   "metadata": {},
   "outputs": [],
   "source": [
    "hierarchical_cluster = AgglomerativeClustering(n_clusters=None, distance_threshold=x, affinity='manhattan', linkage='single')\n",
    "labels = hierarchical_cluster.fit_predict(c)\n",
    "plot()"
   ]
  },
  {
   "cell_type": "code",
   "execution_count": null,
   "metadata": {
    "scrolled": false
   },
   "outputs": [],
   "source": [
    "plott()\n",
    "x=x+1000"
   ]
  },
  {
   "cell_type": "code",
   "execution_count": null,
   "metadata": {},
   "outputs": [],
   "source": [
    "silhouette_scores = []\n",
    "s = []\n",
    "x=4000\n",
    "for m in range(9):\n",
    "    s.append(x)\n",
    "    hierarchical_cluster = AgglomerativeClustering(n_clusters=None, distance_threshold=x, affinity='manhattan', linkage='single')\n",
    "    silhouette_scores.append(silhouette_score(c, hierarchical_cluster.fit_predict(c)))\n",
    "    x=x+1000\n",
    "plt.plot(s, silhouette_scores, marker='o')"
   ]
  },
  {
   "cell_type": "code",
   "execution_count": null,
   "metadata": {},
   "outputs": [],
   "source": [
    "#hierarchical_cluster\n",
    "#Multi_blob_Data\n",
    "linkage_data = linkage(c, method='single', metric='cosine')\n",
    "dendrogram(linkage_data)\n",
    "plt.show()"
   ]
  },
  {
   "cell_type": "code",
   "execution_count": null,
   "metadata": {},
   "outputs": [],
   "source": [
    "x=0.45e-9\n",
    "hierarchical_cluster = AgglomerativeClustering(n_clusters=None, distance_threshold=x, affinity='cosine', linkage='single')\n",
    "labels = hierarchical_cluster.fit_predict(c)\n",
    "plot()"
   ]
  },
  {
   "cell_type": "code",
   "execution_count": null,
   "metadata": {},
   "outputs": [],
   "source": [
    "plott()\n",
    "x=x+0.05e-9"
   ]
  },
  {
   "cell_type": "code",
   "execution_count": null,
   "metadata": {},
   "outputs": [],
   "source": [
    "hierarchical_cluster = AgglomerativeClustering(n_clusters=None, distance_threshold=x, affinity='cosine', linkage='single')\n",
    "labels = hierarchical_cluster.fit_predict(c)\n",
    "plot()\n"
   ]
  },
  {
   "cell_type": "code",
   "execution_count": null,
   "metadata": {},
   "outputs": [],
   "source": [
    "plott()\n",
    "x=x+0.05e-9"
   ]
  },
  {
   "cell_type": "code",
   "execution_count": null,
   "metadata": {},
   "outputs": [],
   "source": [
    "hierarchical_cluster = AgglomerativeClustering(n_clusters=None, distance_threshold=x, affinity='cosine', linkage='single')\n",
    "labels = hierarchical_cluster.fit_predict(c)\n",
    "plot()\n"
   ]
  },
  {
   "cell_type": "code",
   "execution_count": null,
   "metadata": {},
   "outputs": [],
   "source": [
    "plott()\n",
    "x=x+0.05e-9"
   ]
  },
  {
   "cell_type": "code",
   "execution_count": null,
   "metadata": {},
   "outputs": [],
   "source": [
    "hierarchical_cluster = AgglomerativeClustering(n_clusters=None, distance_threshold=x, affinity='cosine', linkage='single')\n",
    "labels = hierarchical_cluster.fit_predict(c)\n",
    "plot()\n"
   ]
  },
  {
   "cell_type": "code",
   "execution_count": null,
   "metadata": {},
   "outputs": [],
   "source": [
    "plott()\n",
    "x=x+0.05e-9"
   ]
  },
  {
   "cell_type": "code",
   "execution_count": null,
   "metadata": {},
   "outputs": [],
   "source": [
    "hierarchical_cluster = AgglomerativeClustering(n_clusters=None, distance_threshold=x, affinity='cosine', linkage='single')\n",
    "labels = hierarchical_cluster.fit_predict(c)\n",
    "plot()\n"
   ]
  },
  {
   "cell_type": "code",
   "execution_count": null,
   "metadata": {},
   "outputs": [],
   "source": [
    "plott()\n",
    "x=x+0.05e-9"
   ]
  },
  {
   "cell_type": "code",
   "execution_count": null,
   "metadata": {},
   "outputs": [],
   "source": [
    "hierarchical_cluster = AgglomerativeClustering(n_clusters=None, distance_threshold=x, affinity='cosine', linkage='single')\n",
    "labels = hierarchical_cluster.fit_predict(c)\n",
    "plot()\n"
   ]
  },
  {
   "cell_type": "code",
   "execution_count": null,
   "metadata": {},
   "outputs": [],
   "source": [
    "plott()\n",
    "x=x+0.05e-9"
   ]
  },
  {
   "cell_type": "code",
   "execution_count": null,
   "metadata": {},
   "outputs": [],
   "source": [
    "hierarchical_cluster = AgglomerativeClustering(n_clusters=None, distance_threshold=x, affinity='cosine', linkage='single')\n",
    "labels = hierarchical_cluster.fit_predict(c)\n",
    "plot()\n"
   ]
  },
  {
   "cell_type": "code",
   "execution_count": null,
   "metadata": {},
   "outputs": [],
   "source": [
    "plott()\n",
    "x=x+0.05e-9"
   ]
  },
  {
   "cell_type": "code",
   "execution_count": null,
   "metadata": {},
   "outputs": [],
   "source": [
    "silhouette_scores = []\n",
    "s = []\n",
    "x=0.45e-9\n",
    "for m in range(15):\n",
    "    s.append(x)\n",
    "    hierarchical_cluster = AgglomerativeClustering(n_clusters=None, distance_threshold=x, affinity='cosine', linkage='single')\n",
    "    silhouette_scores.append(silhouette_score(c, hierarchical_cluster.fit_predict(c)))\n",
    "    x=x+0.05e-9\n",
    "plt.plot(s, silhouette_scores, marker='o')"
   ]
  },
  {
   "cell_type": "code",
   "execution_count": null,
   "metadata": {},
   "outputs": [],
   "source": [
    "def plot():\n",
    "    x=1\n",
    "    for j in range (0,4): \n",
    "        #print(j)\n",
    "        for b in range(j,7):\n",
    "            \n",
    "            if b!=j: \n",
    "                plt.tight_layout() \n",
    "                plt.subplot(5,5,x)\n",
    "                display_clusterr(c[:,[b,j]],db_default,7) \n",
    "                x=x+1 \n",
    "                if b==0: \n",
    "                    plt.xlabel('Sex')\n",
    "                elif b==1: \n",
    "                    plt.xlabel('Marital status')\n",
    "                elif b==2: \n",
    "                    plt.xlabel('Age')\n",
    "                elif b==3: \n",
    "                    plt.xlabel('Education')\n",
    "                elif b==4: \n",
    "                    plt.xlabel('Income')\n",
    "                elif b==5: \n",
    "                    plt.xlabel('Occupation')\n",
    "                elif b==6: \n",
    "                    plt.xlabel('Settlement size')\n",
    "                if j==0: \n",
    "                    plt.xlabel('Sex')\n",
    "                elif j==1: \n",
    "                    plt.ylabel('Marital status')\n",
    "                elif j==2: \n",
    "                    plt.ylabel('Age')\n",
    "                elif j==3: \n",
    "                    plt.ylabel('Education')\n",
    "                elif j==4: \n",
    "                    plt.ylabel('Income')\n",
    "                elif j==5: \n",
    "                    plt.ylabel('Occupation')\n",
    "                elif j==6: \n",
    "                    plt.ylabel('Settlement size')"
   ]
  },
  {
   "cell_type": "code",
   "execution_count": null,
   "metadata": {},
   "outputs": [],
   "source": [
    "def plott():\n",
    "    x=1\n",
    "    for j in range (4,7): \n",
    "    \n",
    "        for b in range(j+1,7):\n",
    "            #print(b)\n",
    "            if b!=j: \n",
    "                plt.tight_layout() \n",
    "                plt.subplot(2,2,x)\n",
    "                display_clusterr(c[:,[b,j]],db_default,7) \n",
    "                x=x+1 \n",
    "                if b==0: \n",
    "                    plt.xlabel('Sepal Length')\n",
    "                elif b==1: \n",
    "                    plt.xlabel('Sepal Width')\n",
    "                elif b==2: \n",
    "                    plt.xlabel('Petal Length')\n",
    "                elif b==3: \n",
    "                    plt.xlabel('Petal Width')\n",
    "                elif b==4: \n",
    "                    plt.xlabel('Income')\n",
    "                elif b==5: \n",
    "                    plt.xlabel('Occupation')\n",
    "                elif b==6: \n",
    "                    plt.xlabel('Settlement size')\n",
    "                if j==0: \n",
    "                    plt.xlabel('Sex')\n",
    "                elif j==1: \n",
    "                    plt.ylabel('Marital status')\n",
    "                elif j==2: \n",
    "                    plt.ylabel('Age')\n",
    "                elif j==3: \n",
    "                    plt.ylabel('Education')\n",
    "                elif j==4: \n",
    "                    plt.ylabel('Income')\n",
    "                elif j==5: \n",
    "                    plt.ylabel('Occupation')\n",
    "                elif j==6: \n",
    "                    plt.ylabel('Settlement size')"
   ]
  },
  {
   "cell_type": "code",
   "execution_count": null,
   "metadata": {},
   "outputs": [],
   "source": [
    "silhouette_scores = []\n",
    "s = []\n",
    "e=1000\n",
    "n=5\n",
    "for m in range(9):\n",
    "    n=5\n",
    "    for i in range(19):\n",
    "        s.append(e)\n",
    "        db_default = DBSCAN(eps = e, min_samples = n).fit(c)\n",
    "        silhouette_scores.append(silhouette_score(c, db_default.fit_predict(c)))\n",
    "        n=n+3\n",
    "    e=e+500\n",
    "print(e)\n",
    "plt.plot(s,silhouette_scores, marker='o')"
   ]
  },
  {
   "cell_type": "code",
   "execution_count": null,
   "metadata": {},
   "outputs": [],
   "source": [
    "silhouette_scores = []\n",
    "s = []\n",
    "e=2500\n",
    "n=5\n",
    "for i in range(19):\n",
    "    s.append(n)\n",
    "    db_default = DBSCAN(eps = e, min_samples = n).fit(c)\n",
    "    silhouette_scores.append(silhouette_score(c, db_default.fit_predict(c)))\n",
    "    n=n+3\n",
    "e=e+500\n",
    "print(e)\n",
    "plt.plot(s,silhouette_scores, marker='o')"
   ]
  },
  {
   "cell_type": "code",
   "execution_count": null,
   "metadata": {},
   "outputs": [],
   "source": [
    "e=2500\n",
    "n=5\n",
    "db_default = DBSCAN(eps = e, min_samples = n).fit(c)\n",
    "labels = db_default.labels_\n",
    "plot()"
   ]
  },
  {
   "cell_type": "code",
   "execution_count": null,
   "metadata": {},
   "outputs": [],
   "source": [
    "\n",
    "plott()\n",
    "print(e)"
   ]
  },
  {
   "cell_type": "code",
   "execution_count": null,
   "metadata": {},
   "outputs": [],
   "source": []
  },
  {
   "cell_type": "code",
   "execution_count": null,
   "metadata": {},
   "outputs": [],
   "source": []
  },
  {
   "cell_type": "code",
   "execution_count": null,
   "metadata": {},
   "outputs": [],
   "source": [
    "def plot():\n",
    "    x=1\n",
    "    for j in range (0,4): \n",
    "        #print(j)\n",
    "        for b in range(j,7):\n",
    "            \n",
    "            if b!=j: \n",
    "                plt.tight_layout() \n",
    "                plt.subplot(5,5,x)\n",
    "                display_clusterG(c[:,[b,j]],gmm,num_clusters=6,hs=labels) \n",
    "                x=x+1 \n",
    "                if b==0: \n",
    "                    plt.xlabel('Sex')\n",
    "                elif b==1: \n",
    "                    plt.xlabel('Marital status')\n",
    "                elif b==2: \n",
    "                    plt.xlabel('Age')\n",
    "                elif b==3: \n",
    "                    plt.xlabel('Education')\n",
    "                elif b==4: \n",
    "                    plt.xlabel('Income')\n",
    "                elif b==5: \n",
    "                    plt.xlabel('Occupation')\n",
    "                elif b==6: \n",
    "                    plt.xlabel('Settlement size')\n",
    "                if j==0: \n",
    "                    plt.xlabel('Sex')\n",
    "                elif j==1: \n",
    "                    plt.ylabel('Marital status')\n",
    "                elif j==2: \n",
    "                    plt.ylabel('Age')\n",
    "                elif j==3: \n",
    "                    plt.ylabel('Education')\n",
    "                elif j==4: \n",
    "                    plt.ylabel('Income')\n",
    "                elif j==5: \n",
    "                    plt.ylabel('Occupation')\n",
    "                elif j==6: \n",
    "                    plt.ylabel('Settlement size')"
   ]
  },
  {
   "cell_type": "code",
   "execution_count": null,
   "metadata": {},
   "outputs": [],
   "source": [
    "def plott():\n",
    "    x=1\n",
    "    for j in range (4,7): \n",
    "    \n",
    "        for b in range(j+1,7):\n",
    "            #print(b)\n",
    "            if b!=j: \n",
    "                plt.tight_layout() \n",
    "                plt.subplot(2,2,x)\n",
    "                display_clusterG(c[:,[b,j]],gmm,num_clusters=6,hs=labels) \n",
    "                x=x+1 \n",
    "                if b==0: \n",
    "                    plt.xlabel('Sepal Length')\n",
    "                elif b==1: \n",
    "                    plt.xlabel('Sepal Width')\n",
    "                elif b==2: \n",
    "                    plt.xlabel('Petal Length')\n",
    "                elif b==3: \n",
    "                    plt.xlabel('Petal Width')\n",
    "                elif b==4: \n",
    "                    plt.xlabel('Income')\n",
    "                elif b==5: \n",
    "                    plt.xlabel('Occupation')\n",
    "                elif b==6: \n",
    "                    plt.xlabel('Settlement size')\n",
    "                if j==0: \n",
    "                    plt.xlabel('Sex')\n",
    "                elif j==1: \n",
    "                    plt.ylabel('Marital status')\n",
    "                elif j==2: \n",
    "                    plt.ylabel('Age')\n",
    "                elif j==3: \n",
    "                    plt.ylabel('Education')\n",
    "                elif j==4: \n",
    "                    plt.ylabel('Income')\n",
    "                elif j==5: \n",
    "                    plt.ylabel('Occupation')\n",
    "                elif j==6: \n",
    "                    plt.ylabel('Settlement size')"
   ]
  },
  {
   "cell_type": "code",
   "execution_count": null,
   "metadata": {},
   "outputs": [],
   "source": [
    "j=1\n",
    "gmm = GaussianMixture(n_components=j)\n",
    "gmm.fit(c)\n",
    "\n",
    "labels = gmm.predict(c)\n",
    "plot()"
   ]
  },
  {
   "cell_type": "code",
   "execution_count": null,
   "metadata": {},
   "outputs": [],
   "source": [
    "plott()\n",
    "print(j)\n",
    "j=j+1"
   ]
  },
  {
   "cell_type": "code",
   "execution_count": null,
   "metadata": {},
   "outputs": [],
   "source": [
    "gmm = GaussianMixture(n_components=j)\n",
    "gmm.fit(c)\n",
    "\n",
    "labels = gmm.predict(c)\n",
    "plot()"
   ]
  },
  {
   "cell_type": "code",
   "execution_count": null,
   "metadata": {},
   "outputs": [],
   "source": [
    "plott()\n",
    "print(j)\n",
    "j=j+1"
   ]
  },
  {
   "cell_type": "code",
   "execution_count": null,
   "metadata": {},
   "outputs": [],
   "source": [
    "gmm = GaussianMixture(n_components=j)\n",
    "gmm.fit(c)\n",
    "\n",
    "labels = gmm.predict(c)\n",
    "plot()"
   ]
  },
  {
   "cell_type": "code",
   "execution_count": null,
   "metadata": {},
   "outputs": [],
   "source": [
    "plott()\n",
    "print(j)\n",
    "j=j+1"
   ]
  },
  {
   "cell_type": "code",
   "execution_count": null,
   "metadata": {},
   "outputs": [],
   "source": [
    "gmm = GaussianMixture(n_components=j)\n",
    "gmm.fit(c)\n",
    "\n",
    "labels = gmm.predict(c)\n",
    "plot()"
   ]
  },
  {
   "cell_type": "code",
   "execution_count": null,
   "metadata": {},
   "outputs": [],
   "source": [
    "plott()\n",
    "print(j)\n",
    "j=j+1"
   ]
  },
  {
   "cell_type": "code",
   "execution_count": null,
   "metadata": {},
   "outputs": [],
   "source": [
    "gmm = GaussianMixture(n_components=j)\n",
    "gmm.fit(c)\n",
    "\n",
    "labels = gmm.predict(c)\n",
    "plot()"
   ]
  },
  {
   "cell_type": "code",
   "execution_count": null,
   "metadata": {},
   "outputs": [],
   "source": [
    "plott()\n",
    "print(j)\n",
    "j=j+1"
   ]
  },
  {
   "cell_type": "code",
   "execution_count": null,
   "metadata": {},
   "outputs": [],
   "source": [
    "gmm = GaussianMixture(n_components=j)\n",
    "gmm.fit(c)\n",
    "\n",
    "labels = gmm.predict(c)\n",
    "plot()"
   ]
  },
  {
   "cell_type": "code",
   "execution_count": null,
   "metadata": {},
   "outputs": [],
   "source": [
    "plott()\n",
    "print(j)\n",
    "j=j+1"
   ]
  },
  {
   "cell_type": "code",
   "execution_count": null,
   "metadata": {},
   "outputs": [],
   "source": [
    "gmm = GaussianMixture(n_components=j)\n",
    "gmm.fit(c)\n",
    "\n",
    "labels = gmm.predict(c)\n",
    "plot()"
   ]
  },
  {
   "cell_type": "code",
   "execution_count": null,
   "metadata": {},
   "outputs": [],
   "source": [
    "plott()\n",
    "print(j)\n",
    "j=j+1"
   ]
  },
  {
   "cell_type": "code",
   "execution_count": null,
   "metadata": {},
   "outputs": [],
   "source": [
    "gmm = GaussianMixture(n_components=j)\n",
    "gmm.fit(c)\n",
    "\n",
    "labels = gmm.predict(c)\n",
    "plot()"
   ]
  },
  {
   "cell_type": "code",
   "execution_count": null,
   "metadata": {},
   "outputs": [],
   "source": [
    "plott()\n",
    "print(j)\n",
    "j=j+1"
   ]
  },
  {
   "cell_type": "code",
   "execution_count": null,
   "metadata": {},
   "outputs": [],
   "source": [
    "gmm = GaussianMixture(n_components=j)\n",
    "gmm.fit(c)\n",
    "\n",
    "labels = gmm.predict(c)\n",
    "plot()"
   ]
  },
  {
   "cell_type": "code",
   "execution_count": null,
   "metadata": {},
   "outputs": [],
   "source": [
    "plott()\n",
    "print(j)\n",
    "j=j+1"
   ]
  },
  {
   "cell_type": "code",
   "execution_count": null,
   "metadata": {},
   "outputs": [],
   "source": [
    "cov_types = ['full', 'tied', 'diag', 'spherical']\n",
    "k=0"
   ]
  },
  {
   "cell_type": "code",
   "execution_count": null,
   "metadata": {},
   "outputs": [],
   "source": [
    "gmm = GaussianMixture(n_components=6, covariance_type= cov_types[k])\n"
   ]
  },
  {
   "cell_type": "code",
   "execution_count": null,
   "metadata": {},
   "outputs": [],
   "source": [
    "gmm.fit(c)\n",
    "print(cov_types[k])\n",
    "labels = gmm.predict(c)\n",
    "plot()"
   ]
  },
  {
   "cell_type": "code",
   "execution_count": null,
   "metadata": {},
   "outputs": [],
   "source": [
    "plott()\n",
    "k=k+1"
   ]
  },
  {
   "cell_type": "code",
   "execution_count": null,
   "metadata": {},
   "outputs": [],
   "source": [
    "gmm.fit(c)\n",
    "print(cov_types[k])\n",
    "labels = gmm.predict(c)\n",
    "plot()"
   ]
  },
  {
   "cell_type": "code",
   "execution_count": null,
   "metadata": {},
   "outputs": [],
   "source": [
    "plott()\n",
    "k=k+1"
   ]
  },
  {
   "cell_type": "code",
   "execution_count": null,
   "metadata": {},
   "outputs": [],
   "source": [
    "gmm.fit(c)\n",
    "print(cov_types[k])\n",
    "labels = gmm.predict(c)\n",
    "plot()"
   ]
  },
  {
   "cell_type": "code",
   "execution_count": null,
   "metadata": {},
   "outputs": [],
   "source": [
    "plott()\n",
    "k=k+1"
   ]
  },
  {
   "cell_type": "code",
   "execution_count": null,
   "metadata": {},
   "outputs": [],
   "source": [
    "gmm.fit(c)\n",
    "print(cov_types[k])\n",
    "labels = gmm.predict(c)\n",
    "plot()"
   ]
  },
  {
   "cell_type": "code",
   "execution_count": null,
   "metadata": {},
   "outputs": [],
   "source": [
    "plott()\n",
    "k=k+1"
   ]
  },
  {
   "cell_type": "code",
   "execution_count": null,
   "metadata": {},
   "outputs": [],
   "source": [
    "c=preprocessing.normalize(c,axis=0)\n",
    "pca = PCA(n_components=3)\n",
    "c = pca.fit_transform(c)"
   ]
  },
  {
   "cell_type": "code",
   "execution_count": null,
   "metadata": {},
   "outputs": [],
   "source": []
  },
  {
   "cell_type": "code",
   "execution_count": null,
   "metadata": {},
   "outputs": [],
   "source": [
    "score = []\n",
    "for i in range(40,50):\n",
    "    kmeans = KMeans(n_clusters=i)\n",
    "    kmeans.fit(c)\n",
    "    score.append(silhouette_score(c, kmeans.labels_, metric='euclidean'))\n",
    "plt.plot(range(40,50), score, marker='o')\n",
    "#K=6"
   ]
  },
  {
   "cell_type": "code",
   "execution_count": null,
   "metadata": {},
   "outputs": [],
   "source": [
    "i=43\n",
    "from mpl_toolkits import mplot3d\n",
    "from mpl_toolkits.mplot3d import Axes3D\n",
    "ax  = plt.axes(projection =\"3d\")\n",
    "kmeans = KMeans(n_clusters=i)\n",
    "kmeans.fit(c)\n",
    "labels = kmeans.labels_\n",
    "ax.scatter3D(c[:,0], c[:,1], c[:,2],c = labels, cmap ='rainbow')\n",
    "print(\"k= \"+str(i))\n"
   ]
  },
  {
   "cell_type": "code",
   "execution_count": null,
   "metadata": {},
   "outputs": [],
   "source": [
    "linkage_data = linkage(c, method='average', metric='euclidean')\n",
    "dendrogram(linkage_data)\n",
    "plt.show()"
   ]
  },
  {
   "cell_type": "code",
   "execution_count": null,
   "metadata": {},
   "outputs": [],
   "source": []
  },
  {
   "cell_type": "code",
   "execution_count": null,
   "metadata": {},
   "outputs": [],
   "source": [
    "silhouette_scores = []\n",
    "s = []\n",
    "x=0.005\n",
    "for m in range(20):\n",
    "    s.append(x)\n",
    "    hierarchical_cluster = AgglomerativeClustering(n_clusters=None, distance_threshold=x, affinity='euclidean', linkage='average')\n",
    "    silhouette_scores.append(silhouette_score(c, hierarchical_cluster.fit_predict(c)))\n",
    "    x=x+0.001\n",
    "plt.plot(s, silhouette_scores, marker='o')"
   ]
  },
  {
   "cell_type": "code",
   "execution_count": null,
   "metadata": {},
   "outputs": [],
   "source": [
    "hierarchical_cluster = AgglomerativeClustering(n_clusters=None, distance_threshold=0.01, affinity='euclidean', linkage='average')\n",
    "labels = hierarchical_cluster.fit_predict(c)\n",
    "ax  = plt.axes(projection =\"3d\")\n",
    "ax.scatter3D(c[:,0], c[:,1], c[:,2],c = labels, cmap ='rainbow')\n"
   ]
  },
  {
   "cell_type": "code",
   "execution_count": null,
   "metadata": {},
   "outputs": [],
   "source": [
    "linkage_data = linkage(c, method='average', metric='cityblock')\n",
    "dendrogram(linkage_data)\n",
    "plt.show()"
   ]
  },
  {
   "cell_type": "code",
   "execution_count": null,
   "metadata": {},
   "outputs": [],
   "source": []
  },
  {
   "cell_type": "code",
   "execution_count": null,
   "metadata": {},
   "outputs": [],
   "source": [
    "silhouette_scores = []\n",
    "s = []\n",
    "x=0.005\n",
    "for m in range(100):\n",
    "    s.append(x)\n",
    "    hierarchical_cluster = AgglomerativeClustering(n_clusters=None, distance_threshold=x, affinity='manhattan', linkage='average')\n",
    "    silhouette_scores.append(silhouette_score(c, hierarchical_cluster.fit_predict(c)))\n",
    "    x=x+0.001\n",
    "plt.plot(s, silhouette_scores, marker='o')"
   ]
  },
  {
   "cell_type": "code",
   "execution_count": null,
   "metadata": {},
   "outputs": [],
   "source": [
    "hierarchical_cluster = AgglomerativeClustering(n_clusters=None, distance_threshold=0.01, affinity='euclidean', linkage='average')\n",
    "labels = hierarchical_cluster.fit_predict(c)\n",
    "ax  = plt.axes(projection =\"3d\")\n",
    "ax.scatter3D(c[:,0], c[:,1], c[:,2],c = labels, cmap ='rainbow')\n"
   ]
  },
  {
   "cell_type": "code",
   "execution_count": null,
   "metadata": {},
   "outputs": [],
   "source": [
    "linkage_data = linkage(c, method='average', metric='euclidean')\n",
    "dendrogram(linkage_data)\n",
    "plt.show()"
   ]
  },
  {
   "cell_type": "code",
   "execution_count": null,
   "metadata": {},
   "outputs": [],
   "source": []
  },
  {
   "cell_type": "code",
   "execution_count": null,
   "metadata": {},
   "outputs": [],
   "source": [
    "silhouette_scores = []\n",
    "s = []\n",
    "x=0.005\n",
    "for m in range(20):\n",
    "    s.append(x)\n",
    "    hierarchical_cluster = AgglomerativeClustering(n_clusters=None, distance_threshold=x, affinity='euclidean', linkage='average')\n",
    "    silhouette_scores.append(silhouette_score(c, hierarchical_cluster.fit_predict(c)))\n",
    "    x=x+0.001\n",
    "plt.plot(s, silhouette_scores, marker='o')"
   ]
  },
  {
   "cell_type": "code",
   "execution_count": null,
   "metadata": {},
   "outputs": [],
   "source": [
    "hierarchical_cluster = AgglomerativeClustering(n_clusters=None, distance_threshold=0.01, affinity='manhattan', linkage='average')\n",
    "labels = hierarchical_cluster.fit_predict(c)\n",
    "ax  = plt.axes(projection =\"3d\")\n",
    "ax.scatter3D(c[:,0], c[:,1], c[:,2],c = labels, cmap ='rainbow')\n"
   ]
  },
  {
   "cell_type": "code",
   "execution_count": null,
   "metadata": {},
   "outputs": [],
   "source": [
    "linkage_data = linkage(c, method='average', metric='cosine')\n",
    "dendrogram(linkage_data)\n",
    "plt.show()"
   ]
  },
  {
   "cell_type": "code",
   "execution_count": null,
   "metadata": {},
   "outputs": [],
   "source": []
  },
  {
   "cell_type": "code",
   "execution_count": null,
   "metadata": {
    "scrolled": false
   },
   "outputs": [],
   "source": [
    "silhouette_scores = []\n",
    "s = []\n",
    "x=0.05\n",
    "for m in range(35):    \n",
    "    s.append(x)\n",
    "    hierarchical_cluster = AgglomerativeClustering(n_clusters=None, distance_threshold=x, affinity='cosine', linkage='average')\n",
    "    silhouette_scores.append(silhouette_score(c, hierarchical_cluster.fit_predict(c)))\n",
    "    x=x+0.001\n",
    "plt.plot(s, silhouette_scores, marker='o')"
   ]
  },
  {
   "cell_type": "code",
   "execution_count": null,
   "metadata": {},
   "outputs": [],
   "source": [
    "hierarchical_cluster = AgglomerativeClustering(n_clusters=None, distance_threshold=0.055, affinity='cosine', linkage='average')\n",
    "labels = hierarchical_cluster.fit_predict(c)\n",
    "ax  = plt.axes(projection =\"3d\")\n",
    "ax.scatter3D(c[:,0], c[:,1], c[:,2],c = labels, cmap ='rainbow')"
   ]
  },
  {
   "cell_type": "code",
   "execution_count": null,
   "metadata": {},
   "outputs": [],
   "source": [
    "linkage_data = linkage(c, method='single', metric='euclidean')\n",
    "dendrogram(linkage_data)\n",
    "plt.show()"
   ]
  },
  {
   "cell_type": "code",
   "execution_count": null,
   "metadata": {},
   "outputs": [],
   "source": []
  },
  {
   "cell_type": "code",
   "execution_count": null,
   "metadata": {},
   "outputs": [],
   "source": [
    "silhouette_scores = []\n",
    "s = []\n",
    "x=0.004\n",
    "for m in range(15):\n",
    "    s.append(x)\n",
    "    hierarchical_cluster = AgglomerativeClustering(n_clusters=None, distance_threshold=x, affinity='euclidean', linkage='single')\n",
    "    silhouette_scores.append(silhouette_score(c, hierarchical_cluster.fit_predict(c)))\n",
    "    x=x+0.0005\n",
    "plt.plot(s, silhouette_scores, marker='o')"
   ]
  },
  {
   "cell_type": "code",
   "execution_count": null,
   "metadata": {},
   "outputs": [],
   "source": [
    "hierarchical_cluster = AgglomerativeClustering(n_clusters=None, distance_threshold=0.0055, affinity='euclidean', linkage='single')\n",
    "labels = hierarchical_cluster.fit_predict(c)\n",
    "ax  = plt.axes(projection =\"3d\")\n",
    "ax.scatter3D(c[:,0], c[:,1], c[:,2],c = labels, cmap ='rainbow')\n"
   ]
  },
  {
   "cell_type": "code",
   "execution_count": null,
   "metadata": {},
   "outputs": [],
   "source": [
    "linkage_data = linkage(c, method='single', metric='cityblock')\n",
    "dendrogram(linkage_data)\n",
    "plt.show()"
   ]
  },
  {
   "cell_type": "code",
   "execution_count": null,
   "metadata": {},
   "outputs": [],
   "source": []
  },
  {
   "cell_type": "code",
   "execution_count": null,
   "metadata": {},
   "outputs": [],
   "source": [
    "silhouette_scores = []\n",
    "s = []\n",
    "x=0.005\n",
    "for m in range(20):\n",
    "    s.append(x)\n",
    "    hierarchical_cluster = AgglomerativeClustering(n_clusters=None, distance_threshold=x, affinity='manhattan', linkage='single')\n",
    "    silhouette_scores.append(silhouette_score(c, hierarchical_cluster.fit_predict(c)))\n",
    "    x=x+0.0005\n",
    "plt.plot(s, silhouette_scores, marker='o')"
   ]
  },
  {
   "cell_type": "code",
   "execution_count": null,
   "metadata": {},
   "outputs": [],
   "source": [
    "hierarchical_cluster = AgglomerativeClustering(n_clusters=None, distance_threshold=0.008, affinity='manhattan', linkage='single')\n",
    "labels = hierarchical_cluster.fit_predict(c)\n",
    "ax  = plt.axes(projection =\"3d\")\n",
    "ax.scatter3D(c[:,0], c[:,1], c[:,2],c = labels, cmap ='rainbow')\n",
    "print(\"k= \"+str(i))"
   ]
  },
  {
   "cell_type": "code",
   "execution_count": null,
   "metadata": {},
   "outputs": [],
   "source": [
    "linkage_data = linkage(c, method='single', metric='cosine')\n",
    "dendrogram(linkage_data)\n",
    "plt.show()"
   ]
  },
  {
   "cell_type": "code",
   "execution_count": null,
   "metadata": {},
   "outputs": [],
   "source": []
  },
  {
   "cell_type": "code",
   "execution_count": null,
   "metadata": {
    "scrolled": false
   },
   "outputs": [],
   "source": [
    "silhouette_scores = []\n",
    "s = []\n",
    "x=0.005\n",
    "for m in range(20):\n",
    "    s.append(x)\n",
    "    hierarchical_cluster = AgglomerativeClustering(n_clusters=None, distance_threshold=x, affinity='cosine', linkage='single')\n",
    "    silhouette_scores.append(silhouette_score(c, hierarchical_cluster.fit_predict(c)))\n",
    "    x=x+0.001\n",
    "plt.plot(s, silhouette_scores, marker='o')"
   ]
  },
  {
   "cell_type": "code",
   "execution_count": null,
   "metadata": {},
   "outputs": [],
   "source": [
    "hierarchical_cluster = AgglomerativeClustering(n_clusters=None, distance_threshold=0.005, affinity='cosine', linkage='single')\n",
    "labels = hierarchical_cluster.fit_predict(c)\n",
    "ax  = plt.axes(projection =\"3d\")\n",
    "ax.scatter3D(c[:,0], c[:,1], c[:,2],c = labels, cmap ='rainbow')"
   ]
  },
  {
   "cell_type": "code",
   "execution_count": null,
   "metadata": {
    "scrolled": false
   },
   "outputs": [],
   "source": [
    "silhouette_scores = []\n",
    "s = []\n",
    "e=0.005\n",
    "n=1\n",
    "for m in range(18):\n",
    "    #print(\"m \"+str(m))\n",
    "    n=1\n",
    "    for i in range(10):\n",
    "        #print(\"i \"+str(i))\n",
    "        s.append(e)\n",
    "        db_default = DBSCAN(eps = e, min_samples = n).fit(c)\n",
    "        silhouette_scores.append(silhouette_score(c, db_default.fit_predict(c)))\n",
    "        n=n+1\n",
    "    e=e+0.001\n",
    "print(e)\n",
    "plt.plot(s,silhouette_scores, marker='o')"
   ]
  },
  {
   "cell_type": "code",
   "execution_count": null,
   "metadata": {},
   "outputs": [],
   "source": [
    "silhouette_scores = []\n",
    "s = []\n",
    "e=0.005\n",
    "n=1\n",
    "for i in range(10):\n",
    "    #print(\"i \"+str(i))\n",
    "    s.append(n)\n",
    "    db_default = DBSCAN(eps = e, min_samples = n).fit(c)\n",
    "    silhouette_scores.append(silhouette_score(c, db_default.fit_predict(c)))\n",
    "    n=n+1\n",
    "print(e)\n",
    "plt.plot(s,silhouette_scores, marker='o')"
   ]
  },
  {
   "cell_type": "code",
   "execution_count": null,
   "metadata": {},
   "outputs": [],
   "source": [
    "e=0.005\n",
    "n=2\n",
    "db_default = DBSCAN(eps = e, min_samples = n).fit(c)\n",
    "labels = db_default.labels_\n",
    "ax  = plt.axes(projection =\"3d\")\n",
    "ax.scatter3D(c[:,0], c[:,1], c[:,2],c = labels, cmap ='rainbow')"
   ]
  },
  {
   "cell_type": "code",
   "execution_count": null,
   "metadata": {},
   "outputs": [],
   "source": [
    "cov_types = ['full', 'tied', 'diag', 'spherical']\n",
    "k=0"
   ]
  },
  {
   "cell_type": "code",
   "execution_count": null,
   "metadata": {},
   "outputs": [],
   "source": [
    "gmm.fit(c)\n",
    "print(cov_types[k])\n",
    "labels = gmm.predict(c)\n",
    "ax  = plt.axes(projection =\"3d\")\n",
    "ax.scatter3D(c[:,0], c[:,1], c[:,2],c = labels, cmap ='rainbow')\n",
    "k=k+1"
   ]
  },
  {
   "cell_type": "code",
   "execution_count": null,
   "metadata": {},
   "outputs": [],
   "source": [
    "gmm.fit(c)\n",
    "print(cov_types[k])\n",
    "labels = gmm.predict(c)\n",
    "ax  = plt.axes(projection =\"3d\")\n",
    "ax.scatter3D(c[:,0], c[:,1], c[:,2],c = labels, cmap ='rainbow')\n",
    "k=k+1"
   ]
  },
  {
   "cell_type": "code",
   "execution_count": null,
   "metadata": {},
   "outputs": [],
   "source": [
    "gmm.fit(c)\n",
    "print(cov_types[k])\n",
    "labels = gmm.predict(c)\n",
    "ax  = plt.axes(projection =\"3d\")\n",
    "ax.scatter3D(c[:,0], c[:,1], c[:,2],c = labels, cmap ='rainbow')\n",
    "k=k+1"
   ]
  },
  {
   "cell_type": "code",
   "execution_count": null,
   "metadata": {},
   "outputs": [],
   "source": [
    "gmm.fit(c)\n",
    "print(cov_types[k])\n",
    "labels = gmm.predict(c)\n",
    "ax  = plt.axes(projection =\"3d\")\n",
    "ax.scatter3D(c[:,0], c[:,1], c[:,2],c = labels, cmap ='rainbow')\n",
    "k=k+1"
   ]
  },
  {
   "cell_type": "code",
   "execution_count": null,
   "metadata": {},
   "outputs": [],
   "source": []
  }
 ],
 "metadata": {
  "colab": {
   "name": "Clustering Project.ipynb",
   "provenance": []
  },
  "kernelspec": {
   "display_name": "Python 3 (ipykernel)",
   "language": "python",
   "name": "python3"
  },
  "language_info": {
   "codemirror_mode": {
    "name": "ipython",
    "version": 3
   },
   "file_extension": ".py",
   "mimetype": "text/x-python",
   "name": "python",
   "nbconvert_exporter": "python",
   "pygments_lexer": "ipython3",
   "version": "3.9.13"
  }
 },
 "nbformat": 4,
 "nbformat_minor": 1
}
